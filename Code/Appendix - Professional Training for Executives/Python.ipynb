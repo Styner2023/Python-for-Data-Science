{
 "cells": [
  {
   "cell_type": "markdown",
   "metadata": {},
   "source": [
    "# Python\n",
    "\n",
    "- We have learned the whole process of data science\n",
    "- You will feel that you always have \"errors\"\n",
    "  - why? because our basics are not strong\n",
    "  - e.g., we miss [ [  ] ], (), {}\n",
    "- Plan from now on:\n",
    "    1. **Python Basics** - so you understand list, dict, tuples\n",
    "    2. **NumPy** - so you understand [:3], what do i mean\n",
    "    3. **Pandas** - for cleaning, for fillna\n",
    "    4. **Matplotlib** - for visualization\n",
    "    5. **Sklearn** - we have many models?  when to use which?\n",
    "       1. Ask you again final exam or final project?\n",
    "          1. Final exam or final project is LIKE yesterday case study\n",
    "    6. **Revisit more case studies**\n",
    "    7. **Deploy**  -> Mr. Tinh request :-)"
   ]
  },
  {
   "cell_type": "markdown",
   "metadata": {},
   "source": [
    "## Let's first talk about python basics"
   ]
  },
  {
   "cell_type": "markdown",
   "metadata": {},
   "source": [
    "### 1. How to print"
   ]
  },
  {
   "cell_type": "code",
   "execution_count": 1,
   "metadata": {},
   "outputs": [
    {
     "name": "stdout",
     "output_type": "stream",
     "text": [
      "hello\n"
     ]
    }
   ],
   "source": [
    "#1. how to print\n",
    "\n",
    "print(\"hello\")"
   ]
  },
  {
   "cell_type": "code",
   "execution_count": 2,
   "metadata": {},
   "outputs": [
    {
     "name": "stdout",
     "output_type": "stream",
     "text": [
      "a: 5\n"
     ]
    }
   ],
   "source": [
    "a = 5\n",
    "\n",
    "#this is called format-string\n",
    "print(f\"a: {a}\")"
   ]
  },
  {
   "cell_type": "code",
   "execution_count": 3,
   "metadata": {},
   "outputs": [
    {
     "name": "stdout",
     "output_type": "stream",
     "text": [
      "a: 5.23\n"
     ]
    }
   ],
   "source": [
    "a = 5.23333223232\n",
    "\n",
    "#anything follow by a colon (:) means how you want to format\n",
    "#.2f means 2 decimals\n",
    "print(f\"a: {a:.2f}\")"
   ]
  },
  {
   "cell_type": "code",
   "execution_count": 11,
   "metadata": {},
   "outputs": [
    {
     "name": "stdout",
     "output_type": "stream",
     "text": [
      "Age   Gender         \n",
      "   15Male           \n",
      "20   Female         \n"
     ]
    }
   ],
   "source": [
    "age1, age2 = 15, 20\n",
    "gender1, gender2 = \"Male\", \"Female\"\n",
    "\n",
    "#so i can do left align or right align using (< or >)\n",
    "print(f\"{'Age':<6}{'Gender':<15}\")\n",
    "print(f\"{age1:>5}{gender1:<15}\")\n",
    "print(f\"{age2:<5}{gender2:<15}\")"
   ]
  },
  {
   "cell_type": "markdown",
   "metadata": {},
   "source": [
    "### 2. If elif else"
   ]
  },
  {
   "cell_type": "code",
   "execution_count": null,
   "metadata": {},
   "outputs": [],
   "source": [
    "a = 9\n",
    "b = 5\n",
    "c = 3\n",
    "\n",
    "#a, b, c = 9, 5, 3     ==> multiple assignments in one line\n",
    "\n",
    "'''\n",
    "if comparison:\n",
    "    true do something  #<---the indentation is NEEDED\n",
    "elif comparison:\n",
    "    true do something\n",
    "else:\n",
    "    otherwise do this\n",
    "'''\n",
    "\n",
    "if (a > 9):  #you DON'T REALLY NEED THE BRACKET, but i put it for readability\n",
    "    print(\"a is greater than 9\")\n",
    "elif (b > 5):  #you can HAVE more than one elif (if you don't have elif, no error)\n",
    "    print(\"b is greater than 5\")\n",
    "else:          #but you can only have ONE else (if you don't have else, no error)\n",
    "    print(\"otherwise, this will be printed\")\n",
    "    \n",
    "#exercise, if grade > 90, A,  >80 B+, >70 B, otherwise C+;   \n",
    "# use\n",
    "#           grade = int(input(\"Please input grade; only number!\"))\n",
    "# note:  input() gives you string!, so you need to convert to int\n",
    "# to get input from user"
   ]
  },
  {
   "cell_type": "markdown",
   "metadata": {},
   "source": [
    "### 3. While loop"
   ]
  },
  {
   "cell_type": "code",
   "execution_count": null,
   "metadata": {},
   "outputs": [],
   "source": [
    "'''\n",
    "format:\n",
    "\n",
    "while (this is still true):\n",
    "    do this\n",
    "'''\n",
    "\n",
    "a = 5\n",
    "\n",
    "while (a < 7): #as long as a is less than 7, do below\n",
    "    print(f\"a is not greater than 7 yet: {a}\")\n",
    "    a = a + 1\n"
   ]
  },
  {
   "cell_type": "code",
   "execution_count": 1,
   "metadata": {},
   "outputs": [
    {
     "name": "stdout",
     "output_type": "stream",
     "text": [
      "Too high\n",
      "Too low\n",
      "Too low\n",
      "Too high\n",
      "Too low\n",
      "Yay!\n"
     ]
    }
   ],
   "source": [
    "#exercise, create a secret number; let user guess the number; if the number is\n",
    "#too small, print(\"Too small\"), if is too big, print(\"Too big\")\n",
    "#if ok, stop  (Hint: you can use break to stop the whole while loop)\n",
    "\n",
    "#if you want to randomize secret num, use import random, then random.randint(low, high)\n",
    "\n",
    "import random\n",
    "\n",
    "secret = random.randint(0, 100)\n",
    "# num = 999999  #if you use while(True),no need this \n",
    "\n",
    "while (True):  #here you can also do while(True), because break will break the while\n",
    "    num = int(input(\"Input a num 0 to 100\"))\n",
    "    if num > secret:\n",
    "        print(\"Too high\")\n",
    "    elif num < secret:\n",
    "        print(\"Too low\")\n",
    "    else:\n",
    "        print(\"Yay!\")\n",
    "        break"
   ]
  },
  {
   "cell_type": "markdown",
   "metadata": {},
   "source": [
    "### 4. List"
   ]
  },
  {
   "cell_type": "code",
   "execution_count": 2,
   "metadata": {},
   "outputs": [],
   "source": [
    "#list can hold collection of data\n",
    "#list uses square bracket []\n",
    "\n",
    "my_list = [\"Chaky\", \"Tinh\", \"John\", \"Anh\", \"Hai\"]"
   ]
  },
  {
   "cell_type": "code",
   "execution_count": 3,
   "metadata": {},
   "outputs": [],
   "source": [
    "my_list = [1, 2, 3, 99, 201]"
   ]
  },
  {
   "cell_type": "code",
   "execution_count": 4,
   "metadata": {},
   "outputs": [],
   "source": [
    "my_list = [1, \"Chaky\", True, 1.0]"
   ]
  },
  {
   "cell_type": "code",
   "execution_count": 5,
   "metadata": {},
   "outputs": [
    {
     "data": {
      "text/plain": [
       "1"
      ]
     },
     "execution_count": 5,
     "metadata": {},
     "output_type": "execute_result"
    }
   ],
   "source": [
    "#how to access\n",
    "\n",
    "#count from 0\n",
    "\n",
    "my_list[0]  #try 1, 2, 3"
   ]
  },
  {
   "cell_type": "code",
   "execution_count": 7,
   "metadata": {},
   "outputs": [
    {
     "data": {
      "text/plain": [
       "[1, 'Chaky', True, 1.0]"
      ]
     },
     "execution_count": 7,
     "metadata": {},
     "output_type": "execute_result"
    }
   ],
   "source": [
    "my_list"
   ]
  },
  {
   "cell_type": "code",
   "execution_count": 6,
   "metadata": {},
   "outputs": [
    {
     "data": {
      "text/plain": [
       "[1, 'Chaky']"
      ]
     },
     "execution_count": 6,
     "metadata": {},
     "output_type": "execute_result"
    }
   ],
   "source": [
    "#[1, 'Chaky', True, 1.0]\n",
    "\n",
    "#if you want multiple items\n",
    "#format: [start:stop:step]  #NOTE: it will not include stop! \n",
    "# stop is exclusive, NOT inclusive\n",
    "#tips: you can also count backward, -1, -2, and so on\n",
    "\n",
    "my_list[0:2]\n",
    "#this is very important; because it's a\n",
    "#fundamental way to select data in list, numpy\n",
    "#pandas, and even torch tensor\n",
    "\n",
    "#exercise: try to get True and 1.0\n",
    "\n",
    "#many ways:\n",
    "#1. my_list[2:4]\n",
    "#2. my_list[2:]\n",
    "#3. my_list[-2:4]\n",
    "#4. my_list[-2:]\n",
    "\n",
    "#[1, 'Chaky', True, 1.0]\n",
    "\n",
    "#challenge: try to get 1 and True, using step = 2\n",
    "#many ways:\n",
    "#1. my_list[0::2]\n",
    "#2. my_list[ ::2]"
   ]
  },
  {
   "cell_type": "code",
   "execution_count": 8,
   "metadata": {},
   "outputs": [],
   "source": [
    "#how to add or change\n",
    "my_list = [1, 2, 3]"
   ]
  },
  {
   "cell_type": "code",
   "execution_count": 9,
   "metadata": {},
   "outputs": [
    {
     "data": {
      "text/plain": [
       "[1, 2, 3, 4]"
      ]
     },
     "execution_count": 9,
     "metadata": {},
     "output_type": "execute_result"
    }
   ],
   "source": [
    "#add\n",
    "my_list.append(4)\n",
    "my_list"
   ]
  },
  {
   "cell_type": "code",
   "execution_count": 10,
   "metadata": {},
   "outputs": [
    {
     "data": {
      "text/plain": [
       "[99, 2, 3, 4]"
      ]
     },
     "execution_count": 10,
     "metadata": {},
     "output_type": "execute_result"
    }
   ],
   "source": [
    "#change\n",
    "my_list[0] = 99\n",
    "my_list"
   ]
  },
  {
   "cell_type": "code",
   "execution_count": 11,
   "metadata": {},
   "outputs": [
    {
     "data": {
      "text/plain": [
       "[99, 2, 3]"
      ]
     },
     "execution_count": 11,
     "metadata": {},
     "output_type": "execute_result"
    }
   ],
   "source": [
    "#remove\n",
    "#format: .remove(value)\n",
    "my_list.remove(4)  #NOT index, 4 here means value\n",
    "\n",
    "my_list"
   ]
  },
  {
   "cell_type": "code",
   "execution_count": 12,
   "metadata": {},
   "outputs": [
    {
     "data": {
      "text/plain": [
       "[2, 3]"
      ]
     },
     "execution_count": 12,
     "metadata": {},
     "output_type": "execute_result"
    }
   ],
   "source": [
    "#but if you want to delete using index, use del\n",
    "#del list[index]\n",
    "del my_list[0]  #will delete the first index guy, which is 99\n",
    "\n",
    "my_list"
   ]
  },
  {
   "cell_type": "code",
   "execution_count": 13,
   "metadata": {},
   "outputs": [],
   "source": [
    "#insert will push elements to the right\n",
    "#format: insert(index, value)\n",
    "my_list.insert(1, 99999)"
   ]
  },
  {
   "cell_type": "code",
   "execution_count": 14,
   "metadata": {},
   "outputs": [
    {
     "data": {
      "text/plain": [
       "[2, 99999, 3]"
      ]
     },
     "execution_count": 14,
     "metadata": {},
     "output_type": "execute_result"
    }
   ],
   "source": [
    "my_list"
   ]
  },
  {
   "cell_type": "code",
   "execution_count": 15,
   "metadata": {},
   "outputs": [
    {
     "name": "stdout",
     "output_type": "stream",
     "text": [
      "99999 in my list\n"
     ]
    }
   ],
   "source": [
    "#check if some elements is inside, using in\n",
    "\n",
    "if 99999 in my_list:  #try if 99999 not in my_list:\n",
    "    print(\"99999 in my list\")"
   ]
  },
  {
   "cell_type": "code",
   "execution_count": 16,
   "metadata": {},
   "outputs": [
    {
     "name": "stdout",
     "output_type": "stream",
     "text": [
      "2\n",
      "99999\n",
      "3\n"
     ]
    }
   ],
   "source": [
    "#how to loop each element:\n",
    "#format:  for anyname in yourlist:\n",
    "\n",
    "for each_num in my_list:\n",
    "    print(each_num)"
   ]
  },
  {
   "cell_type": "code",
   "execution_count": 17,
   "metadata": {},
   "outputs": [
    {
     "name": "stdout",
     "output_type": "stream",
     "text": [
      "0       2\n",
      "1       99999\n",
      "2       3\n"
     ]
    }
   ],
   "source": [
    "#if you want counter\n",
    "#format:  for index, anyname in enumerate(yourlist):\n",
    "for index, each_num in enumerate(my_list):\n",
    "    print(index, \"     \", each_num)\n"
   ]
  },
  {
   "cell_type": "code",
   "execution_count": 19,
   "metadata": {},
   "outputs": [
    {
     "name": "stdout",
     "output_type": "stream",
     "text": [
      "Current list: [1]\n",
      "Exist. Try again\n",
      "Current list: [1]\n",
      "Program Exited (0)\n"
     ]
    }
   ],
   "source": [
    "#Exercise:  ask user for number, \n",
    "# add to the list if the list does not contain that number\n",
    "# if it contains the number, tell user to try again\n",
    "# if user input 0, exit the program\n",
    "\n",
    "#create a empty list\n",
    "my_list = []\n",
    "\n",
    "while(True):\n",
    "    num = int(input(\"Input a number: (0 to exit)\"))\n",
    "    if num == 0:\n",
    "        print(\"Program Exited (0)\")\n",
    "        break\n",
    "    else: \n",
    "        if (num not in my_list):\n",
    "            my_list.append(num)\n",
    "        else:\n",
    "            print(\"Exist. Try again\")\n",
    "    print(f\"Current list: {my_list}\")\n",
    "    \n",
    "#print the maximum of the list (no function)\n",
    "max_num = 0  #use max, try not to, because max is a function name\n",
    "for num in my_list:\n",
    "    if num > max_num:\n",
    "        max_num = num\n",
    "print(f\"Max: {max_num}\")\n",
    "\n",
    "#print only the even number\n",
    "for num in my_list:\n",
    "    if num % 2 == 0:\n",
    "        print(num)"
   ]
  },
  {
   "cell_type": "code",
   "execution_count": 23,
   "metadata": {},
   "outputs": [
    {
     "name": "stdout",
     "output_type": "stream",
     "text": [
      "3\n"
     ]
    },
    {
     "data": {
      "text/plain": [
       "['b', 'n', 'a', 'n', 'a']"
      ]
     },
     "execution_count": 23,
     "metadata": {},
     "output_type": "execute_result"
    }
   ],
   "source": [
    "a = \"banana\"\n",
    "count = 0\n",
    "for letter in a:\n",
    "    if (letter == 'a'):\n",
    "        count = count + 1\n",
    "\n",
    "print(count)\n",
    "\n",
    "a_list = list(a)\n",
    "a_list.remove('a')\n",
    "a_list"
   ]
  },
  {
   "cell_type": "code",
   "execution_count": 20,
   "metadata": {},
   "outputs": [
    {
     "data": {
      "text/plain": [
       "'C'"
      ]
     },
     "execution_count": 20,
     "metadata": {},
     "output_type": "execute_result"
    }
   ],
   "source": [
    "#Do a hangman game. \n",
    "#ask user for a letter\n",
    "#1. if the letter is inside the secret, print yay, and cut the letter\n",
    "    #many ways:, \n",
    "        #1. you can first convert to list, and use remove \n",
    "            # Note: (remove only remove the first guy)\n",
    "        #2. you can use secret.replace(letter, \"\")\n",
    "#2. if the letter is NOT inside the secret, penalty + 1, \n",
    "    #2.1 if penalty = 5, game over\n",
    "#3. if the len(secret) = 0, you win\n",
    "#optionally, you can check whether is a letter using .alpha, e.g.,   \n",
    "#              letter.isalpha() and len(letter)==1\n",
    "\n",
    "secret = \"banana\"\n",
    "#convert to list so i can use remove\n",
    "secret_list = list(secret)\n",
    "penalty = 0\n",
    "\n",
    "#as long as it's true\n",
    "while(True):\n",
    "    #ask user for letter\n",
    "    letter = input(\"Give me a letter\")\n",
    "    if letter.isalpha() and len(letter) == 1:\n",
    "        #as long as the letter is inside secret\n",
    "        #NOTE: you can also use secret.replace(letter, \"\")\n",
    "        if letter in secret_list:\n",
    "            while letter in secret_list:\n",
    "                #remove it\n",
    "                secret_list.remove(letter)\n",
    "            print(f\"Letter {letter} removed!\")\n",
    "        #if the letter is NOT inside secret\n",
    "        #penalty = penalty + 1\n",
    "        else:\n",
    "            penalty = penalty + 1\n",
    "            print(f\"Sorry!  -1 point!  Current penalty: {penalty}.\")\n",
    "        \n",
    "        print(f\"Secret: {secret_list}\")\n",
    "        #print my secret, (just for cheating)\n",
    "        \n",
    "        #if len(secret) = 0, win, and break\n",
    "        if(len(secret_list) == 0):\n",
    "            print(\"you win!\")\n",
    "            break\n",
    "        elif(penalty == 5):\n",
    "            print(\"you lose!\")\n",
    "            break\n",
    "    else:\n",
    "        continue #skip everything below and jump to while()"
   ]
  },
  {
   "cell_type": "markdown",
   "metadata": {},
   "source": [
    "### Tuples\n",
    "- Tuples is actually English words, which means a list of something\n",
    "- Tuples is ALMOST LIKE LIST, except that it is UNCHANGEABLE\n",
    "- Another difference with List, is that, instead of using [], Tuples use (), or even nothing but separated with commas."
   ]
  },
  {
   "cell_type": "code",
   "execution_count": 1,
   "metadata": {},
   "outputs": [
    {
     "data": {
      "text/plain": [
       "tuple"
      ]
     },
     "execution_count": 1,
     "metadata": {},
     "output_type": "execute_result"
    }
   ],
   "source": [
    "#let's create a tuple of 1, 2, 3\n",
    "a = (1, 2, 3)\n",
    "type(a)"
   ]
  },
  {
   "cell_type": "code",
   "execution_count": 2,
   "metadata": {},
   "outputs": [
    {
     "data": {
      "text/plain": [
       "tuple"
      ]
     },
     "execution_count": 2,
     "metadata": {},
     "output_type": "execute_result"
    }
   ],
   "source": [
    "#create a tuple of 1, 2, 3 WITHOUT ()\n",
    "a = 1, 2, 3\n",
    "type(a)"
   ]
  },
  {
   "cell_type": "code",
   "execution_count": 3,
   "metadata": {},
   "outputs": [
    {
     "name": "stdout",
     "output_type": "stream",
     "text": [
      "1 2 3\n"
     ]
    }
   ],
   "source": [
    "#you can unpack tuple like this:\n",
    "first_num, second_num, third_num = a\n",
    "print(first_num, second_num, third_num)"
   ]
  },
  {
   "cell_type": "code",
   "execution_count": 10,
   "metadata": {},
   "outputs": [
    {
     "name": "stdout",
     "output_type": "stream",
     "text": [
      "0 : 1 2 3 4\n",
      "1 : 5 6 7 8\n",
      "2 : 7 8 9 10\n"
     ]
    }
   ],
   "source": [
    "#let's create a list of tuples\n",
    "a = [(1, 2, 3, 4), (5, 6, 7, 8), (7, 8, 9, 10)]\n",
    "\n",
    "#what I want to do is to loop each of this tuple, \n",
    "#and print the first, second, third num\n",
    "for index, (first_num, second_num, third_num, fourth_num) in enumerate(a):\n",
    "    print(index, \":\",  first_num, second_num, third_num, fourth_num)\n",
    "    \n",
    "#try remove the parenthesis ()\n",
    "#let's try to combine with enumerate\n",
    "#very powerful thing that you need to know,\n",
    "#because this programming pattern is used a lot...\n",
    "#i wanna add the fourth number - Exercise - please put on the chat...\n",
    "#5 mins...."
   ]
  },
  {
   "cell_type": "code",
   "execution_count": 12,
   "metadata": {},
   "outputs": [],
   "source": [
    "#tuple CANNOT BE changed....\n",
    "# a = (1, 2, 3)\n",
    "# a[0] = 99\n",
    "\n",
    "#cannot be changed: is actually a benefit\n",
    "#because sometimes we want a list of something that does not change\n",
    "#and also, tuple is much more efficient than list..."
   ]
  },
  {
   "cell_type": "markdown",
   "metadata": {},
   "source": [
    "### Dictionaries\n",
    "- this is very very important\n",
    "- int, float, boolean, string - primitive/fundamental data structures\n",
    "- list, tuple, dictionaries, (much more) - composite data structures\n",
    "  - they are kinda interchangeable\n",
    "  - so it's important to know when to use which....\n",
    "    - they all can hold a list of information....\n",
    "\n",
    "\n",
    "- dictionaries is suitable for \"pair\" of information\n",
    "  - key : value, e.g., gender: Male, age: 40, name: Chaky"
   ]
  },
  {
   "cell_type": "code",
   "execution_count": null,
   "metadata": {},
   "outputs": [],
   "source": [
    "#format: {key:value, key:value, key:value, etc....}\n",
    "chaky = {\n",
    "    \"name\"  : \"Chaky\",\n",
    "    \"age\"   :  40,\n",
    "    \"gender\": \"Male\"\n",
    "}\n",
    "#very quick exercise, can you try make a dictionary of yourself\n",
    "#and put on the chat....\n",
    "\n",
    "#some challenge: create a list of two person....\n",
    "#put on the chat...\n",
    "\n",
    "#one slight thing: it's good practice to use \"lowercase\" for variable\n",
    "#example: instead of Trung= ; trung ="
   ]
  },
  {
   "cell_type": "code",
   "execution_count": 13,
   "metadata": {},
   "outputs": [],
   "source": [
    "#it's also possible to create a list of dictionaries\n",
    "chaky = {\n",
    "    \"name\"  : \"Chaky\",\n",
    "    \"age\"   :  40,\n",
    "    \"gender\": \"Male\"\n",
    "    }\n",
    "y     = {\n",
    "    \"name\":\"Y\",\n",
    "    \"age\":20,\n",
    "    \"gender\":\"Female\"\n",
    "    }\n",
    "\n",
    "truong = {\n",
    "    \"name\" : \"Truong\",\n",
    "    \"age\" : 35,\n",
    "    \"gender\" : \"Male\"\n",
    "}\n",
    "\n",
    "person = [\n",
    "    chaky, y, truong\n",
    "]"
   ]
  },
  {
   "cell_type": "code",
   "execution_count": 14,
   "metadata": {},
   "outputs": [
    {
     "data": {
      "text/plain": [
       "{'name': 'Chaky', 'age': 40, 'gender': 'Male'}"
      ]
     },
     "execution_count": 14,
     "metadata": {},
     "output_type": "execute_result"
    }
   ],
   "source": [
    "#firstly how to access the item\n",
    "chaky"
   ]
  },
  {
   "cell_type": "code",
   "execution_count": 15,
   "metadata": {},
   "outputs": [
    {
     "data": {
      "text/plain": [
       "40"
      ]
     },
     "execution_count": 15,
     "metadata": {},
     "output_type": "execute_result"
    }
   ],
   "source": [
    "#format: dict[key]\n",
    "chaky['age']"
   ]
  },
  {
   "cell_type": "code",
   "execution_count": 19,
   "metadata": {},
   "outputs": [
    {
     "name": "stdout",
     "output_type": "stream",
     "text": [
      "name Chaky\n",
      "age 40\n",
      "gender Male\n",
      "{1: 1, 2: 4, 3: 9, 4: 16, 5: 25}\n"
     ]
    }
   ],
   "source": [
    "#how to loop dictionary?\n",
    "for anything1, anything2 in chaky.items():\n",
    "    print(anything1, anything2)\n",
    "    \n",
    "#can you guys write a loop to loop your own dictionary?\n",
    "#exercise, can you use enumerate() to add the index\n",
    "#and put on the chat....\n",
    "#6:40 - 6:50\n",
    "\n",
    "#Exercise:\n",
    "#1. get a positive number from the user\n",
    "#   e.g., 5\n",
    "#Then I want you to create a dictionary that looks like this:\n",
    "#{1 : 1, 2 : 4, 3 : 9, 4 : 16, 5 : 25}\n",
    "#Hint:\n",
    "#first, create an empty dict by doing \n",
    "#           data = dict()\n",
    "#           data = {}\n",
    "#second, if you want to add to the dictionary\n",
    "#           data[key] = value\n",
    "#if you finish this, please put on the chat\n",
    "#and then we can take a break\n",
    "\n",
    "#steps:\n",
    "data = {}\n",
    "#use input() to get the number from the user\n",
    "num = int(input(\"Input a positive number: \"))\n",
    "#then you need to loop from 1 to 5 - num\n",
    "for i in range(1, num+1):\n",
    "#do dict[num] = num * num\n",
    "    data[i] = i ** 2\n",
    "#finish!\n",
    "print(data)\n",
    "\n",
    "#take a break - come back at 19:00"
   ]
  },
  {
   "cell_type": "code",
   "execution_count": null,
   "metadata": {},
   "outputs": [],
   "source": [
    "#wants to use list comprehension\n",
    "#warning: it will look very different, because this becomes a list of dictionary\n",
    "\n",
    "#it won't work....\n",
    "#because the square bracket will confuse one another....\n",
    "# data = {}\n",
    "# something = [ data[i] = i ** 2 for i in range(5) ]"
   ]
  },
  {
   "cell_type": "markdown",
   "metadata": {},
   "source": [
    "### Function\n",
    "\n",
    "- is one of the core concept of programming\n",
    "- function is a bunch of code that is commonly reused, so you put them inside a function, so you can reuse...\n",
    "- function can be created using \"def\""
   ]
  },
  {
   "cell_type": "code",
   "execution_count": 20,
   "metadata": {},
   "outputs": [
    {
     "name": "stdout",
     "output_type": "stream",
     "text": [
      "6\n"
     ]
    }
   ],
   "source": [
    "#let's create a function that input:number, output:number*2\n",
    "#format: def functionname(parameters):\n",
    "#             code statements\n",
    "\n",
    "#this function name is square, and it expects one input\n",
    "def square(x):\n",
    "    return x * 2 #return specify what this function output to the caller...\n",
    "\n",
    "output = square(3)  #3 is the x; output is x * 2\n",
    "\n",
    "print(output)"
   ]
  },
  {
   "cell_type": "code",
   "execution_count": 23,
   "metadata": {},
   "outputs": [
    {
     "data": {
      "text/plain": [
       "False"
      ]
     },
     "execution_count": 23,
     "metadata": {},
     "output_type": "execute_result"
    }
   ],
   "source": [
    "#Exercise 1.  Write a function that return whether the number can be divided by 2\n",
    "#   for example, input:2, output:true;   input:3, output:false\n",
    "#7:10 - 7:15\n",
    "a = 3\n",
    "def is_even(x):\n",
    "    return x % 2 == 0\n",
    "\n",
    "is_even(a)"
   ]
  },
  {
   "cell_type": "code",
   "execution_count": 24,
   "metadata": {},
   "outputs": [
    {
     "data": {
      "text/plain": [
       "19"
      ]
     },
     "execution_count": 24,
     "metadata": {},
     "output_type": "execute_result"
    }
   ],
   "source": [
    "#Exercise 2: Write a function, given a list of numbers, output the maximum number\n",
    "#   you cannot use .max()\n",
    "#   for example: input: [1, 6, 9, 10], output: 10\n",
    "some_list = [1, 5, 2, 19]\n",
    "\n",
    "def max(x):\n",
    "    temp = 0\n",
    "    for num in some_list:\n",
    "        if(num > temp):\n",
    "            temp = num \n",
    "    return num\n",
    "\n",
    "max(some_list)\n"
   ]
  },
  {
   "cell_type": "code",
   "execution_count": 25,
   "metadata": {},
   "outputs": [
    {
     "data": {
      "text/plain": [
       "True"
      ]
     },
     "execution_count": 25,
     "metadata": {},
     "output_type": "execute_result"
    }
   ],
   "source": [
    "#Exercise 3: Write a function, to check whether the string is a palindrome\n",
    "#    for example:  input: racecar, output: True   ;    input: chaky, output: False\n",
    "#    hint: use [::-1]\n",
    "#7:36\n",
    "def palindrome(x):\n",
    "    return x == x[::-1]\n",
    "\n",
    "palindrome(\"racecar\")"
   ]
  },
  {
   "cell_type": "code",
   "execution_count": 70,
   "metadata": {},
   "outputs": [],
   "source": [
    "#Exercise 4: file + function + dictionary\n",
    "#create a file\n",
    "#name : actual name, age : actual age (many lines) \n",
    "\n",
    "#format: open(filename, permission)\n",
    "#permission can be a (append), w (write), a+ (append and read), w+ (write and read)\n",
    "\n",
    "#please open your file\n",
    "\n",
    "#Exercise: \n",
    "# 1. please read the file\n",
    "# 2. please extract the information, and put it into one dictionary\n",
    "# 3. once finish, print the whole dictionary...\n",
    "#put on the chat, you can go to have a break....\n",
    "#come back at 20:10\n",
    "\n",
    "'''\n",
    "name:chaky \n",
    "age:40\n",
    "gender: male\n",
    "hobby:soccer\n",
    "'''"
   ]
  },
  {
   "cell_type": "code",
   "execution_count": 77,
   "metadata": {},
   "outputs": [
    {
     "name": "stdout",
     "output_type": "stream",
     "text": [
      "{'name': 'chaky', 'age': '40', 'gender': 'male', 'hobby': 'soccer'}\n"
     ]
    }
   ],
   "source": [
    "filename = 'data/chaky.txt'\n",
    "f = open(filename)  #if you just want to read, no need any permission....\n",
    "\n",
    "some_dict = dict()\n",
    "for line in f:\n",
    "    key, value = line.split(':')\n",
    "    value = value.replace(\"\\n\", \"\")\n",
    "    some_dict[key] = value.strip()\n",
    "\n",
    "print(some_dict)\n",
    "\n",
    "#very common procedure; imagine you load data from Excel or from database, then put it into some dictionary..."
   ]
  },
  {
   "cell_type": "code",
   "execution_count": 72,
   "metadata": {},
   "outputs": [
    {
     "name": "stdout",
     "output_type": "stream",
     "text": [
      "name:y, age:20\n",
      "\n",
      "['name:y', ' age:20\\n']\n"
     ]
    }
   ],
   "source": [
    "# line = f.readline()\n",
    "# print(line)\n",
    "\n",
    "# split_by_commas = line.split(',')\n",
    "# print(split_by_commas)"
   ]
  },
  {
   "cell_type": "code",
   "execution_count": 62,
   "metadata": {},
   "outputs": [],
   "source": [
    "# f.write(\"\\nhobby:soccer\") #when you call .write(), it will not yet write\n",
    "# f.close() #you have to close the file, to flush what you write to the file...\n",
    "\n",
    "# #please write to your file, your hobby, and put your code on the chat..."
   ]
  },
  {
   "cell_type": "code",
   "execution_count": null,
   "metadata": {},
   "outputs": [],
   "source": [
    "# f.readline()"
   ]
  },
  {
   "cell_type": "code",
   "execution_count": 28,
   "metadata": {},
   "outputs": [
    {
     "data": {
      "text/plain": [
       "''"
      ]
     },
     "execution_count": 28,
     "metadata": {},
     "output_type": "execute_result"
    }
   ],
   "source": [
    "# f.read() #nothing because everything is read already, if you want to start again....\n",
    "#run open() again"
   ]
  },
  {
   "cell_type": "markdown",
   "metadata": {},
   "source": [
    "### Class\n",
    "\n",
    "- this is the core principle of programming\n",
    "- Recall that function is a bunch of code the is reusable\n",
    "- Class is a combination of functions and variables that are reusable\n",
    "\n",
    "- this may be overstated, but when you code for your company, try to ALWAYS THINK how to make your code into class\n",
    "- because class is a very powerful and neat technique....\n",
    "  \n",
    "- class is defined by the keyword `class`"
   ]
  },
  {
   "cell_type": "code",
   "execution_count": 95,
   "metadata": {},
   "outputs": [],
   "source": [
    "#format:\n",
    "#class Classname(class that you want inherit):\n",
    "\n",
    "    #list of data attributes\n",
    "    #list of functions\n",
    "    \n",
    "#class that you want to inherit refers to some python primitive class\n",
    "#it's ok if you don't understand because usually, we just put \"object\"    \n",
    "class Circle(object):  #by practice, classname is capitalized\n",
    "    \n",
    "    #list of fixed data attributes (put whatever we want)\n",
    "    PI     = 3.14  #by practice, all constant is all uppercase\n",
    "\n",
    "    #list of functions\n",
    "    #__init__ : this function name CANNOT CHANGE\n",
    "    #__init__ will be run whenever you create the object, e.g., Circle()\n",
    "    #all functions in class typically have \"self\" as the first parameter\n",
    "    #self refers to itself, so it means, self.PI, self.border\n",
    "    #self.PI is NOT the same as some PI that you define....\n",
    "    def __init__(self, radius, color):   #optional, without init, you can only do Circle() that cannot accept any changes...\n",
    "        self.radius = radius\n",
    "        self.color  = color\n",
    "        \n",
    "    def getArea(self): #pi * r^2\n",
    "        return self.PI * (self.radius ** 2)  #try without self. , it will have error\n",
    "    \n",
    "    def getCircumference(self):\n",
    "        return 2 * self.PI * self.radius\n",
    "\n",
    "#Exercise 1: I want you to add another function to the Circle class, that return the circumference - 2 * PI * radius\n",
    "#Exercise 2: I want you to create a class Rectangle, that have two function - getArea(), and getPerimeter()\n",
    "#20:50"
   ]
  },
  {
   "cell_type": "code",
   "execution_count": 96,
   "metadata": {},
   "outputs": [
    {
     "data": {
      "text/plain": [
       "31.400000000000002"
      ]
     },
     "execution_count": 96,
     "metadata": {},
     "output_type": "execute_result"
    }
   ],
   "source": [
    "#i am creating an instance of circle, that contains these data attributes and functions (if any)\n",
    "#maybe i want this circle1 to have radius = 5\n",
    "circle1 = Circle(radius = 5, color = 'red')\n",
    "circle1.radius\n",
    "circle1.getArea()\n",
    "circle1.getCircumference()"
   ]
  },
  {
   "cell_type": "code",
   "execution_count": 93,
   "metadata": {},
   "outputs": [
    {
     "data": {
      "text/plain": [
       "314.0"
      ]
     },
     "execution_count": 93,
     "metadata": {},
     "output_type": "execute_result"
    }
   ],
   "source": [
    "#maybe i want this circle2 to have radius = 10\n",
    "circle2 = Circle(radius = 10, color = 'blue')\n",
    "circle2.radius\n",
    "circle2.getArea()"
   ]
  },
  {
   "cell_type": "code",
   "execution_count": 98,
   "metadata": {},
   "outputs": [
    {
     "name": "stdout",
     "output_type": "stream",
     "text": [
      "20\n",
      "18\n"
     ]
    }
   ],
   "source": [
    "class Rectangle(object):\n",
    "    \n",
    "    def __init__(self, w, h):\n",
    "        self.w, self.h = w, h\n",
    "        \n",
    "    def getArea(self):\n",
    "        return self.w * self.h\n",
    "    \n",
    "    def getPerimeter(self):\n",
    "        return (self.w + self.h) * 2\n",
    "\n",
    "r = Rectangle(w = 5, h = 4)\n",
    "\n",
    "print(r.getArea())\n",
    "print(r.getPerimeter())"
   ]
  },
  {
   "cell_type": "code",
   "execution_count": 99,
   "metadata": {},
   "outputs": [
    {
     "name": "stdout",
     "output_type": "stream",
     "text": [
      "20\n",
      "18\n"
     ]
    }
   ],
   "source": [
    "class Rectangle(object):\n",
    "    \n",
    "    def __init__(self, w, h):\n",
    "        self.w, self.h = w, h\n",
    "        self.area = self.w * self.h\n",
    "        self.perimeter = (self.w + self.h) * 2\n",
    "\n",
    "r = Rectangle(w = 5, h = 4)\n",
    "\n",
    "print(r.area)\n",
    "print(r.perimeter)"
   ]
  },
  {
   "cell_type": "code",
   "execution_count": null,
   "metadata": {},
   "outputs": [],
   "source": []
  }
 ],
 "metadata": {
  "kernelspec": {
   "display_name": "Python 3.8.6 ('teaching_env')",
   "language": "python",
   "name": "python3"
  },
  "language_info": {
   "codemirror_mode": {
    "name": "ipython",
    "version": 3
   },
   "file_extension": ".py",
   "mimetype": "text/x-python",
   "name": "python",
   "nbconvert_exporter": "python",
   "pygments_lexer": "ipython3",
   "version": "3.8.6"
  },
  "orig_nbformat": 4,
  "vscode": {
   "interpreter": {
    "hash": "becc4c8e5ad229b2591d820334d85e3db0111492344629bf57f272470dce75a5"
   }
  }
 },
 "nbformat": 4,
 "nbformat_minor": 2
}
