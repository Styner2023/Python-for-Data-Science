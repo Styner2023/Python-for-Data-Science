{
 "cells": [
  {
   "cell_type": "markdown",
   "metadata": {},
   "source": [
    "# NumPy\n",
    "\n",
    "- is basically list\n",
    "- NumPy is much faster and efficient than list\n",
    "- NumPy also works like vectors, which is suitable of machine learning"
   ]
  },
  {
   "cell_type": "markdown",
   "metadata": {},
   "source": [
    "## Creation"
   ]
  },
  {
   "cell_type": "code",
   "execution_count": 6,
   "metadata": {},
   "outputs": [
    {
     "data": {
      "text/plain": [
       "'1.23.1'"
      ]
     },
     "execution_count": 6,
     "metadata": {},
     "output_type": "execute_result"
    }
   ],
   "source": [
    "import numpy as np\n",
    "np.__version__"
   ]
  },
  {
   "cell_type": "code",
   "execution_count": 7,
   "metadata": {},
   "outputs": [
    {
     "data": {
      "text/plain": [
       "numpy.ndarray"
      ]
     },
     "execution_count": 7,
     "metadata": {},
     "output_type": "execute_result"
    }
   ],
   "source": [
    "#first, create your list\n",
    "a = [1, 2, 3]\n",
    "\n",
    "#second, use np.array(the list) will create the numpy array\n",
    "numpy_a = np.array(a)\n",
    "\n",
    "type(numpy_a)"
   ]
  },
  {
   "cell_type": "markdown",
   "metadata": {},
   "source": [
    "## how does numpy differ from list"
   ]
  },
  {
   "cell_type": "code",
   "execution_count": 8,
   "metadata": {},
   "outputs": [
    {
     "data": {
      "text/plain": [
       "array(['1', '3.0', 'True', 'Chaky'], dtype='<U32')"
      ]
     },
     "execution_count": 8,
     "metadata": {},
     "output_type": "execute_result"
    }
   ],
   "source": [
    "#1.  NumPy only support one data type for one list\n",
    "\n",
    "#example: list - different types\n",
    "a = [1, 3.0, True, \"Chaky\"]\n",
    "\n",
    "#example: numpy array - one type\n",
    "numpy_a = np.array(a)  #convert everything to string....\n",
    "numpy_a"
   ]
  },
  {
   "cell_type": "code",
   "execution_count": 11,
   "metadata": {},
   "outputs": [
    {
     "data": {
      "text/plain": [
       "dtype('float64')"
      ]
     },
     "execution_count": 11,
     "metadata": {},
     "output_type": "execute_result"
    }
   ],
   "source": [
    "#example: list - float + int\n",
    "a = [1, 3.0, 3.2, 9]\n",
    "\n",
    "#convert this to numpy array\n",
    "numpy_a = np.array(a)  #everything becomes float\n",
    "numpy_a.dtype"
   ]
  },
  {
   "cell_type": "code",
   "execution_count": null,
   "metadata": {},
   "outputs": [],
   "source": [
    "#why NumPy only support one data type?!\n",
    "#this is because NumPy wants to be fast and efficient!"
   ]
  },
  {
   "cell_type": "code",
   "execution_count": 13,
   "metadata": {},
   "outputs": [
    {
     "data": {
      "text/plain": [
       "array([3, 6, 9])"
      ]
     },
     "execution_count": 13,
     "metadata": {},
     "output_type": "execute_result"
    }
   ],
   "source": [
    "#2. NumPy behaves like a vector\n",
    "\n",
    "#list behaves like some object, NOT vectors\n",
    "a = [1, 2, 3]\n",
    "a * 3\n",
    "\n",
    "#NumPy behaves like a vector\n",
    "numpy_a = np.array(a) #a vector of 1, 2, 3\n",
    "numpy_a * 3  #this is basically linear algebra"
   ]
  },
  {
   "cell_type": "markdown",
   "metadata": {},
   "source": [
    "## Selecting and accessing elements"
   ]
  },
  {
   "cell_type": "code",
   "execution_count": 14,
   "metadata": {},
   "outputs": [
    {
     "data": {
      "text/plain": [
       "array([0, 1, 2, 3, 4])"
      ]
     },
     "execution_count": 14,
     "metadata": {},
     "output_type": "execute_result"
    }
   ],
   "source": [
    "numpy_a = np.arange(5)  #this is basically like python range\n",
    "numpy_a"
   ]
  },
  {
   "cell_type": "code",
   "execution_count": 17,
   "metadata": {},
   "outputs": [
    {
     "data": {
      "text/plain": [
       "4"
      ]
     },
     "execution_count": 17,
     "metadata": {},
     "output_type": "execute_result"
    }
   ],
   "source": [
    "#same way as list\n",
    "#format: [start:end:step]  #end is exclusive!\n",
    "\n",
    "#1. I want to get 2\n",
    "numpy_a[2]\n",
    "\n",
    "#2. I want 2 to 4\n",
    "numpy_a[2:5]\n",
    "\n",
    "#3. I want 4\n",
    "numpy_a[-1]"
   ]
  },
  {
   "cell_type": "code",
   "execution_count": 18,
   "metadata": {},
   "outputs": [
    {
     "data": {
      "text/plain": [
       "array([[ 0,  1,  2],\n",
       "       [ 3,  4,  5],\n",
       "       [ 6,  7,  8],\n",
       "       [ 9, 10, 11]])"
      ]
     },
     "execution_count": 18,
     "metadata": {},
     "output_type": "execute_result"
    }
   ],
   "source": [
    "#accessing becomes a bit hard, when is multidimensional\n",
    "numpy_a = np.arange(12).reshape(4, 3)\n",
    "numpy_a\n",
    "\n",
    "#here we have a two-dimensional array of shape (4, 3)\n",
    "#4 rows, and 3 cols"
   ]
  },
  {
   "cell_type": "code",
   "execution_count": 21,
   "metadata": {},
   "outputs": [
    {
     "data": {
      "text/plain": [
       "array([[ 0,  1,  2],\n",
       "       [ 3,  4,  5],\n",
       "       [ 6,  7,  8],\n",
       "       [ 9, 10, 11]])"
      ]
     },
     "execution_count": 21,
     "metadata": {},
     "output_type": "execute_result"
    }
   ],
   "source": [
    "numpy_a"
   ]
  },
  {
   "cell_type": "code",
   "execution_count": 24,
   "metadata": {},
   "outputs": [
    {
     "data": {
      "text/plain": [
       "array([0, 1])"
      ]
     },
     "execution_count": 24,
     "metadata": {},
     "output_type": "execute_result"
    }
   ],
   "source": [
    "#format of accessing\n",
    "#format: [row - start:end:step, col - start:end:step, ]\n",
    "\n",
    "#1. I want the first row\n",
    "numpy_a[0, :]\n",
    "\n",
    "#2. I want the first col\n",
    "numpy_a[:, 0]\n",
    "\n",
    "#what if I want 0, 1\n",
    "#row 0, col 0, 1\n",
    "numpy_a[0, 0:2]\n",
    "\n",
    "#numpy as supports list of index like this (called fancy indexing)\n",
    "numpy_a[0, [0, 1]]\n"
   ]
  },
  {
   "cell_type": "code",
   "execution_count": 26,
   "metadata": {},
   "outputs": [
    {
     "data": {
      "text/plain": [
       "array([[ 0,  1,  2],\n",
       "       [ 3,  4,  5],\n",
       "       [ 6,  7,  8],\n",
       "       [ 9, 10, 11]])"
      ]
     },
     "execution_count": 26,
     "metadata": {},
     "output_type": "execute_result"
    }
   ],
   "source": [
    "numpy_a"
   ]
  },
  {
   "cell_type": "code",
   "execution_count": 29,
   "metadata": {},
   "outputs": [
    {
     "data": {
      "text/plain": [
       "array([11, 10,  9])"
      ]
     },
     "execution_count": 29,
     "metadata": {},
     "output_type": "execute_result"
    }
   ],
   "source": [
    "#Ex 1:  give me 3, 4, 5\n",
    "numpy_a[1]\n",
    "\n",
    "#Ex 2:  give me 10, 11\n",
    "numpy_a[3, -2:]\n",
    "\n",
    "#Ex 3:  give me 2, 4, 6 - hint: use fancy indexing on both rows and cols\n",
    "row = [0, 1, 2]\n",
    "col = [2, 1, 0]\n",
    "numpy_a[row, col]\n",
    "\n",
    "#Ex 4:  give me 11, 10, 9\n",
    "numpy_a[3, [2, 1, 0]] #or numpy_a[3, ::-1]\n",
    "\n",
    "#finish one by one, and put on the chat...."
   ]
  },
  {
   "cell_type": "code",
   "execution_count": 32,
   "metadata": {},
   "outputs": [
    {
     "data": {
      "text/plain": [
       "2"
      ]
     },
     "execution_count": 32,
     "metadata": {},
     "output_type": "execute_result"
    }
   ],
   "source": [
    "#couple function that may be useful\n",
    "\n",
    "#shape\n",
    "numpy_a.shape\n",
    "\n",
    "#size #e.g., 4 * 3 = 12 ==> number of items\n",
    "numpy_a.size\n",
    "\n",
    "#ndim #refers to how many dimension\n",
    "numpy_a.ndim"
   ]
  },
  {
   "cell_type": "markdown",
   "metadata": {},
   "source": [
    "# Masking\n",
    "- usually, to retrieve something based on condition, you need\n",
    "  to use if else, but using masking, you don't have to..."
   ]
  },
  {
   "cell_type": "code",
   "execution_count": 33,
   "metadata": {},
   "outputs": [
    {
     "data": {
      "text/plain": [
       "array([[ 0,  1,  2],\n",
       "       [ 3,  4,  5],\n",
       "       [ 6,  7,  8],\n",
       "       [ 9, 10, 11]])"
      ]
     },
     "execution_count": 33,
     "metadata": {},
     "output_type": "execute_result"
    }
   ],
   "source": [
    "numpy_a"
   ]
  },
  {
   "cell_type": "code",
   "execution_count": 34,
   "metadata": {},
   "outputs": [
    {
     "data": {
      "text/plain": [
       "array([[False, False, False],\n",
       "       [False, False,  True],\n",
       "       [ True,  True,  True],\n",
       "       [ True,  True,  True]])"
      ]
     },
     "execution_count": 34,
     "metadata": {},
     "output_type": "execute_result"
    }
   ],
   "source": [
    "numpy_a > 4  \n",
    "#by putting conditions on numpy array, we got a list of indexes of True and False\n",
    "#we can treat them as fancy indexes"
   ]
  },
  {
   "cell_type": "code",
   "execution_count": 35,
   "metadata": {},
   "outputs": [
    {
     "data": {
      "text/plain": [
       "array([ 5,  6,  7,  8,  9, 10, 11])"
      ]
     },
     "execution_count": 35,
     "metadata": {},
     "output_type": "execute_result"
    }
   ],
   "source": [
    "cond = numpy_a > 4\n",
    "numpy_a[cond]  #this process is called masking....it's WONDERFUL\n",
    "#why, because you don't have to type if/elif...."
   ]
  },
  {
   "cell_type": "code",
   "execution_count": 37,
   "metadata": {},
   "outputs": [
    {
     "data": {
      "text/plain": [
       "array([5, 6, 7, 8, 9])"
      ]
     },
     "execution_count": 37,
     "metadata": {},
     "output_type": "execute_result"
    }
   ],
   "source": [
    "#maybe i want greater than 4, but less than 10\n",
    "cond1 = numpy_a > 4\n",
    "cond2 = numpy_a < 10\n",
    "\n",
    "numpy_a[cond1 & cond2]  #i can use ampersand & to combine unlimited conditions..."
   ]
  },
  {
   "cell_type": "markdown",
   "metadata": {},
   "source": [
    "Masking is A VERY IMPORTANT CONCEPT....it makes data science very very easy and efficient......so please remember them by heart...."
   ]
  },
  {
   "cell_type": "code",
   "execution_count": 38,
   "metadata": {},
   "outputs": [
    {
     "data": {
      "text/plain": [
       "array([[2, 3, 2, 6],\n",
       "       [4, 7, 3, 0],\n",
       "       [1, 5, 4, 1]])"
      ]
     },
     "execution_count": 38,
     "metadata": {},
     "output_type": "execute_result"
    }
   ],
   "source": [
    "#format: np.random.randint(low, high(exlcusive), size=shape)\n",
    "a = np.random.randint(0, 10, size = (3, 4))\n",
    "a"
   ]
  },
  {
   "cell_type": "code",
   "execution_count": 39,
   "metadata": {},
   "outputs": [
    {
     "data": {
      "text/plain": [
       "array([6, 4, 4])"
      ]
     },
     "execution_count": 39,
     "metadata": {},
     "output_type": "execute_result"
    }
   ],
   "source": [
    "#Ex1: get all the numbers less than 5\n",
    "cond = a < 5\n",
    "a[cond]\n",
    "\n",
    "#Ex2: get how many numbers are divisible by 3\n",
    "cond = a % 3 == 0\n",
    "a[cond]\n",
    "\n",
    "#Ex3: get numbers that are greater than 2 and also divisible by 2\n",
    "cond1 = a > 2\n",
    "cond2 = a % 2 == 0\n",
    "a[cond1 & cond2]"
   ]
  },
  {
   "cell_type": "code",
   "execution_count": 41,
   "metadata": {},
   "outputs": [
    {
     "data": {
      "text/plain": [
       "array([[1, 9, 5],\n",
       "       [6, 9, 8]])"
      ]
     },
     "execution_count": 41,
     "metadata": {},
     "output_type": "execute_result"
    }
   ],
   "source": [
    "#want to provide some nice function\n",
    "\n",
    "#np.argwhere\n",
    "numpy_a = np.random.randint(0, 10, size=(2, 3))\n",
    "numpy_a"
   ]
  },
  {
   "cell_type": "code",
   "execution_count": 43,
   "metadata": {},
   "outputs": [
    {
     "data": {
      "text/plain": [
       "array([[0, 1],\n",
       "       [0, 2],\n",
       "       [1, 0],\n",
       "       [1, 1],\n",
       "       [1, 2]])"
      ]
     },
     "execution_count": 43,
     "metadata": {},
     "output_type": "execute_result"
    }
   ],
   "source": [
    "#tells you the index in which meets the criteria\n",
    "np.argwhere(numpy_a > 4)"
   ]
  },
  {
   "cell_type": "code",
   "execution_count": 44,
   "metadata": {},
   "outputs": [
    {
     "data": {
      "text/plain": [
       "(array([0, 0, 1, 1, 1]), array([1, 2, 0, 1, 2]))"
      ]
     },
     "execution_count": 44,
     "metadata": {},
     "output_type": "execute_result"
    }
   ],
   "source": [
    "#where will give separately the row and col indexes\n",
    "#this is useful for using later on as fancy indexes \n",
    "np.where(numpy_a > 4)"
   ]
  },
  {
   "cell_type": "code",
   "execution_count": 45,
   "metadata": {},
   "outputs": [
    {
     "data": {
      "text/plain": [
       "array([[1, 9, 5],\n",
       "       [6, 9, 8]])"
      ]
     },
     "execution_count": 45,
     "metadata": {},
     "output_type": "execute_result"
    }
   ],
   "source": [
    "numpy_a"
   ]
  },
  {
   "cell_type": "code",
   "execution_count": 46,
   "metadata": {},
   "outputs": [
    {
     "data": {
      "text/plain": [
       "True"
      ]
     },
     "execution_count": 46,
     "metadata": {},
     "output_type": "execute_result"
    }
   ],
   "source": [
    "#np.any #is there any element greater than 4...\n",
    "np.any(numpy_a > 4)"
   ]
  },
  {
   "cell_type": "code",
   "execution_count": 47,
   "metadata": {},
   "outputs": [
    {
     "data": {
      "text/plain": [
       "False"
      ]
     },
     "execution_count": 47,
     "metadata": {},
     "output_type": "execute_result"
    }
   ],
   "source": [
    "#if there is any, then there is also all\n",
    "#does all elements greater than 4....\n",
    "np.all(numpy_a > 4)"
   ]
  },
  {
   "cell_type": "code",
   "execution_count": 48,
   "metadata": {},
   "outputs": [
    {
     "data": {
      "text/plain": [
       "array([[1, 9, 5],\n",
       "       [6, 9, 8]])"
      ]
     },
     "execution_count": 48,
     "metadata": {},
     "output_type": "execute_result"
    }
   ],
   "source": [
    "#good function is np.mean, max, min, std, etc....but\n",
    "#beware the axis...\n",
    "\n",
    "numpy_a"
   ]
  },
  {
   "cell_type": "code",
   "execution_count": 51,
   "metadata": {},
   "outputs": [
    {
     "data": {
      "text/plain": [
       "array([3.5, 9. , 6.5])"
      ]
     },
     "execution_count": 51,
     "metadata": {},
     "output_type": "execute_result"
    }
   ],
   "source": [
    "#get the mean, across the row\n",
    "np.mean(numpy_a, axis=1)\n",
    "\n",
    "#get the mean, across the col\n",
    "np.mean(numpy_a, axis=0)"
   ]
  },
  {
   "cell_type": "code",
   "execution_count": 53,
   "metadata": {},
   "outputs": [],
   "source": [
    "#Big exercise today\n",
    "#if you finish, you can go home\n",
    "\n",
    "#1. Create a numpy array of size 200 by 4 (use randint), and called it \"data\"\n",
    "#imagine you have some data of 200 samples, and you got 4 columns of data\n",
    "#the first columns are features, and the last column is label\n",
    "data = np.random.randint(0, 10, size=(200, 4))\n",
    "                         \n",
    "#2. Split the array into two arrays, X and y, X contains the first 3 columns, \n",
    "# and y contains the last column\n",
    "X = data[:, :3]  #first three cols\n",
    "y = data[:, -1]  #last col\n",
    "\n",
    "#3. Further split X into X_train and X_test, in which X_train holds 70% of data, \n",
    "# and X_test holds 30% of data;  similarly, split y into y_train and y_test in the \n",
    "# same fashion  (don't use sklearn yet.....)\n",
    "np.random.shuffle(data) #it's a inplace function\n",
    "index = int(X.shape[0] * 0.7)  #int(200 * 0.7)\n",
    "X_train = data[:index, :3]\n",
    "X_test  = data[index:, :3]\n",
    "\n",
    "#assert is like a unit test, if it pass, nothing happens\n",
    "#if it fails, it will stop the program\n",
    "assert X_train.shape[0] == index\n",
    "assert X_test.shape[0]  == X.shape[0] - index\n",
    "\n",
    "y_train = data[:index, -1]\n",
    "y_test  = data[index:, -1]\n",
    "\n",
    "assert y_train.shape[0] == index\n",
    "assert y_test.shape[0]  == X.shape[0] - index\n",
    "\n",
    "#challenge 3:  randomly pick 70% indexes, not pick using in order....\n",
    "\n",
    "#please put into the chat; take a break and come back at 15:00..."
   ]
  },
  {
   "cell_type": "code",
   "execution_count": 55,
   "metadata": {},
   "outputs": [],
   "source": [
    "#Next exercise\n",
    "#go to google classrom and download iris.csv\n",
    "\n",
    "#https://classroom.google.com/c/NTM4OTU3MzExMDE4?cjc=73zvhof\n",
    "\n",
    "data = np.genfromtxt('data/iris.csv', delimiter=\",\",\n",
    "                  encoding=\"utf-8\", dtype=None)\n",
    "\n",
    "#why numpy when we have pandas\n",
    "#NumPy is MUCH MUCH FASTER than pandas\n",
    "#but Pandas is much more user-friendly"
   ]
  },
  {
   "cell_type": "code",
   "execution_count": 56,
   "metadata": {},
   "outputs": [
    {
     "data": {
      "text/plain": [
       "(151, 5)"
      ]
     },
     "execution_count": 56,
     "metadata": {},
     "output_type": "execute_result"
    }
   ],
   "source": [
    "#here we got 150 samples, 5 columns\n",
    "#first four columns are sepal length, sepal width, petal length, petal width\n",
    "#last column is label, which is class of iris\n",
    "#Note that the first row is headers....\n",
    "data.shape\n",
    "\n",
    "#to check missing value\n",
    "#np.isnan"
   ]
  },
  {
   "cell_type": "code",
   "execution_count": 62,
   "metadata": {},
   "outputs": [
    {
     "data": {
      "text/plain": [
       "dtype('float64')"
      ]
     },
     "execution_count": 62,
     "metadata": {},
     "output_type": "execute_result"
    }
   ],
   "source": [
    "sepal_l = sepal_l.astype(float)\n",
    "petal_l = petal_l.astype(float)\n",
    "\n",
    "sepal_l.dtype"
   ]
  },
  {
   "cell_type": "code",
   "execution_count": 67,
   "metadata": {},
   "outputs": [
    {
     "name": "stdout",
     "output_type": "stream",
     "text": [
      "Unique species:  ['0' '1' '2']\n",
      "Species 0 - 5.023809523809524\n",
      "Species 1 - 5.936\n",
      "Species 2 - 6.587999999999998\n",
      "30\n",
      "0.8628542011845365\n"
     ]
    },
    {
     "name": "stderr",
     "output_type": "stream",
     "text": [
      "<ipython-input-67-9137d3b8fef2>:31: DeprecationWarning: Please use `pearsonr` from the `scipy.stats` namespace, the `scipy.stats.stats` namespace is deprecated.\n",
      "  from scipy.stats.stats import pearsonr\n"
     ]
    },
    {
     "data": {
      "text/plain": [
       "1.0"
      ]
     },
     "execution_count": 67,
     "metadata": {},
     "output_type": "execute_result"
    }
   ],
   "source": [
    "#Ex1. Please remove the first row because it's the header\n",
    "data = data[1:]  #you remove the 0th row\n",
    "\n",
    "#Ex2. Retrieve sepal length, petal length as a variable from the data\n",
    "#basically get the column of sepal length\n",
    "#              the column of petal length\n",
    "sepal_l = data[:, 0].astype(float)\n",
    "petal_l = data[:, 2].astype(float)\n",
    "\n",
    "#Ex3. Get how many unique label of species we have\n",
    "y = data[:, -1]\n",
    "print(\"Unique species: \", np.unique(y)) #you can do set(y)\n",
    "\n",
    "#Ex4. Compute the mean and std of sepal length of each species\n",
    "#each kind of label\n",
    "#setosa:    mean, std\n",
    "#virsicolo: mean, std\n",
    "#virginica: mean, std\n",
    "for spec in np.unique(y):\n",
    "    cond = y == spec\n",
    "    mean = sepal_l[cond].mean()  #you can do the same for the rest\n",
    "    print(f\"Species {spec} - {mean}\")\n",
    "\n",
    "#Ex5. Count how many sample have sepal length less than 5, and petal length \n",
    "#greater than 1.5\n",
    "cond1 = sepal_l < 5\n",
    "cond2 = petal_l > 1.5\n",
    "print(data[cond1 & cond2].size)\n",
    "\n",
    "#Ex6. Find correlation between sepal and petal length\n",
    "from scipy.stats.stats import pearsonr\n",
    "corr, _ = pearsonr(sepal_l, petal_l)\n",
    "print(corr)\n",
    "\n",
    "#Ex7. Create the X_train, X_test, y_train, y_test\n",
    "#   Help: you can use train_test_split if you want\n",
    "#         you can also do manually, like just now.....\n",
    "#   all four columns \n",
    "X = data[:, :4].astype(float)\n",
    "y = data[:, -1]\n",
    "\n",
    "cond0 = y=='setosa'\n",
    "cond1 = y=='versicolor'\n",
    "cond2 = y=='virginica'\n",
    "\n",
    "y[cond0] = 0\n",
    "y[cond1] = 1\n",
    "y[cond2] = 2\n",
    "\n",
    "y = y.astype(int)\n",
    "\n",
    "from sklearn.model_selection import train_test_split\n",
    "\n",
    "X_train, X_test, y_train, y_test = train_test_split(\n",
    "    X, y, test_size = 0.3, random_state = 999\n",
    ")\n",
    "\n",
    "#Ex8. Simply run from sklearn.linear_models import LogisticRegression\n",
    "#   .fit\n",
    "#   .predict\n",
    "#   Optional: you can use cross_val_score if you want.\n",
    "from sklearn.linear_model import LogisticRegression\n",
    "\n",
    "lr = LogisticRegression()\n",
    "lr.fit(X_train, y_train)  #<---not good, we need to use cross-validation....\n",
    "yhat = lr.predict(X_test)\n",
    "\n",
    "from sklearn.metrics import accuracy_score\n",
    "accuracy_score(y_test, yhat) #out of 100..."
   ]
  },
  {
   "cell_type": "code",
   "execution_count": null,
   "metadata": {},
   "outputs": [],
   "source": []
  }
 ],
 "metadata": {
  "kernelspec": {
   "display_name": "Python 3.8.6 ('teaching_env')",
   "language": "python",
   "name": "python3"
  },
  "language_info": {
   "codemirror_mode": {
    "name": "ipython",
    "version": 3
   },
   "file_extension": ".py",
   "mimetype": "text/x-python",
   "name": "python",
   "nbconvert_exporter": "python",
   "pygments_lexer": "ipython3",
   "version": "3.8.6"
  },
  "orig_nbformat": 4,
  "vscode": {
   "interpreter": {
    "hash": "becc4c8e5ad229b2591d820334d85e3db0111492344629bf57f272470dce75a5"
   }
  }
 },
 "nbformat": 4,
 "nbformat_minor": 2
}
