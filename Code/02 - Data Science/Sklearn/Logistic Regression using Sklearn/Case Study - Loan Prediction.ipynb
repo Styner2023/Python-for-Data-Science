{
 "cells": [
  {
   "cell_type": "markdown",
   "metadata": {},
   "source": [
    "# Programming for Data Science and Artificial Intelligence\n",
    "\n",
    "## Case Study - Loan Prediction"
   ]
  },
  {
   "cell_type": "markdown",
   "metadata": {},
   "source": [
    "This dataset is a **classification problem**, concerning whether if the loan was approved or not.\n",
    "\n",
    "- **Loan_ID** - unique loan ID\n",
    "- **Gender** - male/female\n",
    "- **Married** - yes/no\n",
    "- **Dependents** - number of dependents\n",
    "- **Education** - graduate/undergraduate\n",
    "- **Self_Employed** - yes/no\n",
    "- **ApplicantIncome** - applicant income\n",
    "- **CoapplicantIncome** - coapplicant income\n",
    "- **LoanAmount** - loan amount in thousands\n",
    "- **Loan_Amount_Term** - term of lean in months\n",
    "- **Credit_History** - credit history meets guidelines\n",
    "- **Property_Area** - Urban/semi and Rural\n",
    "- **Loan_Status** - approved yes/no \n",
    "\n",
    "We are given 2 set, the training set and the test set.\n",
    "\n",
    "The **training set** contains 614 samples and 13 features, 12 of which are the independent variables and the last feature `Loan_Status` is the dependent variable.\n",
    "\n",
    "The **test set** contains 367 samples with the same 12 features but without the `Loan_Status` columns. So it will be representing the unseen data that we will be implementing our model on."
   ]
  },
  {
   "cell_type": "markdown",
   "metadata": {},
   "source": [
    "## 1. Import data"
   ]
  },
  {
   "cell_type": "code",
   "execution_count": 1,
   "metadata": {},
   "outputs": [],
   "source": [
    "import pandas as pd\n",
    "\n",
    "df_train = pd.read_csv('data/train_LoanPrediction.csv')\n",
    "df_test  = pd.read_csv('data/test_LoanPrediction.csv')"
   ]
  },
  {
   "cell_type": "code",
   "execution_count": 2,
   "metadata": {},
   "outputs": [
    {
     "name": "stdout",
     "output_type": "stream",
     "text": [
      "Training data shape :  (614, 13)\n",
      "Test data shape     :  (367, 12)\n"
     ]
    }
   ],
   "source": [
    "# Check the shape of Training and Test set\n",
    "print('Training data shape : ', df_train.shape)\n",
    "print('Test data shape     : ', df_test.shape)"
   ]
  },
  {
   "cell_type": "code",
   "execution_count": 3,
   "metadata": {
    "scrolled": true
   },
   "outputs": [
    {
     "data": {
      "text/html": [
       "<div>\n",
       "<style scoped>\n",
       "    .dataframe tbody tr th:only-of-type {\n",
       "        vertical-align: middle;\n",
       "    }\n",
       "\n",
       "    .dataframe tbody tr th {\n",
       "        vertical-align: top;\n",
       "    }\n",
       "\n",
       "    .dataframe thead th {\n",
       "        text-align: right;\n",
       "    }\n",
       "</style>\n",
       "<table border=\"1\" class=\"dataframe\">\n",
       "  <thead>\n",
       "    <tr style=\"text-align: right;\">\n",
       "      <th></th>\n",
       "      <th>Loan_ID</th>\n",
       "      <th>Gender</th>\n",
       "      <th>Married</th>\n",
       "      <th>Dependents</th>\n",
       "      <th>Education</th>\n",
       "      <th>Self_Employed</th>\n",
       "      <th>ApplicantIncome</th>\n",
       "      <th>CoapplicantIncome</th>\n",
       "      <th>LoanAmount</th>\n",
       "      <th>Loan_Amount_Term</th>\n",
       "      <th>Credit_History</th>\n",
       "      <th>Property_Area</th>\n",
       "      <th>Loan_Status</th>\n",
       "    </tr>\n",
       "  </thead>\n",
       "  <tbody>\n",
       "    <tr>\n",
       "      <th>0</th>\n",
       "      <td>LP001002</td>\n",
       "      <td>Male</td>\n",
       "      <td>No</td>\n",
       "      <td>0</td>\n",
       "      <td>Graduate</td>\n",
       "      <td>No</td>\n",
       "      <td>5849</td>\n",
       "      <td>0.0</td>\n",
       "      <td>NaN</td>\n",
       "      <td>360.0</td>\n",
       "      <td>1.0</td>\n",
       "      <td>Urban</td>\n",
       "      <td>Y</td>\n",
       "    </tr>\n",
       "    <tr>\n",
       "      <th>1</th>\n",
       "      <td>LP001003</td>\n",
       "      <td>Male</td>\n",
       "      <td>Yes</td>\n",
       "      <td>1</td>\n",
       "      <td>Graduate</td>\n",
       "      <td>No</td>\n",
       "      <td>4583</td>\n",
       "      <td>1508.0</td>\n",
       "      <td>128.0</td>\n",
       "      <td>360.0</td>\n",
       "      <td>1.0</td>\n",
       "      <td>Rural</td>\n",
       "      <td>N</td>\n",
       "    </tr>\n",
       "    <tr>\n",
       "      <th>2</th>\n",
       "      <td>LP001005</td>\n",
       "      <td>Male</td>\n",
       "      <td>Yes</td>\n",
       "      <td>0</td>\n",
       "      <td>Graduate</td>\n",
       "      <td>Yes</td>\n",
       "      <td>3000</td>\n",
       "      <td>0.0</td>\n",
       "      <td>66.0</td>\n",
       "      <td>360.0</td>\n",
       "      <td>1.0</td>\n",
       "      <td>Urban</td>\n",
       "      <td>Y</td>\n",
       "    </tr>\n",
       "    <tr>\n",
       "      <th>3</th>\n",
       "      <td>LP001006</td>\n",
       "      <td>Male</td>\n",
       "      <td>Yes</td>\n",
       "      <td>0</td>\n",
       "      <td>Not Graduate</td>\n",
       "      <td>No</td>\n",
       "      <td>2583</td>\n",
       "      <td>2358.0</td>\n",
       "      <td>120.0</td>\n",
       "      <td>360.0</td>\n",
       "      <td>1.0</td>\n",
       "      <td>Urban</td>\n",
       "      <td>Y</td>\n",
       "    </tr>\n",
       "    <tr>\n",
       "      <th>4</th>\n",
       "      <td>LP001008</td>\n",
       "      <td>Male</td>\n",
       "      <td>No</td>\n",
       "      <td>0</td>\n",
       "      <td>Graduate</td>\n",
       "      <td>No</td>\n",
       "      <td>6000</td>\n",
       "      <td>0.0</td>\n",
       "      <td>141.0</td>\n",
       "      <td>360.0</td>\n",
       "      <td>1.0</td>\n",
       "      <td>Urban</td>\n",
       "      <td>Y</td>\n",
       "    </tr>\n",
       "  </tbody>\n",
       "</table>\n",
       "</div>"
      ],
      "text/plain": [
       "    Loan_ID Gender Married Dependents     Education Self_Employed  \\\n",
       "0  LP001002   Male      No          0      Graduate            No   \n",
       "1  LP001003   Male     Yes          1      Graduate            No   \n",
       "2  LP001005   Male     Yes          0      Graduate           Yes   \n",
       "3  LP001006   Male     Yes          0  Not Graduate            No   \n",
       "4  LP001008   Male      No          0      Graduate            No   \n",
       "\n",
       "   ApplicantIncome  CoapplicantIncome  LoanAmount  Loan_Amount_Term  \\\n",
       "0             5849                0.0         NaN             360.0   \n",
       "1             4583             1508.0       128.0             360.0   \n",
       "2             3000                0.0        66.0             360.0   \n",
       "3             2583             2358.0       120.0             360.0   \n",
       "4             6000                0.0       141.0             360.0   \n",
       "\n",
       "   Credit_History Property_Area Loan_Status  \n",
       "0             1.0         Urban           Y  \n",
       "1             1.0         Rural           N  \n",
       "2             1.0         Urban           Y  \n",
       "3             1.0         Urban           Y  \n",
       "4             1.0         Urban           Y  "
      ]
     },
     "execution_count": 3,
     "metadata": {},
     "output_type": "execute_result"
    }
   ],
   "source": [
    "# Let's see the \"head\" of the training set\n",
    "df_train.head()"
   ]
  },
  {
   "cell_type": "code",
   "execution_count": 4,
   "metadata": {},
   "outputs": [
    {
     "data": {
      "text/html": [
       "<div>\n",
       "<style scoped>\n",
       "    .dataframe tbody tr th:only-of-type {\n",
       "        vertical-align: middle;\n",
       "    }\n",
       "\n",
       "    .dataframe tbody tr th {\n",
       "        vertical-align: top;\n",
       "    }\n",
       "\n",
       "    .dataframe thead th {\n",
       "        text-align: right;\n",
       "    }\n",
       "</style>\n",
       "<table border=\"1\" class=\"dataframe\">\n",
       "  <thead>\n",
       "    <tr style=\"text-align: right;\">\n",
       "      <th></th>\n",
       "      <th>ApplicantIncome</th>\n",
       "      <th>CoapplicantIncome</th>\n",
       "      <th>LoanAmount</th>\n",
       "      <th>Loan_Amount_Term</th>\n",
       "      <th>Credit_History</th>\n",
       "    </tr>\n",
       "  </thead>\n",
       "  <tbody>\n",
       "    <tr>\n",
       "      <th>count</th>\n",
       "      <td>614.000000</td>\n",
       "      <td>614.000000</td>\n",
       "      <td>592.000000</td>\n",
       "      <td>600.00000</td>\n",
       "      <td>564.000000</td>\n",
       "    </tr>\n",
       "    <tr>\n",
       "      <th>mean</th>\n",
       "      <td>5403.459283</td>\n",
       "      <td>1621.245798</td>\n",
       "      <td>146.412162</td>\n",
       "      <td>342.00000</td>\n",
       "      <td>0.842199</td>\n",
       "    </tr>\n",
       "    <tr>\n",
       "      <th>std</th>\n",
       "      <td>6109.041673</td>\n",
       "      <td>2926.248369</td>\n",
       "      <td>85.587325</td>\n",
       "      <td>65.12041</td>\n",
       "      <td>0.364878</td>\n",
       "    </tr>\n",
       "    <tr>\n",
       "      <th>min</th>\n",
       "      <td>150.000000</td>\n",
       "      <td>0.000000</td>\n",
       "      <td>9.000000</td>\n",
       "      <td>12.00000</td>\n",
       "      <td>0.000000</td>\n",
       "    </tr>\n",
       "    <tr>\n",
       "      <th>25%</th>\n",
       "      <td>2877.500000</td>\n",
       "      <td>0.000000</td>\n",
       "      <td>100.000000</td>\n",
       "      <td>360.00000</td>\n",
       "      <td>1.000000</td>\n",
       "    </tr>\n",
       "    <tr>\n",
       "      <th>50%</th>\n",
       "      <td>3812.500000</td>\n",
       "      <td>1188.500000</td>\n",
       "      <td>128.000000</td>\n",
       "      <td>360.00000</td>\n",
       "      <td>1.000000</td>\n",
       "    </tr>\n",
       "    <tr>\n",
       "      <th>75%</th>\n",
       "      <td>5795.000000</td>\n",
       "      <td>2297.250000</td>\n",
       "      <td>168.000000</td>\n",
       "      <td>360.00000</td>\n",
       "      <td>1.000000</td>\n",
       "    </tr>\n",
       "    <tr>\n",
       "      <th>max</th>\n",
       "      <td>81000.000000</td>\n",
       "      <td>41667.000000</td>\n",
       "      <td>700.000000</td>\n",
       "      <td>480.00000</td>\n",
       "      <td>1.000000</td>\n",
       "    </tr>\n",
       "  </tbody>\n",
       "</table>\n",
       "</div>"
      ],
      "text/plain": [
       "       ApplicantIncome  CoapplicantIncome  LoanAmount  Loan_Amount_Term  \\\n",
       "count       614.000000         614.000000  592.000000         600.00000   \n",
       "mean       5403.459283        1621.245798  146.412162         342.00000   \n",
       "std        6109.041673        2926.248369   85.587325          65.12041   \n",
       "min         150.000000           0.000000    9.000000          12.00000   \n",
       "25%        2877.500000           0.000000  100.000000         360.00000   \n",
       "50%        3812.500000        1188.500000  128.000000         360.00000   \n",
       "75%        5795.000000        2297.250000  168.000000         360.00000   \n",
       "max       81000.000000       41667.000000  700.000000         480.00000   \n",
       "\n",
       "       Credit_History  \n",
       "count      564.000000  \n",
       "mean         0.842199  \n",
       "std          0.364878  \n",
       "min          0.000000  \n",
       "25%          1.000000  \n",
       "50%          1.000000  \n",
       "75%          1.000000  \n",
       "max          1.000000  "
      ]
     },
     "execution_count": 4,
     "metadata": {},
     "output_type": "execute_result"
    }
   ],
   "source": [
    "# describe\n",
    "df_train.describe()"
   ]
  },
  {
   "cell_type": "code",
   "execution_count": 5,
   "metadata": {
    "scrolled": true
   },
   "outputs": [
    {
     "name": "stdout",
     "output_type": "stream",
     "text": [
      "<class 'pandas.core.frame.DataFrame'>\n",
      "RangeIndex: 614 entries, 0 to 613\n",
      "Data columns (total 13 columns):\n",
      " #   Column             Non-Null Count  Dtype  \n",
      "---  ------             --------------  -----  \n",
      " 0   Loan_ID            614 non-null    object \n",
      " 1   Gender             601 non-null    object \n",
      " 2   Married            611 non-null    object \n",
      " 3   Dependents         599 non-null    object \n",
      " 4   Education          614 non-null    object \n",
      " 5   Self_Employed      582 non-null    object \n",
      " 6   ApplicantIncome    614 non-null    int64  \n",
      " 7   CoapplicantIncome  614 non-null    float64\n",
      " 8   LoanAmount         592 non-null    float64\n",
      " 9   Loan_Amount_Term   600 non-null    float64\n",
      " 10  Credit_History     564 non-null    float64\n",
      " 11  Property_Area      614 non-null    object \n",
      " 12  Loan_Status        614 non-null    object \n",
      "dtypes: float64(4), int64(1), object(8)\n",
      "memory usage: 62.5+ KB\n"
     ]
    }
   ],
   "source": [
    "# Let's see the \"info\" of the training set\n",
    "# Notice that this will tell us the  Non-null counts and the dtypes of each colum\n",
    "df_train.info()"
   ]
  },
  {
   "cell_type": "code",
   "execution_count": 6,
   "metadata": {},
   "outputs": [
    {
     "data": {
      "text/plain": [
       "Y    0.687296\n",
       "N    0.312704\n",
       "Name: Loan_Status, dtype: float64"
      ]
     },
     "execution_count": 6,
     "metadata": {},
     "output_type": "execute_result"
    }
   ],
   "source": [
    "### also nice to check whether this dataset is imbalanced in the beginning\n",
    "df_train['Loan_Status'].value_counts(normalize=True)  #hmm..imbalanced..."
   ]
  },
  {
   "cell_type": "markdown",
   "metadata": {},
   "source": [
    "## 2. Cleaning"
   ]
  },
  {
   "cell_type": "markdown",
   "metadata": {},
   "source": [
    "### Check missing values"
   ]
  },
  {
   "cell_type": "code",
   "execution_count": 7,
   "metadata": {},
   "outputs": [],
   "source": [
    "def show_missing(train_data, test_data):\n",
    "    print('Missing values in Train data: \\n', train_data.isna().sum())\n",
    "    print(\"=\"*30)\n",
    "    print('Missing values in Test data: \\n', test_data.isna().sum())"
   ]
  },
  {
   "cell_type": "code",
   "execution_count": 8,
   "metadata": {},
   "outputs": [
    {
     "name": "stdout",
     "output_type": "stream",
     "text": [
      "Missing values in Train data: \n",
      " Loan_ID               0\n",
      "Gender               13\n",
      "Married               3\n",
      "Dependents           15\n",
      "Education             0\n",
      "Self_Employed        32\n",
      "ApplicantIncome       0\n",
      "CoapplicantIncome     0\n",
      "LoanAmount           22\n",
      "Loan_Amount_Term     14\n",
      "Credit_History       50\n",
      "Property_Area         0\n",
      "Loan_Status           0\n",
      "dtype: int64\n",
      "==============================\n",
      "Missing values in Test data: \n",
      " Loan_ID               0\n",
      "Gender               11\n",
      "Married               0\n",
      "Dependents           10\n",
      "Education             0\n",
      "Self_Employed        23\n",
      "ApplicantIncome       0\n",
      "CoapplicantIncome     0\n",
      "LoanAmount            5\n",
      "Loan_Amount_Term      6\n",
      "Credit_History       29\n",
      "Property_Area         0\n",
      "dtype: int64\n"
     ]
    }
   ],
   "source": [
    "show_missing(df_train, df_test)"
   ]
  },
  {
   "cell_type": "markdown",
   "metadata": {},
   "source": [
    "### Filling categorical values"
   ]
  },
  {
   "cell_type": "markdown",
   "metadata": {},
   "source": [
    "\n",
    "Let's first focus on the `Married` column. We can see from the table above that the `Married` has 3 missing values in the training set and 0 missing values in the test set so let's fill the training set!\n",
    "\n",
    "We will use the distribution over the train dataset then fill in the missing values in **approximately the same ratio with fillna()**\n",
    "\n",
    "Here are the steps:\n",
    "1. Compute ratio in the **training** set\n",
    "2. Divide the missing values based on ratio\n",
    "3. Fill in the missing values according to the ratio"
   ]
  },
  {
   "cell_type": "code",
   "execution_count": 9,
   "metadata": {},
   "outputs": [
    {
     "name": "stdout",
     "output_type": "stream",
     "text": [
      "Yes    398\n",
      "No     213\n",
      "Name: Married, dtype: int64\n"
     ]
    }
   ],
   "source": [
    "# count the values in 'Married' columns.\n",
    "print(df_train['Married'].value_counts())"
   ]
  },
  {
   "cell_type": "code",
   "execution_count": 10,
   "metadata": {},
   "outputs": [
    {
     "data": {
      "text/plain": [
       "Yes    0.651391\n",
       "No     0.348609\n",
       "Name: Married, dtype: float64"
      ]
     },
     "execution_count": 10,
     "metadata": {},
     "output_type": "execute_result"
    }
   ],
   "source": [
    "# we can get the ratio instead\n",
    "ratio = df_train['Married'].value_counts(normalize=True)\n",
    "ratio"
   ]
  },
  {
   "cell_type": "code",
   "execution_count": 11,
   "metadata": {},
   "outputs": [
    {
     "data": {
      "text/plain": [
       "'No'"
      ]
     },
     "execution_count": 11,
     "metadata": {},
     "output_type": "execute_result"
    }
   ],
   "source": [
    "ratio.index[0]\n",
    "ratio.index[1]"
   ]
  },
  {
   "cell_type": "code",
   "execution_count": 12,
   "metadata": {},
   "outputs": [
    {
     "data": {
      "text/plain": [
       "0.3486088379705401"
      ]
     },
     "execution_count": 12,
     "metadata": {},
     "output_type": "execute_result"
    }
   ],
   "source": [
    "ratio[0]\n",
    "ratio[1]"
   ]
  },
  {
   "cell_type": "code",
   "execution_count": 13,
   "metadata": {},
   "outputs": [
    {
     "data": {
      "text/plain": [
       "[0.6513911620294599, 0.3486088379705401]"
      ]
     },
     "execution_count": 13,
     "metadata": {},
     "output_type": "execute_result"
    }
   ],
   "source": [
    "list(ratio.values)"
   ]
  },
  {
   "cell_type": "code",
   "execution_count": 14,
   "metadata": {},
   "outputs": [
    {
     "data": {
      "text/plain": [
       "['Yes', 'No']"
      ]
     },
     "execution_count": 14,
     "metadata": {},
     "output_type": "execute_result"
    }
   ],
   "source": [
    "list(ratio.index)"
   ]
  },
  {
   "cell_type": "code",
   "execution_count": 15,
   "metadata": {},
   "outputs": [],
   "source": [
    "#let's fill in!\n",
    "import numpy as np\n",
    "\n",
    "#this is a bit advanced, but it's easy technique for filling with ratios....\n",
    "df_train['Married'].fillna(pd.Series(np.random.choice([ratio.index[0], ratio.index[1]], \n",
    "                        p=[ratio[0], ratio[1]], size=len(df_train))), inplace=True)"
   ]
  },
  {
   "cell_type": "code",
   "execution_count": 16,
   "metadata": {},
   "outputs": [
    {
     "name": "stdout",
     "output_type": "stream",
     "text": [
      "Missing values in Train data: \n",
      " Loan_ID               0\n",
      "Gender               13\n",
      "Married               0\n",
      "Dependents           15\n",
      "Education             0\n",
      "Self_Employed        32\n",
      "ApplicantIncome       0\n",
      "CoapplicantIncome     0\n",
      "LoanAmount           22\n",
      "Loan_Amount_Term     14\n",
      "Credit_History       50\n",
      "Property_Area         0\n",
      "Loan_Status           0\n",
      "dtype: int64\n",
      "==============================\n",
      "Missing values in Test data: \n",
      " Loan_ID               0\n",
      "Gender               11\n",
      "Married               0\n",
      "Dependents           10\n",
      "Education             0\n",
      "Self_Employed        23\n",
      "ApplicantIncome       0\n",
      "CoapplicantIncome     0\n",
      "LoanAmount            5\n",
      "Loan_Amount_Term      6\n",
      "Credit_History       29\n",
      "Property_Area         0\n",
      "dtype: int64\n"
     ]
    }
   ],
   "source": [
    "show_missing(df_train, df_test)"
   ]
  },
  {
   "cell_type": "markdown",
   "metadata": {},
   "source": [
    "But we still have other categorical columns.  For some of them we need to fill in both the training and test set!\n",
    "\n",
    "So let's write a function that can calculate the ratio from the training data and fill the missing values accordingly."
   ]
  },
  {
   "cell_type": "code",
   "execution_count": 17,
   "metadata": {},
   "outputs": [
    {
     "data": {
      "text/plain": [
       "Index(['Gender', 'Dependents', 'Self_Employed'], dtype='object')"
      ]
     },
     "execution_count": 17,
     "metadata": {},
     "output_type": "execute_result"
    }
   ],
   "source": [
    "#filter out all categorical columns with missing values\n",
    "categorical = df_train.select_dtypes(include=['object'])\n",
    "cat_with_missing = categorical.columns[categorical.isna().any()] \n",
    "cat_with_missing"
   ]
  },
  {
   "cell_type": "code",
   "execution_count": 18,
   "metadata": {},
   "outputs": [
    {
     "name": "stdout",
     "output_type": "stream",
     "text": [
      "Missing values in Train data: \n",
      " Gender           13\n",
      "Dependents       15\n",
      "Self_Employed    32\n",
      "dtype: int64\n",
      "==============================\n",
      "Missing values in Test data: \n",
      " Gender           11\n",
      "Dependents       10\n",
      "Self_Employed    23\n",
      "dtype: int64\n"
     ]
    }
   ],
   "source": [
    "#check missing value in these columns\n",
    "show_missing(df_train[cat_with_missing], df_test[cat_with_missing])"
   ]
  },
  {
   "cell_type": "code",
   "execution_count": 19,
   "metadata": {},
   "outputs": [],
   "source": [
    "# write a nice function to calculate ratio and fillna\n",
    "def fill_data_with_ratio(train_data, test_data, column_name):\n",
    "    \n",
    "    ratio = train_data[column_name].value_counts(normalize=True)\n",
    "    \n",
    "    train_data[column_name].fillna(\n",
    "        pd.Series(np.random.choice(list(ratio.index), \n",
    "        p=list(ratio.values), \n",
    "        size=len(train_data))), \n",
    "        inplace=True)\n",
    "    \n",
    "    test_data[column_name].fillna(\n",
    "        pd.Series(np.random.choice(list(ratio.index), \n",
    "        p=list(ratio.values), \n",
    "        size=len(test_data))), \n",
    "        inplace=True)"
   ]
  },
  {
   "cell_type": "code",
   "execution_count": 20,
   "metadata": {},
   "outputs": [],
   "source": [
    "# simple loop!\n",
    "for col in cat_with_missing:\n",
    "    fill_data_with_ratio(df_train, df_test, col)"
   ]
  },
  {
   "cell_type": "code",
   "execution_count": 21,
   "metadata": {
    "scrolled": false
   },
   "outputs": [
    {
     "name": "stdout",
     "output_type": "stream",
     "text": [
      "Missing values in Train data: \n",
      " Gender           0\n",
      "Dependents       0\n",
      "Self_Employed    0\n",
      "dtype: int64\n",
      "==============================\n",
      "Missing values in Test data: \n",
      " Gender           0\n",
      "Dependents       0\n",
      "Self_Employed    0\n",
      "dtype: int64\n"
     ]
    }
   ],
   "source": [
    "show_missing(df_train[cat_with_missing], df_test[cat_with_missing])"
   ]
  },
  {
   "cell_type": "markdown",
   "metadata": {},
   "source": [
    "### Filling \"numerical\" categorical values\n",
    "\n",
    "There are two hidden categorical column but which is numerical."
   ]
  },
  {
   "cell_type": "code",
   "execution_count": 22,
   "metadata": {},
   "outputs": [
    {
     "data": {
      "text/plain": [
       "array([ 1.,  0., nan])"
      ]
     },
     "execution_count": 22,
     "metadata": {},
     "output_type": "execute_result"
    }
   ],
   "source": [
    "df_train['Credit_History'].unique()"
   ]
  },
  {
   "cell_type": "code",
   "execution_count": 23,
   "metadata": {},
   "outputs": [
    {
     "data": {
      "text/plain": [
       "array([360., 120., 240.,  nan, 180.,  60., 300., 480.,  36.,  84.,  12.])"
      ]
     },
     "execution_count": 23,
     "metadata": {},
     "output_type": "execute_result"
    }
   ],
   "source": [
    "df_train['Loan_Amount_Term'].unique()"
   ]
  },
  {
   "cell_type": "markdown",
   "metadata": {},
   "source": [
    "Thus, let's also fill them accordingly..."
   ]
  },
  {
   "cell_type": "code",
   "execution_count": 24,
   "metadata": {},
   "outputs": [],
   "source": [
    "for col in ['Credit_History', 'Loan_Amount_Term']:\n",
    "    fill_data_with_ratio(df_train, df_test, col)"
   ]
  },
  {
   "cell_type": "code",
   "execution_count": 25,
   "metadata": {},
   "outputs": [
    {
     "name": "stdout",
     "output_type": "stream",
     "text": [
      "Missing values in Train data: \n",
      " Loan_ID               0\n",
      "Gender                0\n",
      "Married               0\n",
      "Dependents            0\n",
      "Education             0\n",
      "Self_Employed         0\n",
      "ApplicantIncome       0\n",
      "CoapplicantIncome     0\n",
      "LoanAmount           22\n",
      "Loan_Amount_Term      0\n",
      "Credit_History        0\n",
      "Property_Area         0\n",
      "Loan_Status           0\n",
      "dtype: int64\n",
      "==============================\n",
      "Missing values in Test data: \n",
      " Loan_ID              0\n",
      "Gender               0\n",
      "Married              0\n",
      "Dependents           0\n",
      "Education            0\n",
      "Self_Employed        0\n",
      "ApplicantIncome      0\n",
      "CoapplicantIncome    0\n",
      "LoanAmount           5\n",
      "Loan_Amount_Term     0\n",
      "Credit_History       0\n",
      "Property_Area        0\n",
      "dtype: int64\n"
     ]
    }
   ],
   "source": [
    "show_missing(df_train, df_test)"
   ]
  },
  {
   "cell_type": "markdown",
   "metadata": {},
   "source": [
    "### Filling Numerical Values\n",
    "\n",
    "`LoanAmount` still has some missing values.\n",
    "\n",
    "We should check the distribution of the data before deciding how to fill them."
   ]
  },
  {
   "cell_type": "code",
   "execution_count": 26,
   "metadata": {},
   "outputs": [
    {
     "data": {
      "image/png": "[encoded data removed]",
      "text/plain": [
       "<Figure size 360x360 with 1 Axes>"
      ]
     },
     "metadata": {
      "needs_background": "light"
     },
     "output_type": "display_data"
    }
   ],
   "source": [
    "# plot a histogram to see the data distribution of 'LoanAmount'\n",
    "import matplotlib.pyplot as plt\n",
    "import seaborn as sns\n",
    "\n",
    "sns.displot(df_train['LoanAmount'])\n",
    "plt.title('LoanAmount distribution', size=16)\n",
    "plt.ylabel('count')\n",
    "plt.show()"
   ]
  },
  {
   "cell_type": "code",
   "execution_count": 27,
   "metadata": {},
   "outputs": [
    {
     "data": {
      "text/plain": [
       "<AxesSubplot:>"
      ]
     },
     "execution_count": 27,
     "metadata": {},
     "output_type": "execute_result"
    },
    {
     "data": {
      "image/png": "[encoded data removed]",
      "text/plain": [
       "<Figure size 216x288 with 1 Axes>"
      ]
     },
     "metadata": {
      "needs_background": "light"
     },
     "output_type": "display_data"
    }
   ],
   "source": [
    "# also try plot a box plot\n",
    "df_train['LoanAmount'].plot(kind='box', figsize=(3,4))"
   ]
  },
  {
   "cell_type": "markdown",
   "metadata": {},
   "source": [
    "There are some outliers so we will be using the median over the training set to fill the missing values to avoid effects of outliers on the center value."
   ]
  },
  {
   "cell_type": "code",
   "execution_count": 28,
   "metadata": {},
   "outputs": [],
   "source": [
    "# Use the median of the Training set to fill both the training and test set.\n",
    "df_train['LoanAmount'].fillna((df_train['LoanAmount'].median()), inplace=True)\n",
    "df_test['LoanAmount'].fillna((df_test['LoanAmount'].median()), inplace=True)"
   ]
  },
  {
   "cell_type": "code",
   "execution_count": 29,
   "metadata": {
    "scrolled": true
   },
   "outputs": [
    {
     "name": "stdout",
     "output_type": "stream",
     "text": [
      "Missing values in Train data: \n",
      " Loan_ID              0\n",
      "Gender               0\n",
      "Married              0\n",
      "Dependents           0\n",
      "Education            0\n",
      "Self_Employed        0\n",
      "ApplicantIncome      0\n",
      "CoapplicantIncome    0\n",
      "LoanAmount           0\n",
      "Loan_Amount_Term     0\n",
      "Credit_History       0\n",
      "Property_Area        0\n",
      "Loan_Status          0\n",
      "dtype: int64\n",
      "==============================\n",
      "Missing values in Test data: \n",
      " Loan_ID              0\n",
      "Gender               0\n",
      "Married              0\n",
      "Dependents           0\n",
      "Education            0\n",
      "Self_Employed        0\n",
      "ApplicantIncome      0\n",
      "CoapplicantIncome    0\n",
      "LoanAmount           0\n",
      "Loan_Amount_Term     0\n",
      "Credit_History       0\n",
      "Property_Area        0\n",
      "dtype: int64\n"
     ]
    }
   ],
   "source": [
    "show_missing(df_train, df_test)"
   ]
  },
  {
   "cell_type": "markdown",
   "metadata": {},
   "source": [
    "### Filling some inconsistent column\n",
    "\n",
    "Dependent has some weird value which is 3+, which will not allow the machine learning to work properly.  So let's replace all 3+ with 4."
   ]
  },
  {
   "cell_type": "code",
   "execution_count": 30,
   "metadata": {},
   "outputs": [
    {
     "data": {
      "text/plain": [
       "array(['0', '1', '2', '3+'], dtype=object)"
      ]
     },
     "execution_count": 30,
     "metadata": {},
     "output_type": "execute_result"
    }
   ],
   "source": [
    "df_train['Dependents'].unique()"
   ]
  },
  {
   "cell_type": "code",
   "execution_count": 31,
   "metadata": {},
   "outputs": [
    {
     "data": {
      "text/plain": [
       "array(['0', '1', '2', '3+'], dtype=object)"
      ]
     },
     "execution_count": 31,
     "metadata": {},
     "output_type": "execute_result"
    }
   ],
   "source": [
    "df_test['Dependents'].unique()"
   ]
  },
  {
   "cell_type": "code",
   "execution_count": 32,
   "metadata": {},
   "outputs": [],
   "source": [
    "df_train['Dependents'].replace('3+', '4', inplace = True)\n",
    "df_test['Dependents'].replace('3+', '4', inplace = True)"
   ]
  },
  {
   "cell_type": "markdown",
   "metadata": {},
   "source": [
    "We are finally done with filling na!"
   ]
  },
  {
   "cell_type": "markdown",
   "metadata": {},
   "source": [
    "### Dropping Loan ID\n",
    "\n",
    "We have one column which does not seem to be useful later on for our prediction, i.e., Loan ID.  So let's remove that."
   ]
  },
  {
   "cell_type": "code",
   "execution_count": 33,
   "metadata": {
    "scrolled": true
   },
   "outputs": [
    {
     "data": {
      "text/plain": [
       "Index(['Gender', 'Married', 'Dependents', 'Education', 'Self_Employed',\n",
       "       'ApplicantIncome', 'CoapplicantIncome', 'LoanAmount',\n",
       "       'Loan_Amount_Term', 'Credit_History', 'Property_Area', 'Loan_Status'],\n",
       "      dtype='object')"
      ]
     },
     "execution_count": 33,
     "metadata": {},
     "output_type": "execute_result"
    }
   ],
   "source": [
    "df_train.drop(columns=['Loan_ID'], inplace=True)\n",
    "df_test.drop(columns=['Loan_ID'], inplace=True)\n",
    "\n",
    "df_train.columns"
   ]
  },
  {
   "cell_type": "code",
   "execution_count": 34,
   "metadata": {},
   "outputs": [],
   "source": [
    "# Convert values in 'Dependents' to int\n",
    "df_train['Dependents'] = df_train['Dependents'].astype(int)\n",
    "df_test['Dependents']  = df_test['Dependents'].astype(int)"
   ]
  },
  {
   "cell_type": "markdown",
   "metadata": {},
   "source": [
    "### Label encoding\n",
    "\n",
    "Let's start with Gender."
   ]
  },
  {
   "cell_type": "code",
   "execution_count": 35,
   "metadata": {},
   "outputs": [
    {
     "data": {
      "text/plain": [
       "array([1, 0])"
      ]
     },
     "execution_count": 35,
     "metadata": {},
     "output_type": "execute_result"
    }
   ],
   "source": [
    "from sklearn.preprocessing import LabelEncoder\n",
    "\n",
    "le = LabelEncoder()\n",
    "df_train[\"Gender\"] = le.fit_transform(df_train[\"Gender\"])\n",
    "df_test[\"Gender\"]  = le.transform(df_test[\"Gender\"])\n",
    "\n",
    "#check the mapping\n",
    "le.transform(['Male', 'Female'])"
   ]
  },
  {
   "cell_type": "markdown",
   "metadata": {},
   "source": [
    "There are also other categorical columns that need to be convert to integer"
   ]
  },
  {
   "cell_type": "code",
   "execution_count": 36,
   "metadata": {},
   "outputs": [
    {
     "name": "stdout",
     "output_type": "stream",
     "text": [
      "<class 'pandas.core.frame.DataFrame'>\n",
      "RangeIndex: 614 entries, 0 to 613\n",
      "Data columns (total 12 columns):\n",
      " #   Column             Non-Null Count  Dtype  \n",
      "---  ------             --------------  -----  \n",
      " 0   Gender             614 non-null    int64  \n",
      " 1   Married            614 non-null    object \n",
      " 2   Dependents         614 non-null    int64  \n",
      " 3   Education          614 non-null    object \n",
      " 4   Self_Employed      614 non-null    object \n",
      " 5   ApplicantIncome    614 non-null    int64  \n",
      " 6   CoapplicantIncome  614 non-null    float64\n",
      " 7   LoanAmount         614 non-null    float64\n",
      " 8   Loan_Amount_Term   614 non-null    float64\n",
      " 9   Credit_History     614 non-null    float64\n",
      " 10  Property_Area      614 non-null    object \n",
      " 11  Loan_Status        614 non-null    object \n",
      "dtypes: float64(4), int64(3), object(5)\n",
      "memory usage: 57.7+ KB\n"
     ]
    }
   ],
   "source": [
    "df_train.info()"
   ]
  },
  {
   "cell_type": "code",
   "execution_count": 37,
   "metadata": {},
   "outputs": [],
   "source": [
    "categorical = df_train.select_dtypes(include=['object'])"
   ]
  },
  {
   "cell_type": "markdown",
   "metadata": {},
   "source": [
    "Ok...now let's make one simple function that would convert everything to integer.  Note that we gonna skip those that have more than 2 categories.  I will later tell you why."
   ]
  },
  {
   "cell_type": "code",
   "execution_count": 38,
   "metadata": {},
   "outputs": [
    {
     "name": "stdout",
     "output_type": "stream",
     "text": [
      "<class 'pandas.core.frame.DataFrame'>\n",
      "RangeIndex: 614 entries, 0 to 613\n",
      "Data columns (total 12 columns):\n",
      " #   Column             Non-Null Count  Dtype  \n",
      "---  ------             --------------  -----  \n",
      " 0   Gender             614 non-null    int64  \n",
      " 1   Married            614 non-null    int8   \n",
      " 2   Dependents         614 non-null    int64  \n",
      " 3   Education          614 non-null    int8   \n",
      " 4   Self_Employed      614 non-null    int8   \n",
      " 5   ApplicantIncome    614 non-null    int64  \n",
      " 6   CoapplicantIncome  614 non-null    float64\n",
      " 7   LoanAmount         614 non-null    float64\n",
      " 8   Loan_Amount_Term   614 non-null    float64\n",
      " 9   Credit_History     614 non-null    float64\n",
      " 10  Property_Area      614 non-null    object \n",
      " 11  Loan_Status        614 non-null    int8   \n",
      "dtypes: float64(4), int64(3), int8(4), object(1)\n",
      "memory usage: 40.9+ KB\n"
     ]
    }
   ],
   "source": [
    "for col in df_train.columns:\n",
    "    if(df_train[col].dtype == 'object'):\n",
    "        if len(df_train[col].unique()) < 3:\n",
    "            df_train[col]= df_train[col].astype('category') #first convert to category\n",
    "            df_train[col] = df_train[col].cat.codes  #exploit cat.codes\n",
    "        \n",
    "df_train.info()"
   ]
  },
  {
   "cell_type": "markdown",
   "metadata": {},
   "source": [
    "Repeat this for test_data"
   ]
  },
  {
   "cell_type": "code",
   "execution_count": 39,
   "metadata": {
    "scrolled": false
   },
   "outputs": [
    {
     "name": "stdout",
     "output_type": "stream",
     "text": [
      "<class 'pandas.core.frame.DataFrame'>\n",
      "RangeIndex: 367 entries, 0 to 366\n",
      "Data columns (total 11 columns):\n",
      " #   Column             Non-Null Count  Dtype  \n",
      "---  ------             --------------  -----  \n",
      " 0   Gender             367 non-null    int64  \n",
      " 1   Married            367 non-null    int8   \n",
      " 2   Dependents         367 non-null    int64  \n",
      " 3   Education          367 non-null    int8   \n",
      " 4   Self_Employed      367 non-null    int8   \n",
      " 5   ApplicantIncome    367 non-null    int64  \n",
      " 6   CoapplicantIncome  367 non-null    int64  \n",
      " 7   LoanAmount         367 non-null    float64\n",
      " 8   Loan_Amount_Term   367 non-null    float64\n",
      " 9   Credit_History     367 non-null    float64\n",
      " 10  Property_Area      367 non-null    object \n",
      "dtypes: float64(3), int64(4), int8(3), object(1)\n",
      "memory usage: 24.1+ KB\n"
     ]
    }
   ],
   "source": [
    "for col in df_test.columns:\n",
    "    if(df_test[col].dtype == 'object'):\n",
    "        if len(df_train[col].unique()) < 3:\n",
    "            df_test[col]= df_test[col].astype('category') #first convert to category\n",
    "            df_test[col] = df_test[col].cat.codes  #exploit cat.codes\n",
    "        \n",
    "df_test.info()"
   ]
  },
  {
   "cell_type": "markdown",
   "metadata": {},
   "source": [
    "### One-hot encoding"
   ]
  },
  {
   "cell_type": "markdown",
   "metadata": {},
   "source": [
    "Now we just got one more column which is property area, which has 3 categories.  "
   ]
  },
  {
   "cell_type": "code",
   "execution_count": 40,
   "metadata": {},
   "outputs": [
    {
     "data": {
      "text/plain": [
       "array(['Urban', 'Rural', 'Semiurban'], dtype=object)"
      ]
     },
     "execution_count": 40,
     "metadata": {},
     "output_type": "execute_result"
    }
   ],
   "source": [
    "df_train['Property_Area'].unique()"
   ]
  },
  {
   "cell_type": "markdown",
   "metadata": {},
   "source": [
    "For any categorical variable of more than 2 categories, it is better to use **one-hot encoding**.  \n",
    "\n",
    "Why?\n",
    "\n",
    "Previously, we simply convert Gender to 0 and 1.  This is also called **label encoding**.  However, this is actually NOT recommended **for those having more than 2 category levels**, because you introduce a numeric relationship, i.e., 0 < 1 < 2, which does not make sense for categorical variables.\n",
    "\n",
    "In fact, it is better to convert using one hot encoding.  Let's see code."
   ]
  },
  {
   "cell_type": "code",
   "execution_count": 41,
   "metadata": {},
   "outputs": [
    {
     "data": {
      "text/html": [
       "<div>\n",
       "<style scoped>\n",
       "    .dataframe tbody tr th:only-of-type {\n",
       "        vertical-align: middle;\n",
       "    }\n",
       "\n",
       "    .dataframe tbody tr th {\n",
       "        vertical-align: top;\n",
       "    }\n",
       "\n",
       "    .dataframe thead th {\n",
       "        text-align: right;\n",
       "    }\n",
       "</style>\n",
       "<table border=\"1\" class=\"dataframe\">\n",
       "  <thead>\n",
       "    <tr style=\"text-align: right;\">\n",
       "      <th></th>\n",
       "      <th>0</th>\n",
       "      <th>1</th>\n",
       "    </tr>\n",
       "  </thead>\n",
       "  <tbody>\n",
       "    <tr>\n",
       "      <th>0</th>\n",
       "      <td>0.0</td>\n",
       "      <td>1.0</td>\n",
       "    </tr>\n",
       "    <tr>\n",
       "      <th>1</th>\n",
       "      <td>0.0</td>\n",
       "      <td>0.0</td>\n",
       "    </tr>\n",
       "    <tr>\n",
       "      <th>2</th>\n",
       "      <td>0.0</td>\n",
       "      <td>1.0</td>\n",
       "    </tr>\n",
       "    <tr>\n",
       "      <th>3</th>\n",
       "      <td>0.0</td>\n",
       "      <td>1.0</td>\n",
       "    </tr>\n",
       "    <tr>\n",
       "      <th>4</th>\n",
       "      <td>0.0</td>\n",
       "      <td>1.0</td>\n",
       "    </tr>\n",
       "  </tbody>\n",
       "</table>\n",
       "</div>"
      ],
      "text/plain": [
       "     0    1\n",
       "0  0.0  1.0\n",
       "1  0.0  0.0\n",
       "2  0.0  1.0\n",
       "3  0.0  1.0\n",
       "4  0.0  1.0"
      ]
     },
     "execution_count": 41,
     "metadata": {},
     "output_type": "execute_result"
    }
   ],
   "source": [
    "from sklearn.preprocessing import OneHotEncoder\n",
    "\n",
    "ohe = OneHotEncoder(sparse=False, drop='first') #drop='first' help remove one unnecessary column\n",
    "\n",
    "df_train_ohe_property = pd.DataFrame(ohe.fit_transform(df_train[['Property_Area']]))\n",
    "df_test_ohe_property  = pd.DataFrame(ohe.fit_transform(df_test[['Property_Area']]))\n",
    "\n",
    "df_train_ohe_property.head()"
   ]
  },
  {
   "cell_type": "code",
   "execution_count": 42,
   "metadata": {},
   "outputs": [
    {
     "data": {
      "text/plain": [
       "array([[0., 0.],\n",
       "       [1., 0.],\n",
       "       [0., 1.]])"
      ]
     },
     "execution_count": 42,
     "metadata": {},
     "output_type": "execute_result"
    }
   ],
   "source": [
    "#find out the mapping\n",
    "ohe.transform(np.array([['Rural'], ['Semiurban'], ['Urban']]))"
   ]
  },
  {
   "cell_type": "code",
   "execution_count": 43,
   "metadata": {},
   "outputs": [],
   "source": [
    "# set the column name for good\n",
    "df_train_ohe_property.columns = ['Semiurban', 'Urban']\n",
    "df_test_ohe_property.columns = ['Semiurban', 'Urban']"
   ]
  },
  {
   "cell_type": "code",
   "execution_count": 44,
   "metadata": {},
   "outputs": [],
   "source": [
    "# delete the old column before joining\n",
    "df_train.drop(columns = ['Property_Area'], inplace=True)\n",
    "df_test.drop(columns = ['Property_Area'], inplace=True)"
   ]
  },
  {
   "cell_type": "code",
   "execution_count": 45,
   "metadata": {},
   "outputs": [
    {
     "data": {
      "text/html": [
       "<div>\n",
       "<style scoped>\n",
       "    .dataframe tbody tr th:only-of-type {\n",
       "        vertical-align: middle;\n",
       "    }\n",
       "\n",
       "    .dataframe tbody tr th {\n",
       "        vertical-align: top;\n",
       "    }\n",
       "\n",
       "    .dataframe thead th {\n",
       "        text-align: right;\n",
       "    }\n",
       "</style>\n",
       "<table border=\"1\" class=\"dataframe\">\n",
       "  <thead>\n",
       "    <tr style=\"text-align: right;\">\n",
       "      <th></th>\n",
       "      <th>Gender</th>\n",
       "      <th>Married</th>\n",
       "      <th>Dependents</th>\n",
       "      <th>Education</th>\n",
       "      <th>Self_Employed</th>\n",
       "      <th>ApplicantIncome</th>\n",
       "      <th>CoapplicantIncome</th>\n",
       "      <th>LoanAmount</th>\n",
       "      <th>Loan_Amount_Term</th>\n",
       "      <th>Credit_History</th>\n",
       "      <th>Loan_Status</th>\n",
       "      <th>Semiurban</th>\n",
       "      <th>Urban</th>\n",
       "    </tr>\n",
       "  </thead>\n",
       "  <tbody>\n",
       "    <tr>\n",
       "      <th>0</th>\n",
       "      <td>1</td>\n",
       "      <td>0</td>\n",
       "      <td>0</td>\n",
       "      <td>0</td>\n",
       "      <td>0</td>\n",
       "      <td>5849</td>\n",
       "      <td>0.0</td>\n",
       "      <td>128.0</td>\n",
       "      <td>360.0</td>\n",
       "      <td>1.0</td>\n",
       "      <td>1</td>\n",
       "      <td>0.0</td>\n",
       "      <td>1.0</td>\n",
       "    </tr>\n",
       "    <tr>\n",
       "      <th>1</th>\n",
       "      <td>1</td>\n",
       "      <td>1</td>\n",
       "      <td>1</td>\n",
       "      <td>0</td>\n",
       "      <td>0</td>\n",
       "      <td>4583</td>\n",
       "      <td>1508.0</td>\n",
       "      <td>128.0</td>\n",
       "      <td>360.0</td>\n",
       "      <td>1.0</td>\n",
       "      <td>0</td>\n",
       "      <td>0.0</td>\n",
       "      <td>0.0</td>\n",
       "    </tr>\n",
       "    <tr>\n",
       "      <th>2</th>\n",
       "      <td>1</td>\n",
       "      <td>1</td>\n",
       "      <td>0</td>\n",
       "      <td>0</td>\n",
       "      <td>1</td>\n",
       "      <td>3000</td>\n",
       "      <td>0.0</td>\n",
       "      <td>66.0</td>\n",
       "      <td>360.0</td>\n",
       "      <td>1.0</td>\n",
       "      <td>1</td>\n",
       "      <td>0.0</td>\n",
       "      <td>1.0</td>\n",
       "    </tr>\n",
       "    <tr>\n",
       "      <th>3</th>\n",
       "      <td>1</td>\n",
       "      <td>1</td>\n",
       "      <td>0</td>\n",
       "      <td>1</td>\n",
       "      <td>0</td>\n",
       "      <td>2583</td>\n",
       "      <td>2358.0</td>\n",
       "      <td>120.0</td>\n",
       "      <td>360.0</td>\n",
       "      <td>1.0</td>\n",
       "      <td>1</td>\n",
       "      <td>0.0</td>\n",
       "      <td>1.0</td>\n",
       "    </tr>\n",
       "    <tr>\n",
       "      <th>4</th>\n",
       "      <td>1</td>\n",
       "      <td>0</td>\n",
       "      <td>0</td>\n",
       "      <td>0</td>\n",
       "      <td>0</td>\n",
       "      <td>6000</td>\n",
       "      <td>0.0</td>\n",
       "      <td>141.0</td>\n",
       "      <td>360.0</td>\n",
       "      <td>1.0</td>\n",
       "      <td>1</td>\n",
       "      <td>0.0</td>\n",
       "      <td>1.0</td>\n",
       "    </tr>\n",
       "  </tbody>\n",
       "</table>\n",
       "</div>"
      ],
      "text/plain": [
       "   Gender  Married  Dependents  Education  Self_Employed  ApplicantIncome  \\\n",
       "0       1        0           0          0              0             5849   \n",
       "1       1        1           1          0              0             4583   \n",
       "2       1        1           0          0              1             3000   \n",
       "3       1        1           0          1              0             2583   \n",
       "4       1        0           0          0              0             6000   \n",
       "\n",
       "   CoapplicantIncome  LoanAmount  Loan_Amount_Term  Credit_History  \\\n",
       "0                0.0       128.0             360.0             1.0   \n",
       "1             1508.0       128.0             360.0             1.0   \n",
       "2                0.0        66.0             360.0             1.0   \n",
       "3             2358.0       120.0             360.0             1.0   \n",
       "4                0.0       141.0             360.0             1.0   \n",
       "\n",
       "   Loan_Status  Semiurban  Urban  \n",
       "0            1        0.0    1.0  \n",
       "1            0        0.0    0.0  \n",
       "2            1        0.0    1.0  \n",
       "3            1        0.0    1.0  \n",
       "4            1        0.0    1.0  "
      ]
     },
     "execution_count": 45,
     "metadata": {},
     "output_type": "execute_result"
    }
   ],
   "source": [
    "# join the ohe table\n",
    "df_train = df_train.join(df_train_ohe_property)\n",
    "df_test = df_test.join(df_test_ohe_property)\n",
    "\n",
    "df_train.head()"
   ]
  },
  {
   "cell_type": "code",
   "execution_count": 46,
   "metadata": {},
   "outputs": [
    {
     "name": "stdout",
     "output_type": "stream",
     "text": [
      "<class 'pandas.core.frame.DataFrame'>\n",
      "RangeIndex: 614 entries, 0 to 613\n",
      "Data columns (total 13 columns):\n",
      " #   Column             Non-Null Count  Dtype  \n",
      "---  ------             --------------  -----  \n",
      " 0   Gender             614 non-null    int64  \n",
      " 1   Married            614 non-null    int8   \n",
      " 2   Dependents         614 non-null    int64  \n",
      " 3   Education          614 non-null    int8   \n",
      " 4   Self_Employed      614 non-null    int8   \n",
      " 5   ApplicantIncome    614 non-null    int64  \n",
      " 6   CoapplicantIncome  614 non-null    float64\n",
      " 7   LoanAmount         614 non-null    float64\n",
      " 8   Loan_Amount_Term   614 non-null    float64\n",
      " 9   Credit_History     614 non-null    float64\n",
      " 10  Loan_Status        614 non-null    int8   \n",
      " 11  Semiurban          614 non-null    float64\n",
      " 12  Urban              614 non-null    float64\n",
      "dtypes: float64(6), int64(3), int8(4)\n",
      "memory usage: 45.7 KB\n"
     ]
    }
   ],
   "source": [
    "df_train.info()"
   ]
  },
  {
   "cell_type": "code",
   "execution_count": 47,
   "metadata": {},
   "outputs": [
    {
     "name": "stdout",
     "output_type": "stream",
     "text": [
      "<class 'pandas.core.frame.DataFrame'>\n",
      "RangeIndex: 367 entries, 0 to 366\n",
      "Data columns (total 12 columns):\n",
      " #   Column             Non-Null Count  Dtype  \n",
      "---  ------             --------------  -----  \n",
      " 0   Gender             367 non-null    int64  \n",
      " 1   Married            367 non-null    int8   \n",
      " 2   Dependents         367 non-null    int64  \n",
      " 3   Education          367 non-null    int8   \n",
      " 4   Self_Employed      367 non-null    int8   \n",
      " 5   ApplicantIncome    367 non-null    int64  \n",
      " 6   CoapplicantIncome  367 non-null    int64  \n",
      " 7   LoanAmount         367 non-null    float64\n",
      " 8   Loan_Amount_Term   367 non-null    float64\n",
      " 9   Credit_History     367 non-null    float64\n",
      " 10  Semiurban          367 non-null    float64\n",
      " 11  Urban              367 non-null    float64\n",
      "dtypes: float64(5), int64(4), int8(3)\n",
      "memory usage: 27.0 KB\n"
     ]
    }
   ],
   "source": [
    "df_test.info()"
   ]
  },
  {
   "cell_type": "markdown",
   "metadata": {},
   "source": [
    "## 3. Exploratory Data Analysis\n",
    "\n",
    "Last time we used correlation matrix and predictive score.  However, both are not so useful in classification problem.  Instead, we shall use boxplot to quickly plot relationship between variables."
   ]
  },
  {
   "cell_type": "code",
   "execution_count": 48,
   "metadata": {},
   "outputs": [
    {
     "data": {
      "image/png": "[encoded data removed]",
      "text/plain": [
       "<Figure size 432x288 with 1 Axes>"
      ]
     },
     "metadata": {
      "needs_background": "light"
     },
     "output_type": "display_data"
    },
    {
     "data": {
      "image/png": "[encoded data removed]",
      "text/plain": [
       "<Figure size 432x288 with 1 Axes>"
      ]
     },
     "metadata": {
      "needs_background": "light"
     },
     "output_type": "display_data"
    },
    {
     "data": {
      "image/png": "[encoded data removed]",
      "text/plain": [
       "<Figure size 432x288 with 1 Axes>"
      ]
     },
     "metadata": {
      "needs_background": "light"
     },
     "output_type": "display_data"
    },
    {
     "data": {
      "image/png": "[encoded data removed]",
      "text/plain": [
       "<Figure size 432x288 with 1 Axes>"
      ]
     },
     "metadata": {
      "needs_background": "light"
     },
     "output_type": "display_data"
    },
    {
     "data": {
      "image/png": "[encoded data removed]",
      "text/plain": [
       "<Figure size 432x288 with 1 Axes>"
      ]
     },
     "metadata": {
      "needs_background": "light"
     },
     "output_type": "display_data"
    },
    {
     "data": {
      "image/png": "[encoded data removed]",
      "text/plain": [
       "<Figure size 432x288 with 1 Axes>"
      ]
     },
     "metadata": {
      "needs_background": "light"
     },
     "output_type": "display_data"
    },
    {
     "data": {
      "image/png": "[encoded data removed]",
      "text/plain": [
       "<Figure size 432x288 with 1 Axes>"
      ]
     },
     "metadata": {
      "needs_background": "light"
     },
     "output_type": "display_data"
    },
    {
     "data": {
      "image/png": "[encoded data removed]",
      "text/plain": [
       "<Figure size 432x288 with 1 Axes>"
      ]
     },
     "metadata": {
      "needs_background": "light"
     },
     "output_type": "display_data"
    },
    {
     "data": {
      "image/png": "[encoded data removed]",
      "text/plain": [
       "<Figure size 432x288 with 1 Axes>"
      ]
     },
     "metadata": {
      "needs_background": "light"
     },
     "output_type": "display_data"
    }
   ],
   "source": [
    "categorical = ['Gender', 'Married', 'Dependents', 'Education', 'Self_Employed', 'Loan_Amount_Term', 'Credit_History', 'Semiurban', 'Urban']\n",
    "\n",
    "for col in categorical:\n",
    "    sns.countplot(x=col,data=df_train,hue='Loan_Status')\n",
    "    plt.show()"
   ]
  },
  {
   "cell_type": "markdown",
   "metadata": {},
   "source": [
    "What we learn:\n",
    "    \n",
    "1. Male are more likely to get loans\n",
    "2. Married people are more likely to get loans\n",
    "3. No dependents are more likely to get loans\n",
    "4. Graduates are more likely to get loans\n",
    "5. Not self-employed is more likely to get loans\n",
    "6. Majority of loans are 360 months\n",
    "7. People with credit history are more likely to get loans\n",
    "8. Semiurban and urban people are more likely to get loans\n",
    "\n",
    "Let's also look at numerical column."
   ]
  },
  {
   "cell_type": "code",
   "execution_count": 49,
   "metadata": {},
   "outputs": [
    {
     "name": "stdout",
     "output_type": "stream",
     "text": [
      "<class 'pandas.core.frame.DataFrame'>\n",
      "RangeIndex: 614 entries, 0 to 613\n",
      "Data columns (total 13 columns):\n",
      " #   Column             Non-Null Count  Dtype  \n",
      "---  ------             --------------  -----  \n",
      " 0   Gender             614 non-null    int64  \n",
      " 1   Married            614 non-null    int8   \n",
      " 2   Dependents         614 non-null    int64  \n",
      " 3   Education          614 non-null    int8   \n",
      " 4   Self_Employed      614 non-null    int8   \n",
      " 5   ApplicantIncome    614 non-null    int64  \n",
      " 6   CoapplicantIncome  614 non-null    float64\n",
      " 7   LoanAmount         614 non-null    float64\n",
      " 8   Loan_Amount_Term   614 non-null    float64\n",
      " 9   Credit_History     614 non-null    float64\n",
      " 10  Loan_Status        614 non-null    int8   \n",
      " 11  Semiurban          614 non-null    float64\n",
      " 12  Urban              614 non-null    float64\n",
      "dtypes: float64(6), int64(3), int8(4)\n",
      "memory usage: 45.7 KB\n"
     ]
    }
   ],
   "source": [
    "df_train.info()"
   ]
  },
  {
   "cell_type": "code",
   "execution_count": 50,
   "metadata": {
    "scrolled": true
   },
   "outputs": [
    {
     "data": {
      "image/png": "[encoded data removed]",
      "text/plain": [
       "<Figure size 432x288 with 1 Axes>"
      ]
     },
     "metadata": {
      "needs_background": "light"
     },
     "output_type": "display_data"
    },
    {
     "data": {
      "image/png": "[encoded data removed]",
      "text/plain": [
       "<Figure size 432x288 with 1 Axes>"
      ]
     },
     "metadata": {
      "needs_background": "light"
     },
     "output_type": "display_data"
    },
    {
     "data": {
      "image/png": "[encoded data removed]",
      "text/plain": [
       "<Figure size 432x288 with 1 Axes>"
      ]
     },
     "metadata": {
      "needs_background": "light"
     },
     "output_type": "display_data"
    }
   ],
   "source": [
    "numerical = ['ApplicantIncome', 'CoapplicantIncome', 'LoanAmount']\n",
    "\n",
    "for col in numerical:\n",
    "    sns.boxplot(y=col,data=df_train,x='Loan_Status')\n",
    "    plt.show()"
   ]
  },
  {
   "cell_type": "markdown",
   "metadata": {},
   "source": [
    "It's clear that numerical columns have little relationship...."
   ]
  },
  {
   "cell_type": "markdown",
   "metadata": {},
   "source": [
    "## 4) Modeling\n",
    "\n",
    "Before we can do modeling, let's change everything to int"
   ]
  },
  {
   "cell_type": "markdown",
   "metadata": {},
   "source": [
    "### Setting X and y\n",
    "\n",
    "Let's set X and y.  For X, we shall drop Loan_Status, and all numeric data based on our box plot analysis (for now, we not gonna trust the ppsscore).  For y, it is Loan_Status"
   ]
  },
  {
   "cell_type": "code",
   "execution_count": 51,
   "metadata": {},
   "outputs": [],
   "source": [
    "X_train = df_train.drop(columns=['LoanAmount', 'ApplicantIncome', 'CoapplicantIncome', 'Loan_Status'])\n",
    "y_train = df_train['Loan_Status']"
   ]
  },
  {
   "cell_type": "code",
   "execution_count": 52,
   "metadata": {},
   "outputs": [],
   "source": [
    "X_test  = df_test.drop(columns=numerical)\n",
    "#note that our test set has no loan_status because this is what we have..."
   ]
  },
  {
   "cell_type": "markdown",
   "metadata": {},
   "source": [
    "### Scaling"
   ]
  },
  {
   "cell_type": "code",
   "execution_count": 53,
   "metadata": {},
   "outputs": [],
   "source": [
    "# split X and y into X_train, X_val, y_train, y_val\n",
    "from sklearn.preprocessing import StandardScaler\n",
    "\n",
    "sc = StandardScaler()\n",
    "X_train = sc.fit_transform(X_train)\n",
    "X_test  = sc.transform(X_test)"
   ]
  },
  {
   "cell_type": "markdown",
   "metadata": {},
   "source": [
    "### Train a classification model"
   ]
  },
  {
   "cell_type": "code",
   "execution_count": 54,
   "metadata": {},
   "outputs": [],
   "source": [
    "from sklearn.linear_model import LogisticRegression as lr\n",
    "from sklearn.tree import DecisionTreeClassifier as dt\n",
    "from sklearn.neighbors import KNeighborsClassifier as knn\n",
    "from sklearn.ensemble import RandomForestClassifier as rf\n",
    "from sklearn.svm import SVC as sv\n",
    "\n",
    "from sklearn.metrics import classification_report\n",
    "\n",
    "# models that we will be using, put them in a list\n",
    "algorithms = [lr(), dt(), knn(), rf(), sv()]\n",
    "\n",
    "# The names of the models\n",
    "algorithm_names = [\"Logistic Regression\", \"Decision Tree\", \"KNeighbors\", \"Random-Forest Regressor\", \"Support Vector Machine\"]"
   ]
  },
  {
   "cell_type": "markdown",
   "metadata": {},
   "source": [
    "Let's do some simple cross-validation here....(note that you can also do nested cv here...but I am too lazy)"
   ]
  },
  {
   "cell_type": "code",
   "execution_count": 55,
   "metadata": {},
   "outputs": [
    {
     "name": "stdout",
     "output_type": "stream",
     "text": [
      "Logistic Regression - Score: [0.80487805 0.85365854 0.78861789 0.7804878  0.77868852]; Mean: 0.8012661602025857\n",
      "Decision Tree - Score: [0.73170732 0.7398374  0.69918699 0.69105691 0.7295082 ]; Mean: 0.7182593629214982\n",
      "KNeighbors - Score: [0.7804878  0.75609756 0.78861789 0.80487805 0.7704918 ]; Mean: 0.7801146208183394\n",
      "Random-Forest Regressor - Score: [0.80487805 0.77235772 0.76422764 0.75609756 0.77868852]; Mean: 0.7752499000399841\n",
      "Support Vector Machine - Score: [0.74796748 0.82113821 0.82113821 0.81300813 0.78688525]; Mean: 0.7980274556843929\n"
     ]
    }
   ],
   "source": [
    "from sklearn.model_selection import KFold, cross_val_score\n",
    "\n",
    "#lists for keeping mse\n",
    "train_mse = []\n",
    "test_mse = []\n",
    "\n",
    "#defining splits\n",
    "kfold = KFold(n_splits=5, shuffle=True)\n",
    "\n",
    "for i, model in enumerate(algorithms):\n",
    "    scores = cross_val_score(model, X_train, y_train, cv=kfold, scoring='accuracy')\n",
    "    print(f\"{algorithm_names[i]} - Score: {scores}; Mean: {scores.mean()}\")"
   ]
  },
  {
   "cell_type": "markdown",
   "metadata": {},
   "source": [
    "### Grid Search"
   ]
  },
  {
   "cell_type": "code",
   "execution_count": 56,
   "metadata": {
    "scrolled": true
   },
   "outputs": [
    {
     "data": {
      "text/plain": [
       "GridSearchCV(cv=KFold(n_splits=5, random_state=None, shuffle=True),\n",
       "             estimator=LogisticRegression(),\n",
       "             param_grid={'solver': ['newton-cg', 'lbfgs', 'liblinear']},\n",
       "             scoring='f1_macro')"
      ]
     },
     "execution_count": 56,
     "metadata": {},
     "output_type": "execute_result"
    }
   ],
   "source": [
    "from sklearn.model_selection import GridSearchCV\n",
    "\n",
    "model = lr()\n",
    "\n",
    "param_grid = dict()\n",
    "param_grid['solver'] = ['newton-cg', 'lbfgs', 'liblinear']\n",
    "\n",
    "grid = GridSearchCV(model, param_grid, cv=kfold, refit=True, scoring='f1_macro')\n",
    "grid.fit(X_train, y_train)"
   ]
  },
  {
   "cell_type": "code",
   "execution_count": 57,
   "metadata": {},
   "outputs": [
    {
     "data": {
      "text/plain": [
       "{'solver': 'newton-cg'}"
      ]
     },
     "execution_count": 57,
     "metadata": {},
     "output_type": "execute_result"
    }
   ],
   "source": [
    "grid.best_params_"
   ]
  },
  {
   "cell_type": "code",
   "execution_count": 58,
   "metadata": {},
   "outputs": [],
   "source": [
    "# Find your grid_search's best score\n",
    "best_accuracy = grid.best_score_"
   ]
  },
  {
   "cell_type": "code",
   "execution_count": 59,
   "metadata": {},
   "outputs": [
    {
     "data": {
      "text/plain": [
       "0.721532355739299"
      ]
     },
     "execution_count": 59,
     "metadata": {},
     "output_type": "execute_result"
    }
   ],
   "source": [
    "best_accuracy"
   ]
  },
  {
   "cell_type": "markdown",
   "metadata": {},
   "source": [
    "### Feature Importance\n",
    "\n",
    "Unfortunately, Logistic Regression by sklearn does not provide feature importance, thus we cannot use <code>Shap</code>.  Since we also don't have y_test, we also cannot use permutation technique.\n",
    "\n",
    "The good news is that computing feature importance of logistic regression is simple, i.e., based on its weights on the feature.  The bigger weight on that feature indicates higher importance."
   ]
  },
  {
   "cell_type": "code",
   "execution_count": 60,
   "metadata": {},
   "outputs": [
    {
     "data": {
      "text/plain": [
       "array([ 1.13800278e-02,  2.29696340e-01,  9.91074508e-03, -1.22737369e-01,\n",
       "       -8.59256479e-05, -2.90822627e-02,  1.14871874e+00,  4.31551107e-01,\n",
       "        1.04487744e-01])"
      ]
     },
     "execution_count": 60,
     "metadata": {},
     "output_type": "execute_result"
    }
   ],
   "source": [
    "#obtain the weights\n",
    "model = grid.best_estimator_\n",
    "weights = model.coef_\n",
    "\n",
    "weights[0]"
   ]
  },
  {
   "cell_type": "code",
   "execution_count": 61,
   "metadata": {},
   "outputs": [
    {
     "data": {
      "text/plain": [
       "Index(['Gender', 'Married', 'Dependents', 'Education', 'Self_Employed',\n",
       "       'Loan_Amount_Term', 'Credit_History', 'Semiurban', 'Urban'],\n",
       "      dtype='object')"
      ]
     },
     "execution_count": 61,
     "metadata": {},
     "output_type": "execute_result"
    }
   ],
   "source": [
    "#obtain column name\n",
    "our_df = df_train.drop(columns=['LoanAmount', 'ApplicantIncome', 'CoapplicantIncome', 'Loan_Status'])\n",
    "column_names = our_df.columns\n",
    "column_names"
   ]
  },
  {
   "cell_type": "code",
   "execution_count": 62,
   "metadata": {
    "scrolled": true
   },
   "outputs": [
    {
     "data": {
      "image/png": "[encoded data removed]",
      "text/plain": [
       "<Figure size 432x288 with 1 Axes>"
      ]
     },
     "metadata": {
      "needs_background": "light"
     },
     "output_type": "display_data"
    }
   ],
   "source": [
    "import math\n",
    "\n",
    "feature_importance = pd.DataFrame(column_names, columns = [\"feature\"])\n",
    "feature_importance[\"importance\"] = pow(math.e, weights[0])\n",
    "feature_importance = feature_importance.sort_values(by = [\"importance\"], ascending=True)\n",
    "\n",
    "ax = feature_importance.plot.barh(x='feature', y='importance')\n",
    "plt.show()"
   ]
  },
  {
   "cell_type": "markdown",
   "metadata": {},
   "source": [
    "**Very important note**: before using technique, make sure to use <code>StandardScaler()</code> first to put everything in same scale, if not, your feature importance would give wrong results.  Luckily, we have done this as common practice throughout the course."
   ]
  },
  {
   "cell_type": "markdown",
   "metadata": {},
   "source": [
    "### Inference"
   ]
  },
  {
   "cell_type": "code",
   "execution_count": 63,
   "metadata": {},
   "outputs": [
    {
     "name": "stdout",
     "output_type": "stream",
     "text": [
      "[1 1 1 1 1 1 1 0 1 1 1 1 1 0 1 1 1 1 1 1 1 1 1 1 1 0 1 1 0 1 1 1 1 1 1 0 1\n",
      " 1 1 1 1 1 1 1 1 0 1 1 1 1 1 1 1 1 1 0 1 1 0 1 1 1 1 0 1 1 0 0 1 0 1 1 1 1\n",
      " 1 1 1 1 1 1 0 1 0 1 0 1 1 1 1 1 1 1 1 1 0 1 1 1 1 1 1 0 1 1 0 1 0 1 1 1 1\n",
      " 1 1 1 1 1 1 0 0 0 1 1 1 0 0 1 0 1 1 1 1 1 1 1 1 1 1 1 1 1 0 1 0 1 1 1 1 0\n",
      " 1 1 1 1 1 0 1 1 1 1 1 1 1 0 1 1 1 0 0 1 0 1 1 1 1 0 0 1 1 0 1 1 1 1 1 1 1\n",
      " 1 1 1 1 1 1 1 0 0 1 1 0 1 0 1 1 1 1 1 1 1 1 1 1 1 1 0 1 1 1 1 1 1 1 1 1 1\n",
      " 1 1 0 1 1 1 1 0 1 1 1 1 1 0 0 1 1 1 1 0 1 0 1 0 1 1 1 1 0 1 1 1 1 0 1 1 1\n",
      " 0 1 1 1 1 1 1 0 1 0 1 1 1 1 0 0 1 1 1 0 1 1 1 1 1 1 1 1 1 1 1 1 1 1 0 1 1\n",
      " 1 1 1 1 1 0 1 1 1 1 1 1 1 1 1 0 1 1 1 1 1 0 1 1 1 1 1 1 1 0 1 1 1 0 1 1 1\n",
      " 1 1 1 1 1 1 0 1 1 1 1 1 1 0 1 1 1 1 1 1 1 0 1 1 1 1 1 1 1 1 1 1 1 1]\n"
     ]
    }
   ],
   "source": [
    "yhat = grid.predict(X_test)\n",
    "print(yhat)  #submit this to kaggle"
   ]
  },
  {
   "cell_type": "markdown",
   "metadata": {},
   "source": [
    "### Inference using probability\n",
    "\n",
    "Sometimes, your production requires you to output probabilities, instead of exact class, which is more liberal.  Most classification algorithm has a function <code>predict_proba</code>."
   ]
  },
  {
   "cell_type": "code",
   "execution_count": 64,
   "id": "b18c67b3",
   "metadata": {},
   "outputs": [
    {
     "name": "stdout",
     "output_type": "stream",
     "text": [
      "[[0.19439568 0.80560432]\n",
      " [0.19313004 0.80686996]\n",
      " [0.19187067 0.80812933]\n",
      " [0.19187067 0.80812933]\n",
      " [0.34468011 0.65531989]\n",
      " [0.24521488 0.75478512]\n",
      " [0.21616117 0.78383883]\n",
      " [0.89958642 0.10041358]\n",
      " [0.18377672 0.81622328]\n",
      " [0.21257989 0.78742011]\n",
      " [0.34468011 0.65531989]\n",
      " [0.10941446 0.89058554]\n",
      " [0.25890646 0.74109354]\n",
      " [0.73226912 0.26773088]\n",
      " [0.17118885 0.82881115]\n",
      " [0.27933632 0.72066368]\n",
      " [0.19187067 0.80812933]\n",
      " [0.10706848 0.89293152]\n",
      " [0.19439568 0.80560432]\n",
      " [0.1562775  0.8437225 ]\n",
      " [0.24367216 0.75632784]\n",
      " [0.32626083 0.67373917]\n",
      " [0.28097018 0.71902982]\n",
      " [0.35134322 0.64865678]\n",
      " [0.19439568 0.80560432]\n",
      " [0.91634842 0.08365158]\n",
      " [0.19187067 0.80812933]\n",
      " [0.19439568 0.80560432]\n",
      " [0.73543385 0.26456615]\n",
      " [0.26517292 0.73482708]\n",
      " [0.21753704 0.78246296]\n",
      " [0.19187067 0.80812933]\n",
      " [0.16706237 0.83293763]\n",
      " [0.19439568 0.80560432]\n",
      " [0.19439568 0.80560432]\n",
      " [0.8182316  0.1817684 ]\n",
      " [0.17983005 0.82016995]\n",
      " [0.19443504 0.80556496]\n",
      " [0.28102095 0.71897905]\n",
      " [0.28097018 0.71902982]\n",
      " [0.19439568 0.80560432]\n",
      " [0.28694097 0.71305903]\n",
      " [0.14289054 0.85710946]\n",
      " [0.16706237 0.83293763]\n",
      " [0.28694097 0.71305903]\n",
      " [0.84413295 0.15586705]\n",
      " [0.24516837 0.75483163]\n",
      " [0.21257989 0.78742011]\n",
      " [0.28097018 0.71902982]\n",
      " [0.13899738 0.86100262]\n",
      " [0.19313004 0.80686996]\n",
      " [0.13896731 0.86103269]\n",
      " [0.10941446 0.89058554]\n",
      " [0.17983005 0.82016995]\n",
      " [0.24521488 0.75478512]\n",
      " [0.89764701 0.10235299]\n",
      " [0.40353601 0.59646399]\n",
      " [0.10115682 0.89884318]\n",
      " [0.73798706 0.26201294]\n",
      " [0.09969302 0.90030698]\n",
      " [0.14289054 0.85710946]\n",
      " [0.19443504 0.80556496]\n",
      " [0.16890208 0.83109792]\n",
      " [0.91857214 0.08142786]\n",
      " [0.23922075 0.76077925]\n",
      " [0.11020642 0.88979358]\n",
      " [0.78910131 0.21089869]\n",
      " [0.73543385 0.26456615]\n",
      " [0.11020642 0.88979358]\n",
      " [0.87120929 0.12879071]\n",
      " [0.17004241 0.82995759]\n",
      " [0.16706237 0.83293763]\n",
      " [0.17332945 0.82667055]\n",
      " [0.2316427  0.7683573 ]\n",
      " [0.14289054 0.85710946]\n",
      " [0.28097018 0.71902982]\n",
      " [0.19439568 0.80560432]\n",
      " [0.32805042 0.67194958]\n",
      " [0.10941446 0.89058554]\n",
      " [0.19903597 0.80096403]\n",
      " [0.83982138 0.16017862]\n",
      " [0.18937076 0.81062924]\n",
      " [0.90427929 0.09572071]\n",
      " [0.23159798 0.76840202]\n",
      " [0.71965895 0.28034105]\n",
      " [0.21498876 0.78501124]\n",
      " [0.19439568 0.80560432]\n",
      " [0.16706237 0.83293763]\n",
      " [0.20988023 0.79011977]\n",
      " [0.33450024 0.66549976]\n",
      " [0.2316427  0.7683573 ]\n",
      " [0.22588105 0.77411895]\n",
      " [0.10941446 0.89058554]\n",
      " [0.14091751 0.85908249]\n",
      " [0.73385449 0.26614551]\n",
      " [0.10990863 0.89009137]\n",
      " [0.19313004 0.80686996]\n",
      " [0.11020642 0.88979358]\n",
      " [0.18937076 0.81062924]\n",
      " [0.10706848 0.89293152]\n",
      " [0.32799503 0.67200497]\n",
      " [0.75115873 0.24884127]\n",
      " [0.19313004 0.80686996]\n",
      " [0.26934176 0.73065824]\n",
      " [0.8182316  0.1817684 ]\n",
      " [0.11311927 0.88688073]\n",
      " [0.89764701 0.10235299]\n",
      " [0.22588105 0.77411895]\n",
      " [0.11020642 0.88979358]\n",
      " [0.24516837 0.75483163]\n",
      " [0.17122451 0.82877549]\n",
      " [0.11020642 0.88979358]\n",
      " [0.28694097 0.71305903]\n",
      " [0.11150385 0.88849615]\n",
      " [0.23159798 0.76840202]\n",
      " [0.16260138 0.83739862]\n",
      " [0.21753704 0.78246296]\n",
      " [0.86104457 0.13895543]\n",
      " [0.90031378 0.09968622]\n",
      " [0.86938024 0.13061976]\n",
      " [0.28097018 0.71902982]\n",
      " [0.23159798 0.76840202]\n",
      " [0.18937076 0.81062924]\n",
      " [0.91634842 0.08365158]\n",
      " [0.90031378 0.09968622]\n",
      " [0.16706237 0.83293763]\n",
      " [0.89764701 0.10235299]\n",
      " [0.19187067 0.80812933]\n",
      " [0.26517292 0.73482708]\n",
      " [0.14190116 0.85809884]\n",
      " [0.19439568 0.80560432]\n",
      " [0.32799503 0.67200497]\n",
      " [0.23020386 0.76979614]\n",
      " [0.28528617 0.71471383]\n",
      " [0.25698361 0.74301639]\n",
      " [0.19439568 0.80560432]\n",
      " [0.22872695 0.77127305]\n",
      " [0.23015933 0.76984067]\n",
      " [0.16706237 0.83293763]\n",
      " [0.16663972 0.83336028]\n",
      " [0.91634842 0.08365158]\n",
      " [0.21673718 0.78326282]\n",
      " [0.87588728 0.12411272]\n",
      " [0.11023107 0.88976893]\n",
      " [0.20275669 0.79724331]\n",
      " [0.28154301 0.71845699]\n",
      " [0.21257989 0.78742011]\n",
      " [0.93650152 0.06349848]\n",
      " [0.10941446 0.89058554]\n",
      " [0.28097018 0.71902982]\n",
      " [0.28097018 0.71902982]\n",
      " [0.19439568 0.80560432]\n",
      " [0.32799503 0.67200497]\n",
      " [0.87850542 0.12149458]\n",
      " [0.22872695 0.77127305]\n",
      " [0.20821385 0.79178615]\n",
      " [0.19190964 0.80809036]\n",
      " [0.23081194 0.76918806]\n",
      " [0.16593803 0.83406197]\n",
      " [0.28860631 0.71139369]\n",
      " [0.32799503 0.67200497]\n",
      " [0.81826897 0.18173103]\n",
      " [0.28097018 0.71902982]\n",
      " [0.33450024 0.66549976]\n",
      " [0.3146573  0.6853427 ]\n",
      " [0.85833868 0.14166132]\n",
      " [0.920729   0.079271  ]\n",
      " [0.19439568 0.80560432]\n",
      " [0.73489083 0.26510917]\n",
      " [0.23540386 0.76459614]\n",
      " [0.33450024 0.66549976]\n",
      " [0.28529096 0.71470904]\n",
      " [0.23159798 0.76840202]\n",
      " [0.89009879 0.10990121]\n",
      " [0.90104064 0.09895936]\n",
      " [0.22872695 0.77127305]\n",
      " [0.24218214 0.75781786]\n",
      " [0.91857214 0.08142786]\n",
      " [0.22872695 0.77127305]\n",
      " [0.18937076 0.81062924]\n",
      " [0.1086275  0.8913725 ]\n",
      " [0.11020642 0.88979358]\n",
      " [0.19187067 0.80812933]\n",
      " [0.23540386 0.76459614]\n",
      " [0.17745257 0.82254743]\n",
      " [0.14289054 0.85710946]\n",
      " [0.14091751 0.85908249]\n",
      " [0.1086275  0.8913725 ]\n",
      " [0.28860631 0.71139369]\n",
      " [0.22872695 0.77127305]\n",
      " [0.21414875 0.78585125]\n",
      " [0.28097018 0.71902982]\n",
      " [0.89960912 0.10039088]\n",
      " [0.89811324 0.10188676]\n",
      " [0.10941446 0.89058554]\n",
      " [0.28102095 0.71897905]\n",
      " [0.73385449 0.26614551]\n",
      " [0.28860631 0.71139369]\n",
      " [0.84198911 0.15801089]\n",
      " [0.2316427  0.7683573 ]\n",
      " [0.24122176 0.75877824]\n",
      " [0.23922075 0.76077925]\n",
      " [0.19439568 0.80560432]\n",
      " [0.11311927 0.88688073]\n",
      " [0.17118885 0.82881115]\n",
      " [0.11020642 0.88979358]\n",
      " [0.10941446 0.89058554]\n",
      " [0.10941446 0.89058554]\n",
      " [0.28694097 0.71305903]\n",
      " [0.39455111 0.60544889]\n",
      " [0.28694097 0.71305903]\n",
      " [0.91634842 0.08365158]\n",
      " [0.10709251 0.89290749]\n",
      " [0.32799503 0.67200497]\n",
      " [0.28860631 0.71139369]\n",
      " [0.24029143 0.75970857]\n",
      " [0.12622415 0.87377585]\n",
      " [0.23159798 0.76840202]\n",
      " [0.23020386 0.76979614]\n",
      " [0.19313004 0.80686996]\n",
      " [0.19439568 0.80560432]\n",
      " [0.28860631 0.71139369]\n",
      " [0.25205406 0.74794594]\n",
      " [0.32683493 0.67316507]\n",
      " [0.8202182  0.1797818 ]\n",
      " [0.28694097 0.71305903]\n",
      " [0.19439568 0.80560432]\n",
      " [0.23015933 0.76984067]\n",
      " [0.32799503 0.67200497]\n",
      " [0.87588728 0.12411272]\n",
      " [0.16706237 0.83293763]\n",
      " [0.28102095 0.71897905]\n",
      " [0.21773602 0.78226398]\n",
      " [0.17004241 0.82995759]\n",
      " [0.19903597 0.80096403]\n",
      " [0.89764701 0.10235299]\n",
      " [0.8225585  0.1774415 ]\n",
      " [0.28529096 0.71470904]\n",
      " [0.14091751 0.85908249]\n",
      " [0.29181435 0.70818565]\n",
      " [0.34468011 0.65531989]\n",
      " [0.73543385 0.26456615]\n",
      " [0.11020642 0.88979358]\n",
      " [0.87120929 0.12879071]\n",
      " [0.21753704 0.78246296]\n",
      " [0.71965895 0.28034105]\n",
      " [0.19190964 0.80809036]\n",
      " [0.19187067 0.80812933]\n",
      " [0.14292132 0.85707868]\n",
      " [0.3106963  0.6893037 ]\n",
      " [0.84683181 0.15316819]\n",
      " [0.10763136 0.89236864]\n",
      " [0.17004241 0.82995759]\n",
      " [0.19187067 0.80812933]\n",
      " [0.19774754 0.80225246]\n",
      " [0.91634842 0.08365158]\n",
      " [0.23686521 0.76313479]\n",
      " [0.19439568 0.80560432]\n",
      " [0.23159798 0.76840202]\n",
      " [0.91796409 0.08203591]\n",
      " [0.13896731 0.86103269]\n",
      " [0.11020642 0.88979358]\n",
      " [0.32799503 0.67200497]\n",
      " [0.23015933 0.76984067]\n",
      " [0.22872695 0.77127305]\n",
      " [0.16593803 0.83406197]\n",
      " [0.88703284 0.11296716]\n",
      " [0.4015875  0.5984125 ]\n",
      " [0.86938024 0.13061976]\n",
      " [0.32799503 0.67200497]\n",
      " [0.24460616 0.75539384]\n",
      " [0.33455618 0.66544382]\n",
      " [0.16593803 0.83406197]\n",
      " [0.73226912 0.26773088]\n",
      " [0.8225585  0.1774415 ]\n",
      " [0.10706848 0.89293152]\n",
      " [0.19443504 0.80556496]\n",
      " [0.16018883 0.83981117]\n",
      " [0.78365761 0.21634239]\n",
      " [0.17118885 0.82881115]\n",
      " [0.16706237 0.83293763]\n",
      " [0.23159798 0.76840202]\n",
      " [0.28694097 0.71305903]\n",
      " [0.3964881  0.6035119 ]\n",
      " [0.1964654  0.8035346 ]\n",
      " [0.19313004 0.80686996]\n",
      " [0.28860631 0.71139369]\n",
      " [0.32799503 0.67200497]\n",
      " [0.28097018 0.71902982]\n",
      " [0.19313004 0.80686996]\n",
      " [0.11020642 0.88979358]\n",
      " [0.19187067 0.80812933]\n",
      " [0.3964881  0.6035119 ]\n",
      " [0.84795785 0.15204215]\n",
      " [0.24367216 0.75632784]\n",
      " [0.1185533  0.8814467 ]\n",
      " [0.16706237 0.83293763]\n",
      " [0.3964881  0.6035119 ]\n",
      " [0.14451025 0.85548975]\n",
      " [0.22872695 0.77127305]\n",
      " [0.1931692  0.8068308 ]\n",
      " [0.84306401 0.15693599]\n",
      " [0.33275493 0.66724507]\n",
      " [0.28699719 0.71300281]\n",
      " [0.11020642 0.88979358]\n",
      " [0.20988023 0.79011977]\n",
      " [0.22877129 0.77122871]\n",
      " [0.28529096 0.71470904]\n",
      " [0.23015933 0.76984067]\n",
      " [0.11020642 0.88979358]\n",
      " [0.28097018 0.71902982]\n",
      " [0.91611507 0.08388493]\n",
      " [0.25698361 0.74301639]\n",
      " [0.22872695 0.77127305]\n",
      " [0.28154301 0.71845699]\n",
      " [0.1053762  0.8946238 ]\n",
      " [0.23686521 0.76313479]\n",
      " [0.8793675  0.1206325 ]\n",
      " [0.40353601 0.59646399]\n",
      " [0.28097018 0.71902982]\n",
      " [0.23015933 0.76984067]\n",
      " [0.25064356 0.74935644]\n",
      " [0.17361282 0.82638718]\n",
      " [0.16593803 0.83406197]\n",
      " [0.23159798 0.76840202]\n",
      " [0.79378082 0.20621918]\n",
      " [0.14190116 0.85809884]\n",
      " [0.19187067 0.80812933]\n",
      " [0.225925   0.774075  ]\n",
      " [0.73385449 0.26614551]\n",
      " [0.23159798 0.76840202]\n",
      " [0.18937076 0.81062924]\n",
      " [0.24912496 0.75087504]\n",
      " [0.11311927 0.88688073]\n",
      " [0.11020642 0.88979358]\n",
      " [0.2777083  0.7222917 ]\n",
      " [0.35134322 0.64865678]\n",
      " [0.19439568 0.80560432]\n",
      " [0.22093493 0.77906507]\n",
      " [0.91857214 0.08142786]\n",
      " [0.10266281 0.89733719]\n",
      " [0.32805042 0.67194958]\n",
      " [0.26616492 0.73383508]\n",
      " [0.19313004 0.80686996]\n",
      " [0.32799503 0.67200497]\n",
      " [0.18937076 0.81062924]\n",
      " [0.87120929 0.12879071]\n",
      " [0.34468011 0.65531989]\n",
      " [0.24218214 0.75781786]\n",
      " [0.22695392 0.77304608]\n",
      " [0.22872695 0.77127305]\n",
      " [0.32799503 0.67200497]\n",
      " [0.19439568 0.80560432]\n",
      " [0.23159798 0.76840202]\n",
      " [0.76985827 0.23014173]\n",
      " [0.18937076 0.81062924]\n",
      " [0.19313004 0.80686996]\n",
      " [0.28097018 0.71902982]\n",
      " [0.28529096 0.71470904]\n",
      " [0.16706237 0.83293763]\n",
      " [0.19903597 0.80096403]\n",
      " [0.10941446 0.89058554]\n",
      " [0.23926649 0.76073351]\n",
      " [0.19439568 0.80560432]\n",
      " [0.16706237 0.83293763]\n",
      " [0.23159798 0.76840202]\n",
      " [0.31075012 0.68924988]]\n"
     ]
    }
   ],
   "source": [
    "yhat = grid.predict_proba(X_test)\n",
    "print(yhat)"
   ]
  },
  {
   "cell_type": "markdown",
   "metadata": {},
   "source": [
    "### Save model for deployment"
   ]
  },
  {
   "cell_type": "code",
   "execution_count": 65,
   "metadata": {},
   "outputs": [],
   "source": [
    "import pickle\n",
    "\n",
    "# save the model to disk\n",
    "filename = 'model/loan.model'\n",
    "pickle.dump(grid, open(filename, 'wb'))"
   ]
  },
  {
   "cell_type": "markdown",
   "metadata": {},
   "source": [
    "### Loading model"
   ]
  },
  {
   "cell_type": "code",
   "execution_count": 66,
   "metadata": {},
   "outputs": [],
   "source": [
    "# load the model from disk\n",
    "loaded_model = pickle.load(open(filename, 'rb'))\n",
    "yhat = loaded_model.predict(X_test)"
   ]
  }
 ],
 "metadata": {
  "kernelspec": {
   "display_name": "Python 3.8.6 64-bit ('teaching_env': venv)",
   "language": "python",
   "name": "python3"
  },
  "language_info": {
   "codemirror_mode": {
    "name": "ipython",
    "version": 3
   },
   "file_extension": ".py",
   "mimetype": "text/x-python",
   "name": "python",
   "nbconvert_exporter": "python",
   "pygments_lexer": "ipython3",
   "version": "3.8.6"
  },
  "vscode": {
   "interpreter": {
    "hash": "becc4c8e5ad229b2591d820334d85e3db0111492344629bf57f272470dce75a5"
   }
  }
 },
 "nbformat": 4,
 "nbformat_minor": 5
}
