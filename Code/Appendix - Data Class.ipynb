{
 "cells": [
  {
   "cell_type": "markdown",
   "id": "86e11e4e-2a3c-4654-8efa-a60438158c84",
   "metadata": {},
   "source": [
    "### Normally"
   ]
  },
  {
   "cell_type": "code",
   "execution_count": 21,
   "id": "6f481954-6319-42e8-a066-c4a8c1133ebb",
   "metadata": {
    "tags": []
   },
   "outputs": [],
   "source": [
    "class LinearRegression(object):\n",
    "    def __init__(self, alpha, method):\n",
    "        self.alpha = alpha\n",
    "        self.method = method"
   ]
  },
  {
   "cell_type": "code",
   "execution_count": 22,
   "id": "541aa118-c7f1-4d1d-976f-300f6f08449a",
   "metadata": {
    "tags": []
   },
   "outputs": [],
   "source": [
    "lr = LinearRegression(alpha = 0.001, method = 'batch')"
   ]
  },
  {
   "cell_type": "code",
   "execution_count": 23,
   "id": "422f2029-92ff-478a-8fdc-04577eec507f",
   "metadata": {
    "tags": []
   },
   "outputs": [
    {
     "data": {
      "text/plain": [
       "<__main__.LinearRegression at 0x7f1385603a60>"
      ]
     },
     "execution_count": 23,
     "metadata": {},
     "output_type": "execute_result"
    }
   ],
   "source": [
    "lr"
   ]
  },
  {
   "cell_type": "markdown",
   "id": "72dbe6b7-6951-4d0f-a95f-657c2b930a31",
   "metadata": {},
   "source": [
    "### With dataclass"
   ]
  },
  {
   "cell_type": "code",
   "execution_count": 8,
   "id": "6ea08694-1f60-4696-9b0c-26f2b14284a8",
   "metadata": {
    "tags": []
   },
   "outputs": [],
   "source": [
    "from dataclasses import dataclass\n",
    "\n",
    "@dataclass  #you can also set frozen=True for immutability\n",
    "class LinearRegression:\n",
    "    alpha: int\n",
    "    method: str"
   ]
  },
  {
   "cell_type": "code",
   "execution_count": 10,
   "id": "a8cd2a32-4a9b-4479-9f30-c2987731426b",
   "metadata": {
    "tags": []
   },
   "outputs": [],
   "source": [
    "lr = LinearRegression(alpha = 0.001, method = 'batch')  #works right away because dataclass already implement init for you"
   ]
  },
  {
   "cell_type": "code",
   "execution_count": 11,
   "id": "44a1eb2f-e90a-422d-b9f7-f359f28fc1f6",
   "metadata": {
    "tags": []
   },
   "outputs": [
    {
     "data": {
      "text/plain": [
       "LinearRegression(alpha=0.001, method='batch')"
      ]
     },
     "execution_count": 11,
     "metadata": {},
     "output_type": "execute_result"
    }
   ],
   "source": [
    "lr  #nice printing because dataclass already implement repr for you"
   ]
  },
  {
   "cell_type": "code",
   "execution_count": 9,
   "id": "ffbf62ad-e447-435b-8ff2-9fe87d03b001",
   "metadata": {
    "tags": []
   },
   "outputs": [
    {
     "name": "stdout",
     "output_type": "stream",
     "text": [
      "[('__eq__', <function __create_fn__.<locals>.__eq__ at 0x7f1385498280>), ('__init__', <function __create_fn__.<locals>.__init__ at 0x7f13854981f0>), ('__repr__', <function __create_fn__.<locals>.__repr__ at 0x7f1385496160>)]\n"
     ]
    }
   ],
   "source": [
    "#if we inspect, we can see that init and repr is already implemented for you\n",
    "import inspect\n",
    "\n",
    "print(inspect.getmembers(LinearRegression, inspect.isfunction))"
   ]
  }
 ],
 "metadata": {
  "kernelspec": {
   "display_name": "Python 3 (ipykernel)",
   "language": "python",
   "name": "python3"
  },
  "language_info": {
   "codemirror_mode": {
    "name": "ipython",
    "version": 3
   },
   "file_extension": ".py",
   "mimetype": "text/x-python",
   "name": "python",
   "nbconvert_exporter": "python",
   "pygments_lexer": "ipython3",
   "version": "3.8.10"
  }
 },
 "nbformat": 4,
 "nbformat_minor": 5
}
