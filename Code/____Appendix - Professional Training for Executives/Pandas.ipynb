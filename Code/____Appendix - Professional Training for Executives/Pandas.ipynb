{
 "cells": [
  {
   "cell_type": "markdown",
   "metadata": {},
   "source": [
    "# Pandas\n",
    "\n",
    "- NumPy is the main library for handling data\n",
    "- But NumPy is not so user-friendly (but very fast)\n",
    "- Pandas is BUILT ON TOP of NumPy\n",
    "  - Pandas follows many syntax like NumPy....so it means what you can do in NumPy usually can be done in Pandas.....\n",
    "  - Pandas object is BASICALLY a NumPy array.....\n",
    "- Pandas vs. NumPy\n",
    "  - Well, people just add many useful functions for Pandas....instead of you writing manually...\n",
    "    - Example:  fillna --> masking, filling the values\n",
    "    - Example:  isna().sum() --> isnan()"
   ]
  },
  {
   "cell_type": "code",
   "execution_count": 1,
   "metadata": {},
   "outputs": [
    {
     "data": {
      "text/plain": [
       "'1.4.3'"
      ]
     },
     "execution_count": 1,
     "metadata": {},
     "output_type": "execute_result"
    }
   ],
   "source": [
    "import pandas as pd\n",
    "pd.__version__"
   ]
  },
  {
   "cell_type": "code",
   "execution_count": 3,
   "metadata": {},
   "outputs": [
    {
     "data": {
      "text/html": [
       "<div>\n",
       "<style scoped>\n",
       "    .dataframe tbody tr th:only-of-type {\n",
       "        vertical-align: middle;\n",
       "    }\n",
       "\n",
       "    .dataframe tbody tr th {\n",
       "        vertical-align: top;\n",
       "    }\n",
       "\n",
       "    .dataframe thead th {\n",
       "        text-align: right;\n",
       "    }\n",
       "</style>\n",
       "<table border=\"1\" class=\"dataframe\">\n",
       "  <thead>\n",
       "    <tr style=\"text-align: right;\">\n",
       "      <th></th>\n",
       "      <th>Country</th>\n",
       "      <th>Year</th>\n",
       "      <th>Status</th>\n",
       "      <th>Life expectancy</th>\n",
       "      <th>Adult Mortality</th>\n",
       "      <th>infant deaths</th>\n",
       "      <th>Alcohol</th>\n",
       "      <th>percentage expenditure</th>\n",
       "      <th>Hepatitis B</th>\n",
       "      <th>Measles</th>\n",
       "      <th>...</th>\n",
       "      <th>Polio</th>\n",
       "      <th>Total expenditure</th>\n",
       "      <th>Diphtheria</th>\n",
       "      <th>HIV/AIDS</th>\n",
       "      <th>GDP</th>\n",
       "      <th>Population</th>\n",
       "      <th>thinness  1-19 years</th>\n",
       "      <th>thinness 5-9 years</th>\n",
       "      <th>Income composition of resources</th>\n",
       "      <th>Schooling</th>\n",
       "    </tr>\n",
       "  </thead>\n",
       "  <tbody>\n",
       "    <tr>\n",
       "      <th>0</th>\n",
       "      <td>Afghanistan</td>\n",
       "      <td>2015</td>\n",
       "      <td>Developing</td>\n",
       "      <td>65.0</td>\n",
       "      <td>263.0</td>\n",
       "      <td>62</td>\n",
       "      <td>0.01</td>\n",
       "      <td>71.279624</td>\n",
       "      <td>65.0</td>\n",
       "      <td>1154</td>\n",
       "      <td>...</td>\n",
       "      <td>6.0</td>\n",
       "      <td>8.16</td>\n",
       "      <td>65.0</td>\n",
       "      <td>0.1</td>\n",
       "      <td>584.259210</td>\n",
       "      <td>33736494.0</td>\n",
       "      <td>17.2</td>\n",
       "      <td>17.3</td>\n",
       "      <td>0.479</td>\n",
       "      <td>10.1</td>\n",
       "    </tr>\n",
       "    <tr>\n",
       "      <th>1</th>\n",
       "      <td>Afghanistan</td>\n",
       "      <td>2014</td>\n",
       "      <td>Developing</td>\n",
       "      <td>59.9</td>\n",
       "      <td>271.0</td>\n",
       "      <td>64</td>\n",
       "      <td>0.01</td>\n",
       "      <td>73.523582</td>\n",
       "      <td>62.0</td>\n",
       "      <td>492</td>\n",
       "      <td>...</td>\n",
       "      <td>58.0</td>\n",
       "      <td>8.18</td>\n",
       "      <td>62.0</td>\n",
       "      <td>0.1</td>\n",
       "      <td>612.696514</td>\n",
       "      <td>327582.0</td>\n",
       "      <td>17.5</td>\n",
       "      <td>17.5</td>\n",
       "      <td>0.476</td>\n",
       "      <td>10.0</td>\n",
       "    </tr>\n",
       "    <tr>\n",
       "      <th>2</th>\n",
       "      <td>Afghanistan</td>\n",
       "      <td>2013</td>\n",
       "      <td>Developing</td>\n",
       "      <td>59.9</td>\n",
       "      <td>268.0</td>\n",
       "      <td>66</td>\n",
       "      <td>0.01</td>\n",
       "      <td>73.219243</td>\n",
       "      <td>64.0</td>\n",
       "      <td>430</td>\n",
       "      <td>...</td>\n",
       "      <td>62.0</td>\n",
       "      <td>8.13</td>\n",
       "      <td>64.0</td>\n",
       "      <td>0.1</td>\n",
       "      <td>631.744976</td>\n",
       "      <td>31731688.0</td>\n",
       "      <td>17.7</td>\n",
       "      <td>17.7</td>\n",
       "      <td>0.470</td>\n",
       "      <td>9.9</td>\n",
       "    </tr>\n",
       "    <tr>\n",
       "      <th>3</th>\n",
       "      <td>Afghanistan</td>\n",
       "      <td>2012</td>\n",
       "      <td>Developing</td>\n",
       "      <td>59.5</td>\n",
       "      <td>272.0</td>\n",
       "      <td>69</td>\n",
       "      <td>0.01</td>\n",
       "      <td>78.184215</td>\n",
       "      <td>67.0</td>\n",
       "      <td>2787</td>\n",
       "      <td>...</td>\n",
       "      <td>67.0</td>\n",
       "      <td>8.52</td>\n",
       "      <td>67.0</td>\n",
       "      <td>0.1</td>\n",
       "      <td>669.959000</td>\n",
       "      <td>3696958.0</td>\n",
       "      <td>17.9</td>\n",
       "      <td>18.0</td>\n",
       "      <td>0.463</td>\n",
       "      <td>9.8</td>\n",
       "    </tr>\n",
       "    <tr>\n",
       "      <th>4</th>\n",
       "      <td>Afghanistan</td>\n",
       "      <td>2011</td>\n",
       "      <td>Developing</td>\n",
       "      <td>59.2</td>\n",
       "      <td>275.0</td>\n",
       "      <td>71</td>\n",
       "      <td>0.01</td>\n",
       "      <td>7.097109</td>\n",
       "      <td>68.0</td>\n",
       "      <td>3013</td>\n",
       "      <td>...</td>\n",
       "      <td>68.0</td>\n",
       "      <td>7.87</td>\n",
       "      <td>68.0</td>\n",
       "      <td>0.1</td>\n",
       "      <td>63.537231</td>\n",
       "      <td>2978599.0</td>\n",
       "      <td>18.2</td>\n",
       "      <td>18.2</td>\n",
       "      <td>0.454</td>\n",
       "      <td>9.5</td>\n",
       "    </tr>\n",
       "  </tbody>\n",
       "</table>\n",
       "<p>5 rows × 22 columns</p>\n",
       "</div>"
      ],
      "text/plain": [
       "       Country  Year      Status  Life expectancy   Adult Mortality  \\\n",
       "0  Afghanistan  2015  Developing              65.0            263.0   \n",
       "1  Afghanistan  2014  Developing              59.9            271.0   \n",
       "2  Afghanistan  2013  Developing              59.9            268.0   \n",
       "3  Afghanistan  2012  Developing              59.5            272.0   \n",
       "4  Afghanistan  2011  Developing              59.2            275.0   \n",
       "\n",
       "   infant deaths  Alcohol  percentage expenditure  Hepatitis B  Measles   ...  \\\n",
       "0             62     0.01               71.279624         65.0      1154  ...   \n",
       "1             64     0.01               73.523582         62.0       492  ...   \n",
       "2             66     0.01               73.219243         64.0       430  ...   \n",
       "3             69     0.01               78.184215         67.0      2787  ...   \n",
       "4             71     0.01                7.097109         68.0      3013  ...   \n",
       "\n",
       "   Polio  Total expenditure  Diphtheria    HIV/AIDS         GDP  Population  \\\n",
       "0    6.0               8.16         65.0        0.1  584.259210  33736494.0   \n",
       "1   58.0               8.18         62.0        0.1  612.696514    327582.0   \n",
       "2   62.0               8.13         64.0        0.1  631.744976  31731688.0   \n",
       "3   67.0               8.52         67.0        0.1  669.959000   3696958.0   \n",
       "4   68.0               7.87         68.0        0.1   63.537231   2978599.0   \n",
       "\n",
       "    thinness  1-19 years   thinness 5-9 years  \\\n",
       "0                   17.2                 17.3   \n",
       "1                   17.5                 17.5   \n",
       "2                   17.7                 17.7   \n",
       "3                   17.9                 18.0   \n",
       "4                   18.2                 18.2   \n",
       "\n",
       "   Income composition of resources  Schooling  \n",
       "0                            0.479       10.1  \n",
       "1                            0.476       10.0  \n",
       "2                            0.470        9.9  \n",
       "3                            0.463        9.8  \n",
       "4                            0.454        9.5  \n",
       "\n",
       "[5 rows x 22 columns]"
      ]
     },
     "execution_count": 3,
     "metadata": {},
     "output_type": "execute_result"
    }
   ],
   "source": [
    "df = pd.read_csv('data/lifeexp.csv')\n",
    "df.head()"
   ]
  },
  {
   "cell_type": "markdown",
   "metadata": {},
   "source": [
    "### Accessing the column"
   ]
  },
  {
   "cell_type": "code",
   "execution_count": 8,
   "metadata": {},
   "outputs": [
    {
     "data": {
      "text/plain": [
       "pandas.core.series.Series"
      ]
     },
     "execution_count": 8,
     "metadata": {},
     "output_type": "execute_result"
    }
   ],
   "source": [
    "type(df['Status'])  #df.Status  #series is nothing but a 1D NumPy array"
   ]
  },
  {
   "cell_type": "code",
   "execution_count": 12,
   "metadata": {},
   "outputs": [
    {
     "data": {
      "text/plain": [
       "pandas.core.frame.DataFrame"
      ]
     },
     "execution_count": 12,
     "metadata": {},
     "output_type": "execute_result"
    }
   ],
   "source": [
    "#format:  df[  [list of columns]   ]\n",
    "type(df[  ['Status', 'Alcohol', 'GDP']   ])  #dataframe is nothing but a 2D NumPy array"
   ]
  },
  {
   "cell_type": "markdown",
   "metadata": {},
   "source": [
    "### Masking"
   ]
  },
  {
   "cell_type": "code",
   "execution_count": 14,
   "metadata": {},
   "outputs": [
    {
     "data": {
      "text/plain": [
       "(2426, 22)"
      ]
     },
     "execution_count": 14,
     "metadata": {},
     "output_type": "execute_result"
    }
   ],
   "source": [
    "cond = df.Status == 'Developing'\n",
    "\n",
    "df[cond].shape  #do .shape to know how many rows is developing....."
   ]
  },
  {
   "cell_type": "code",
   "execution_count": 16,
   "metadata": {},
   "outputs": [
    {
     "data": {
      "text/plain": [
       "Index(['Country', 'Year', 'Status', 'Life expectancy', 'Adult Mortality',\n",
       "       'infant deaths', 'Alcohol', 'percentage expenditure', 'Hepatitis B',\n",
       "       'Measles', 'BMI', 'under-five deaths', 'Polio', 'Total expenditure',\n",
       "       'Diphtheria', 'HIV/AIDS', 'GDP', 'Population', 'thinness  1-19 years',\n",
       "       'thinness 5-9 years', 'Income composition of resources', 'Schooling'],\n",
       "      dtype='object')"
      ]
     },
     "execution_count": 16,
     "metadata": {},
     "output_type": "execute_result"
    }
   ],
   "source": [
    "#strip the spaces\n",
    "df.columns = df.columns.str.strip()  #only remove abnormal spaces.....\n",
    "df.columns"
   ]
  },
  {
   "cell_type": "code",
   "execution_count": 17,
   "metadata": {},
   "outputs": [],
   "source": [
    "#rename some columns\n",
    "df = df.rename(\n",
    "    columns = {\n",
    "        'Life expectancy': 'lifeexp',\n",
    "        'Adult Mortality': 'mortality',\n",
    "        'infant deaths'  : 'infantd',\n",
    "        'percentage expenditure' : 'percentage',\n",
    "        'Hepatitis B' : 'hepB',\n",
    "        'under-five deaths' : 'under-five',\n",
    "        'Total expenditure' : 'total',\n",
    "        'thinness  1-19 years': 'thin1-19',\n",
    "        'thinness 5-9 years'  : 'thin5-9',\n",
    "        'Income composition of resources' : 'income'\n",
    "    }\n",
    ")"
   ]
  },
  {
   "cell_type": "code",
   "execution_count": 18,
   "metadata": {},
   "outputs": [
    {
     "data": {
      "text/plain": [
       "Index(['Country', 'Year', 'Status', 'lifeexp', 'mortality', 'infantd',\n",
       "       'Alcohol', 'percentage', 'hepB', 'Measles', 'BMI', 'under-five',\n",
       "       'Polio', 'total', 'Diphtheria', 'HIV/AIDS', 'GDP', 'Population',\n",
       "       'thin1-19', 'thin5-9', 'income', 'Schooling'],\n",
       "      dtype='object')"
      ]
     },
     "execution_count": 18,
     "metadata": {},
     "output_type": "execute_result"
    }
   ],
   "source": [
    "df.columns"
   ]
  },
  {
   "cell_type": "code",
   "execution_count": 22,
   "metadata": {},
   "outputs": [
    {
     "data": {
      "text/plain": [
       "(1586, 22)"
      ]
     },
     "execution_count": 22,
     "metadata": {},
     "output_type": "execute_result"
    }
   ],
   "source": [
    "cond1 = df.Status == 'Developing'\n",
    "cond2 = df.income > 0.5\n",
    "\n",
    "df[cond1 & cond2].shape  #to put or, use |"
   ]
  },
  {
   "cell_type": "code",
   "execution_count": 35,
   "metadata": {},
   "outputs": [
    {
     "name": "stdout",
     "output_type": "stream",
     "text": [
      "2426 Developing\n",
      "512 Developed\n"
     ]
    },
    {
     "data": {
      "text/plain": [
       "Developing    2426\n",
       "Developed      512\n",
       "Name: Status, dtype: int64"
      ]
     },
     "execution_count": 35,
     "metadata": {},
     "output_type": "execute_result"
    }
   ],
   "source": [
    "#Ex1:  Count how many countries in the Developing and Developed countries\n",
    "unique = df.Status.unique()\n",
    "for status in unique:\n",
    "    cond = df.Status == status\n",
    "    print(len(df[cond]), status)\n",
    "    \n",
    "#instead, do this:\n",
    "df.Status.value_counts()  #this is optional..."
   ]
  },
  {
   "cell_type": "code",
   "execution_count": 39,
   "metadata": {},
   "outputs": [
    {
     "data": {
      "text/plain": [
       "array(['Dominican Republic', 'Jamaica'], dtype=object)"
      ]
     },
     "execution_count": 39,
     "metadata": {},
     "output_type": "execute_result"
    }
   ],
   "source": [
    "#Ex2:  See how many countries have HIV/AIDS greater than mean and life expectancy is higher than mean\n",
    "cond1 = df['HIV/AIDS'] > df['HIV/AIDS'].mean()\n",
    "cond2 = df['lifeexp']  > df['lifeexp'].mean()\n",
    "\n",
    "tmp = df[cond1 & cond2]\n",
    "\n",
    "tmp['Country'].unique()"
   ]
  },
  {
   "cell_type": "code",
   "execution_count": 42,
   "metadata": {},
   "outputs": [
    {
     "data": {
      "text/plain": [
       "array(['Afghanistan', 'Angola', 'Antigua and Barbuda',\n",
       "       'Bosnia and Herzegovina', 'Burkina Faso', 'Burundi', 'Chad',\n",
       "       'Djibouti', 'Equatorial Guinea', 'Eritrea', 'Ethiopia', 'Haiti',\n",
       "       'Kiribati', 'Lesotho', 'Liberia', 'Malawi', 'Maldives', 'Mali',\n",
       "       'Marshall Islands', 'Micronesia (Federated States of)',\n",
       "       'Montenegro', 'Mozambique', 'Niger', 'Papua New Guinea',\n",
       "       'Sao Tome and Principe', 'Sierra Leone', 'Sudan', 'Timor-Leste',\n",
       "       'Turkmenistan', 'Tuvalu', 'Uganda'], dtype=object)"
      ]
     },
     "execution_count": 42,
     "metadata": {},
     "output_type": "execute_result"
    }
   ],
   "source": [
    "#Ex3:  See how many countries have 'total' greater than 'schooling'\n",
    "cond = df.total > df.Schooling\n",
    "\n",
    "df[cond]['Country'].unique()\n",
    "\n",
    "# df.loc[cond, 'Country'].unique()\n"
   ]
  },
  {
   "cell_type": "code",
   "execution_count": 29,
   "metadata": {},
   "outputs": [
    {
     "data": {
      "text/plain": [
       "82.55018842069202"
      ]
     },
     "execution_count": 29,
     "metadata": {},
     "output_type": "execute_result"
    }
   ],
   "source": [
    "df.Polio.mean()"
   ]
  },
  {
   "cell_type": "markdown",
   "metadata": {},
   "source": [
    "### iloc and loc\n",
    "\n",
    "- very powerful function\n",
    "- daily used...."
   ]
  },
  {
   "cell_type": "code",
   "execution_count": 54,
   "metadata": {},
   "outputs": [
    {
     "data": {
      "text/html": [
       "<div>\n",
       "<style scoped>\n",
       "    .dataframe tbody tr th:only-of-type {\n",
       "        vertical-align: middle;\n",
       "    }\n",
       "\n",
       "    .dataframe tbody tr th {\n",
       "        vertical-align: top;\n",
       "    }\n",
       "\n",
       "    .dataframe thead th {\n",
       "        text-align: right;\n",
       "    }\n",
       "</style>\n",
       "<table border=\"1\" class=\"dataframe\">\n",
       "  <thead>\n",
       "    <tr style=\"text-align: right;\">\n",
       "      <th></th>\n",
       "      <th>Country</th>\n",
       "      <th>Year</th>\n",
       "    </tr>\n",
       "  </thead>\n",
       "  <tbody>\n",
       "    <tr>\n",
       "      <th>779</th>\n",
       "      <td>Dominican Republic</td>\n",
       "      <td>2006</td>\n",
       "    </tr>\n",
       "    <tr>\n",
       "      <th>780</th>\n",
       "      <td>Dominican Republic</td>\n",
       "      <td>2005</td>\n",
       "    </tr>\n",
       "    <tr>\n",
       "      <th>781</th>\n",
       "      <td>Dominican Republic</td>\n",
       "      <td>2004</td>\n",
       "    </tr>\n",
       "    <tr>\n",
       "      <th>782</th>\n",
       "      <td>Dominican Republic</td>\n",
       "      <td>2003</td>\n",
       "    </tr>\n",
       "    <tr>\n",
       "      <th>783</th>\n",
       "      <td>Dominican Republic</td>\n",
       "      <td>2002</td>\n",
       "    </tr>\n",
       "  </tbody>\n",
       "</table>\n",
       "</div>"
      ],
      "text/plain": [
       "                Country  Year\n",
       "779  Dominican Republic  2006\n",
       "780  Dominican Republic  2005\n",
       "781  Dominican Republic  2004\n",
       "782  Dominican Republic  2003\n",
       "783  Dominican Republic  2002"
      ]
     },
     "execution_count": 54,
     "metadata": {},
     "output_type": "execute_result"
    }
   ],
   "source": [
    "#i here means \"implicit\"\n",
    "#loc means location\n",
    "#format iloc\n",
    "#df.iloc[rowindex, colindex]  #here index can be used as slicing as well; I don't remember you can fancy indexing....\n",
    "tmp.iloc[:5, :2]"
   ]
  },
  {
   "cell_type": "code",
   "execution_count": 55,
   "metadata": {},
   "outputs": [
    {
     "data": {
      "text/html": [
       "<div>\n",
       "<style scoped>\n",
       "    .dataframe tbody tr th:only-of-type {\n",
       "        vertical-align: middle;\n",
       "    }\n",
       "\n",
       "    .dataframe tbody tr th {\n",
       "        vertical-align: top;\n",
       "    }\n",
       "\n",
       "    .dataframe thead th {\n",
       "        text-align: right;\n",
       "    }\n",
       "</style>\n",
       "<table border=\"1\" class=\"dataframe\">\n",
       "  <thead>\n",
       "    <tr style=\"text-align: right;\">\n",
       "      <th></th>\n",
       "      <th>Country</th>\n",
       "      <th>Year</th>\n",
       "      <th>Status</th>\n",
       "      <th>lifeexp</th>\n",
       "      <th>mortality</th>\n",
       "      <th>infantd</th>\n",
       "      <th>Alcohol</th>\n",
       "      <th>percentage</th>\n",
       "      <th>hepB</th>\n",
       "      <th>Measles</th>\n",
       "      <th>...</th>\n",
       "      <th>Polio</th>\n",
       "      <th>total</th>\n",
       "      <th>Diphtheria</th>\n",
       "      <th>HIV/AIDS</th>\n",
       "      <th>GDP</th>\n",
       "      <th>Population</th>\n",
       "      <th>thin1-19</th>\n",
       "      <th>thin5-9</th>\n",
       "      <th>income</th>\n",
       "      <th>Schooling</th>\n",
       "    </tr>\n",
       "  </thead>\n",
       "  <tbody>\n",
       "    <tr>\n",
       "      <th>779</th>\n",
       "      <td>Dominican Republic</td>\n",
       "      <td>2006</td>\n",
       "      <td>Developing</td>\n",
       "      <td>72.3</td>\n",
       "      <td>178.0</td>\n",
       "      <td>7</td>\n",
       "      <td>6.20</td>\n",
       "      <td>352.955127</td>\n",
       "      <td>84.0</td>\n",
       "      <td>0</td>\n",
       "      <td>...</td>\n",
       "      <td>88.0</td>\n",
       "      <td>4.34</td>\n",
       "      <td>89.0</td>\n",
       "      <td>1.8</td>\n",
       "      <td>3836.468771</td>\n",
       "      <td>9371338.0</td>\n",
       "      <td>3.5</td>\n",
       "      <td>3.4</td>\n",
       "      <td>0.677</td>\n",
       "      <td>12.6</td>\n",
       "    </tr>\n",
       "    <tr>\n",
       "      <th>781</th>\n",
       "      <td>Dominican Republic</td>\n",
       "      <td>2004</td>\n",
       "      <td>Developing</td>\n",
       "      <td>69.3</td>\n",
       "      <td>214.0</td>\n",
       "      <td>7</td>\n",
       "      <td>5.16</td>\n",
       "      <td>182.616252</td>\n",
       "      <td>82.0</td>\n",
       "      <td>0</td>\n",
       "      <td>...</td>\n",
       "      <td>66.0</td>\n",
       "      <td>4.28</td>\n",
       "      <td>79.0</td>\n",
       "      <td>2.1</td>\n",
       "      <td>2421.966200</td>\n",
       "      <td>912998.0</td>\n",
       "      <td>3.6</td>\n",
       "      <td>3.5</td>\n",
       "      <td>0.666</td>\n",
       "      <td>12.5</td>\n",
       "    </tr>\n",
       "  </tbody>\n",
       "</table>\n",
       "<p>2 rows × 22 columns</p>\n",
       "</div>"
      ],
      "text/plain": [
       "                Country  Year      Status  lifeexp  mortality  infantd  \\\n",
       "779  Dominican Republic  2006  Developing     72.3      178.0        7   \n",
       "781  Dominican Republic  2004  Developing     69.3      214.0        7   \n",
       "\n",
       "     Alcohol  percentage  hepB  Measles  ...  Polio  total  Diphtheria  \\\n",
       "779     6.20  352.955127  84.0        0  ...   88.0   4.34        89.0   \n",
       "781     5.16  182.616252  82.0        0  ...   66.0   4.28        79.0   \n",
       "\n",
       "     HIV/AIDS          GDP  Population  thin1-19  thin5-9  income  Schooling  \n",
       "779       1.8  3836.468771   9371338.0       3.5      3.4   0.677       12.6  \n",
       "781       2.1  2421.966200    912998.0       3.6      3.5   0.666       12.5  \n",
       "\n",
       "[2 rows x 22 columns]"
      ]
     },
     "execution_count": 55,
     "metadata": {},
     "output_type": "execute_result"
    }
   ],
   "source": [
    "#let me try whether iloc can use fancy indexing....\n",
    "tmp.iloc[  [0, 2]  ]"
   ]
  },
  {
   "cell_type": "code",
   "execution_count": 64,
   "metadata": {},
   "outputs": [
    {
     "data": {
      "text/plain": [
       "Index(['Country', 'Year', 'Status', 'lifeexp', 'mortality', 'infantd',\n",
       "       'Alcohol', 'percentage', 'hepB', 'Measles', 'BMI', 'under-five',\n",
       "       'Polio', 'total', 'Diphtheria', 'HIV/AIDS', 'GDP', 'Population',\n",
       "       'thin1-19', 'thin5-9', 'income', 'Schooling'],\n",
       "      dtype='object')"
      ]
     },
     "execution_count": 64,
     "metadata": {},
     "output_type": "execute_result"
    }
   ],
   "source": [
    "#but what if i want to specify using the column name....\n",
    "#for column name, you need to use \"loc\" which stands for explicit location\n",
    "#format: loc[explicit row index, explicit column index]\n",
    "tmp.columns"
   ]
  },
  {
   "cell_type": "code",
   "execution_count": 65,
   "metadata": {},
   "outputs": [
    {
     "data": {
      "text/plain": [
       "Int64Index([779, 780, 781, 782, 783, 784, 785, 1308, 1309, 1310, 1311, 1312,\n",
       "            1313],\n",
       "           dtype='int64')"
      ]
     },
     "execution_count": 65,
     "metadata": {},
     "output_type": "execute_result"
    }
   ],
   "source": [
    "tmp.index"
   ]
  },
  {
   "cell_type": "code",
   "execution_count": 67,
   "metadata": {},
   "outputs": [
    {
     "data": {
      "text/html": [
       "<div>\n",
       "<style scoped>\n",
       "    .dataframe tbody tr th:only-of-type {\n",
       "        vertical-align: middle;\n",
       "    }\n",
       "\n",
       "    .dataframe tbody tr th {\n",
       "        vertical-align: top;\n",
       "    }\n",
       "\n",
       "    .dataframe thead th {\n",
       "        text-align: right;\n",
       "    }\n",
       "</style>\n",
       "<table border=\"1\" class=\"dataframe\">\n",
       "  <thead>\n",
       "    <tr style=\"text-align: right;\">\n",
       "      <th></th>\n",
       "      <th>Country</th>\n",
       "      <th>Status</th>\n",
       "    </tr>\n",
       "  </thead>\n",
       "  <tbody>\n",
       "    <tr>\n",
       "      <th>779</th>\n",
       "      <td>Dominican Republic</td>\n",
       "      <td>Developing</td>\n",
       "    </tr>\n",
       "    <tr>\n",
       "      <th>1308</th>\n",
       "      <td>Jamaica</td>\n",
       "      <td>Developing</td>\n",
       "    </tr>\n",
       "  </tbody>\n",
       "</table>\n",
       "</div>"
      ],
      "text/plain": [
       "                 Country      Status\n",
       "779   Dominican Republic  Developing\n",
       "1308             Jamaica  Developing"
      ]
     },
     "execution_count": 67,
     "metadata": {},
     "output_type": "execute_result"
    }
   ],
   "source": [
    "tmp.loc[[779, 1308], ['Country', 'Status'] ]"
   ]
  },
  {
   "cell_type": "code",
   "execution_count": null,
   "metadata": {},
   "outputs": [],
   "source": [
    "#if you want to change the index column\n",
    "#use set_index(column)"
   ]
  },
  {
   "cell_type": "code",
   "execution_count": 80,
   "metadata": {},
   "outputs": [
    {
     "data": {
      "text/plain": [
       "0    Afghanistan\n",
       "8    Afghanistan\n",
       "Name: Country, dtype: object"
      ]
     },
     "execution_count": 80,
     "metadata": {},
     "output_type": "execute_result"
    }
   ],
   "source": [
    "#Ex1:  I believe there are some rows that have abnormal income, can you check for me....use masking + \n",
    "# loc/iloc abnormal greater than 75%...0.779000\n",
    "cond = df.income > df.income.describe()['75%']\n",
    "# df.loc[cond, 'Country'].unique()   #<---this is also ok...\n",
    "df.loc[cond].iloc[:5]  #<---iloc is more manual access\n",
    "\n",
    "#Ex2:  Find the countries that are developing (set this as cond), and use loc[cond, 'Country']\n",
    "cond = df.Status == 'Developing'\n",
    "df.loc[cond, 'Country'].iloc[  [0, 8]  ] #when you say unique(), this becomes a numpy array\n",
    "#NumPy array DOES NOT have iloc....both series and dataframe have iloc and loc"
   ]
  },
  {
   "cell_type": "markdown",
   "metadata": {},
   "source": [
    "Break: 10:15 - 10:25"
   ]
  },
  {
   "cell_type": "markdown",
   "metadata": {},
   "source": [
    "# Drop columns"
   ]
  },
  {
   "cell_type": "code",
   "execution_count": 84,
   "metadata": {},
   "outputs": [
    {
     "data": {
      "text/plain": [
       "Index(['Country', 'Year', 'Status', 'lifeexp', 'mortality', 'infantd',\n",
       "       'Alcohol', 'percentage', 'hepB', 'Measles', 'BMI', 'under-five',\n",
       "       'Polio', 'total', 'Diphtheria', 'HIV/AIDS', 'GDP', 'Population',\n",
       "       'thin1-19', 'thin5-9', 'income', 'Schooling'],\n",
       "      dtype='object')"
      ]
     },
     "execution_count": 84,
     "metadata": {},
     "output_type": "execute_result"
    }
   ],
   "source": [
    "df.columns"
   ]
  },
  {
   "cell_type": "code",
   "execution_count": 87,
   "metadata": {},
   "outputs": [
    {
     "data": {
      "text/plain": [
       "Index(['Country', 'Year', 'Status', 'lifeexp', 'mortality', 'infantd',\n",
       "       'Alcohol', 'percentage', 'BMI', 'under-five', 'total', 'HIV/AIDS',\n",
       "       'GDP', 'Population', 'thin1-19', 'thin5-9', 'income', 'Schooling'],\n",
       "      dtype='object')"
      ]
     },
     "execution_count": 87,
     "metadata": {},
     "output_type": "execute_result"
    }
   ],
   "source": [
    "#format: df.drop(columns = [list of columns], inplace=True)\n",
    "# df.drop(\n",
    "#     columns = ['hepB', 'Diphtheria'], inplace=True\n",
    "# )\n",
    "\n",
    "# df.columns\n",
    "\n",
    "#Ex1:  can you drop Polio and Measles as well....\n",
    "df.drop(\n",
    "    columns = ['Polio', 'Measles'], inplace=True\n",
    ")\n",
    "\n",
    "df.columns"
   ]
  },
  {
   "cell_type": "markdown",
   "metadata": {},
   "source": [
    "# Select_dtypes\n",
    "\n",
    "- useful ways to get a list of columns based on their dtypes\n",
    "- sometimes we want to gather \"int/float\" columns and perform e.g., `sns.countplot`\n",
    "- sometimes we want to group  \"object\" columns and perform e.g., `sns.boxplot` using some simple for loop"
   ]
  },
  {
   "cell_type": "code",
   "execution_count": 90,
   "metadata": {},
   "outputs": [
    {
     "data": {
      "text/plain": [
       "Country        object\n",
       "Year            int64\n",
       "Status         object\n",
       "lifeexp       float64\n",
       "mortality     float64\n",
       "infantd         int64\n",
       "Alcohol       float64\n",
       "percentage    float64\n",
       "BMI           float64\n",
       "under-five      int64\n",
       "total         float64\n",
       "HIV/AIDS      float64\n",
       "GDP           float64\n",
       "Population    float64\n",
       "thin1-19      float64\n",
       "thin5-9       float64\n",
       "income        float64\n",
       "Schooling     float64\n",
       "dtype: object"
      ]
     },
     "execution_count": 90,
     "metadata": {},
     "output_type": "execute_result"
    }
   ],
   "source": [
    "df.dtypes  #this list down all the type...."
   ]
  },
  {
   "cell_type": "code",
   "execution_count": 91,
   "metadata": {},
   "outputs": [
    {
     "data": {
      "text/plain": [
       "Index(['Year', 'lifeexp', 'mortality', 'infantd', 'Alcohol', 'percentage',\n",
       "       'BMI', 'under-five', 'total', 'HIV/AIDS', 'GDP', 'Population',\n",
       "       'thin1-19', 'thin5-9', 'income', 'Schooling'],\n",
       "      dtype='object')"
      ]
     },
     "execution_count": 91,
     "metadata": {},
     "output_type": "execute_result"
    }
   ],
   "source": [
    "numeric_cols = df.select_dtypes(include = ['int64', 'float64'])  #can also \"exclude\"\n",
    "numeric_cols.columns"
   ]
  },
  {
   "cell_type": "code",
   "execution_count": 92,
   "metadata": {},
   "outputs": [
    {
     "data": {
      "text/plain": [
       "Index(['Country', 'Status'], dtype='object')"
      ]
     },
     "execution_count": 92,
     "metadata": {},
     "output_type": "execute_result"
    }
   ],
   "source": [
    "discrete_cols = df.select_dtypes(include = ['object'])  #can also use \"exclude\"\n",
    "discrete_cols.columns"
   ]
  },
  {
   "cell_type": "code",
   "execution_count": 95,
   "metadata": {},
   "outputs": [],
   "source": [
    "# import seaborn as sns\n",
    "# import matplotlib.pyplot as plt\n",
    "\n",
    "# for col in numeric_cols.columns:\n",
    "#     sns.countplot(data = df, x = col)\n",
    "#     plt.show()"
   ]
  },
  {
   "cell_type": "markdown",
   "metadata": {},
   "source": [
    "# Sample (useful for imbalanced class dataset)\n",
    "\n",
    "- selecting only a subset of data\n",
    "- when we have imbalanced class dataset\n",
    "- maybe we have a dataset of y, in which positive has 1000 samples, but negative only have 50 samples\n",
    "- this will be a problem for our machine learning\n",
    "  - why?  because our model can just cheat and just predict positive and will get 95% accuracy....\n",
    "    - 95 comes from 1000 / (1000 + 50)\n",
    "\n",
    "- we can sample 50 negatives, but ALSO 50 positives only (and do this many times, and average the accuracy)"
   ]
  },
  {
   "cell_type": "code",
   "execution_count": 99,
   "metadata": {},
   "outputs": [
    {
     "data": {
      "text/plain": [
       "(2204, 18)"
      ]
     },
     "execution_count": 99,
     "metadata": {},
     "output_type": "execute_result"
    }
   ],
   "source": [
    "#format: df.sample(n = number of samples)  #this function will let sample a subset of data\n",
    "#format: df.sample(frac = percentage)      #this will let you sample a fraction percentage of the data\n",
    "\n",
    "#if you always want the same subset, use random_state\n",
    "#random state keep your dataset the same everything you run again...\n",
    "subset_200 = df.sample(n = 200, random_state = 999)  #this is automatically random....\n",
    "subset_200.shape\n",
    "\n",
    "#you can also use frac\n",
    "subset_75 = df.sample(frac = 0.75, random_state = 999)\n",
    "subset_75.shape"
   ]
  },
  {
   "cell_type": "code",
   "execution_count": 113,
   "metadata": {},
   "outputs": [
    {
     "data": {
      "text/html": [
       "<div>\n",
       "<style scoped>\n",
       "    .dataframe tbody tr th:only-of-type {\n",
       "        vertical-align: middle;\n",
       "    }\n",
       "\n",
       "    .dataframe tbody tr th {\n",
       "        vertical-align: top;\n",
       "    }\n",
       "\n",
       "    .dataframe thead th {\n",
       "        text-align: right;\n",
       "    }\n",
       "</style>\n",
       "<table border=\"1\" class=\"dataframe\">\n",
       "  <thead>\n",
       "    <tr style=\"text-align: right;\">\n",
       "      <th></th>\n",
       "      <th>Country</th>\n",
       "      <th>Year</th>\n",
       "      <th>Status</th>\n",
       "      <th>lifeexp</th>\n",
       "      <th>mortality</th>\n",
       "      <th>infantd</th>\n",
       "      <th>Alcohol</th>\n",
       "      <th>percentage</th>\n",
       "      <th>BMI</th>\n",
       "      <th>under-five</th>\n",
       "      <th>total</th>\n",
       "      <th>HIV/AIDS</th>\n",
       "      <th>GDP</th>\n",
       "      <th>Population</th>\n",
       "      <th>thin1-19</th>\n",
       "      <th>thin5-9</th>\n",
       "      <th>income</th>\n",
       "      <th>Schooling</th>\n",
       "    </tr>\n",
       "  </thead>\n",
       "  <tbody>\n",
       "    <tr>\n",
       "      <th>3</th>\n",
       "      <td>Afghanistan</td>\n",
       "      <td>2012</td>\n",
       "      <td>Developing</td>\n",
       "      <td>59.5</td>\n",
       "      <td>272.0</td>\n",
       "      <td>69</td>\n",
       "      <td>0.01</td>\n",
       "      <td>78.184215</td>\n",
       "      <td>17.6</td>\n",
       "      <td>93</td>\n",
       "      <td>8.52</td>\n",
       "      <td>0.1</td>\n",
       "      <td>669.959000</td>\n",
       "      <td>3696958.0</td>\n",
       "      <td>17.9</td>\n",
       "      <td>18.0</td>\n",
       "      <td>0.463</td>\n",
       "      <td>9.8</td>\n",
       "    </tr>\n",
       "    <tr>\n",
       "      <th>29</th>\n",
       "      <td>Albania</td>\n",
       "      <td>2002</td>\n",
       "      <td>Developing</td>\n",
       "      <td>73.3</td>\n",
       "      <td>15.0</td>\n",
       "      <td>1</td>\n",
       "      <td>3.73</td>\n",
       "      <td>104.516916</td>\n",
       "      <td>46.9</td>\n",
       "      <td>1</td>\n",
       "      <td>6.30</td>\n",
       "      <td>0.1</td>\n",
       "      <td>1453.642777</td>\n",
       "      <td>3511.0</td>\n",
       "      <td>2.0</td>\n",
       "      <td>2.1</td>\n",
       "      <td>0.670</td>\n",
       "      <td>10.7</td>\n",
       "    </tr>\n",
       "    <tr>\n",
       "      <th>33</th>\n",
       "      <td>Algeria</td>\n",
       "      <td>2014</td>\n",
       "      <td>Developing</td>\n",
       "      <td>75.4</td>\n",
       "      <td>11.0</td>\n",
       "      <td>21</td>\n",
       "      <td>0.01</td>\n",
       "      <td>54.237318</td>\n",
       "      <td>58.4</td>\n",
       "      <td>24</td>\n",
       "      <td>7.21</td>\n",
       "      <td>0.1</td>\n",
       "      <td>547.851700</td>\n",
       "      <td>39113313.0</td>\n",
       "      <td>6.0</td>\n",
       "      <td>5.8</td>\n",
       "      <td>0.741</td>\n",
       "      <td>14.4</td>\n",
       "    </tr>\n",
       "    <tr>\n",
       "      <th>54</th>\n",
       "      <td>Angola</td>\n",
       "      <td>2009</td>\n",
       "      <td>Developing</td>\n",
       "      <td>49.1</td>\n",
       "      <td>369.0</td>\n",
       "      <td>81</td>\n",
       "      <td>7.01</td>\n",
       "      <td>212.922933</td>\n",
       "      <td>19.8</td>\n",
       "      <td>127</td>\n",
       "      <td>4.37</td>\n",
       "      <td>2.5</td>\n",
       "      <td>3347.844850</td>\n",
       "      <td>22549547.0</td>\n",
       "      <td>9.3</td>\n",
       "      <td>9.2</td>\n",
       "      <td>0.480</td>\n",
       "      <td>8.5</td>\n",
       "    </tr>\n",
       "    <tr>\n",
       "      <th>78</th>\n",
       "      <td>Antigua and Barbuda</td>\n",
       "      <td>2001</td>\n",
       "      <td>Developing</td>\n",
       "      <td>73.8</td>\n",
       "      <td>154.0</td>\n",
       "      <td>0</td>\n",
       "      <td>7.51</td>\n",
       "      <td>163.767698</td>\n",
       "      <td>38.9</td>\n",
       "      <td>0</td>\n",
       "      <td>4.48</td>\n",
       "      <td>0.1</td>\n",
       "      <td>9358.154162</td>\n",
       "      <td>NaN</td>\n",
       "      <td>3.6</td>\n",
       "      <td>3.5</td>\n",
       "      <td>0.000</td>\n",
       "      <td>0.0</td>\n",
       "    </tr>\n",
       "  </tbody>\n",
       "</table>\n",
       "</div>"
      ],
      "text/plain": [
       "                Country  Year      Status  lifeexp  mortality  infantd  \\\n",
       "3           Afghanistan  2012  Developing     59.5      272.0       69   \n",
       "29              Albania  2002  Developing     73.3       15.0        1   \n",
       "33              Algeria  2014  Developing     75.4       11.0       21   \n",
       "54               Angola  2009  Developing     49.1      369.0       81   \n",
       "78  Antigua and Barbuda  2001  Developing     73.8      154.0        0   \n",
       "\n",
       "    Alcohol  percentage   BMI  under-five  total  HIV/AIDS          GDP  \\\n",
       "3      0.01   78.184215  17.6          93   8.52       0.1   669.959000   \n",
       "29     3.73  104.516916  46.9           1   6.30       0.1  1453.642777   \n",
       "33     0.01   54.237318  58.4          24   7.21       0.1   547.851700   \n",
       "54     7.01  212.922933  19.8         127   4.37       2.5  3347.844850   \n",
       "78     7.51  163.767698  38.9           0   4.48       0.1  9358.154162   \n",
       "\n",
       "    Population  thin1-19  thin5-9  income  Schooling  \n",
       "3    3696958.0      17.9     18.0   0.463        9.8  \n",
       "29      3511.0       2.0      2.1   0.670       10.7  \n",
       "33  39113313.0       6.0      5.8   0.741       14.4  \n",
       "54  22549547.0       9.3      9.2   0.480        8.5  \n",
       "78         NaN       3.6      3.5   0.000        0.0  "
      ]
     },
     "execution_count": 113,
     "metadata": {},
     "output_type": "execute_result"
    }
   ],
   "source": [
    "#Ex1:  Sample 50% of data, but in which income must be greater than the mean\n",
    "cond = df.income > df.income.mean()\n",
    "subset50 = df[cond].sample(frac = 0.5)\n",
    "subset50.shape\n",
    "\n",
    "#Ex2:  For each country, sample only 1 row of data.....\n",
    "#hint: pd.concat([df1, df2, df3......], axis='rows') #or axis=0\n",
    "\n",
    "#1. get the unique countries first\n",
    "countries = df.Country.unique()\n",
    "\n",
    "#2. loop, sample, add them to a list of dataframes\n",
    "somelist = []\n",
    "for country in countries:\n",
    "    cond = df.Country == country\n",
    "    tmp = df[cond].sample(n = 1)\n",
    "    somelist.append(tmp)\n",
    "    \n",
    "#3. concat this list using pd.concat(thislist, axis='rows)\n",
    "#format: pd.concat([list of dataframes], axis='rows/0  or  columns/1\") use rows or 0 are same....\n",
    "new_df = pd.concat(somelist, axis='rows')\n",
    "\n",
    "new_df.head()\n",
    "\n",
    "#11:25...."
   ]
  },
  {
   "cell_type": "code",
   "execution_count": 110,
   "metadata": {},
   "outputs": [
    {
     "data": {
      "text/plain": [
       "Afghanistan      1\n",
       "Lithuania        1\n",
       "Nigeria          1\n",
       "Niue             1\n",
       "Norway           1\n",
       "                ..\n",
       "Grenada          1\n",
       "Guatemala        1\n",
       "Guinea           1\n",
       "Guinea-Bissau    1\n",
       "Zimbabwe         1\n",
       "Name: Country, Length: 193, dtype: int64"
      ]
     },
     "execution_count": 110,
     "metadata": {},
     "output_type": "execute_result"
    }
   ],
   "source": [
    "new_df.Country.value_counts()"
   ]
  },
  {
   "cell_type": "markdown",
   "metadata": {},
   "source": [
    "# Groupby\n",
    "\n",
    "- group some things together\n",
    "- use the function `.grouby`"
   ]
  },
  {
   "cell_type": "code",
   "execution_count": 119,
   "metadata": {},
   "outputs": [
    {
     "data": {
      "text/html": [
       "<div>\n",
       "<style scoped>\n",
       "    .dataframe tbody tr th:only-of-type {\n",
       "        vertical-align: middle;\n",
       "    }\n",
       "\n",
       "    .dataframe tbody tr th {\n",
       "        vertical-align: top;\n",
       "    }\n",
       "\n",
       "    .dataframe thead th {\n",
       "        text-align: right;\n",
       "    }\n",
       "</style>\n",
       "<table border=\"1\" class=\"dataframe\">\n",
       "  <thead>\n",
       "    <tr style=\"text-align: right;\">\n",
       "      <th></th>\n",
       "      <th>lifeexp</th>\n",
       "      <th>BMI</th>\n",
       "    </tr>\n",
       "    <tr>\n",
       "      <th>Country</th>\n",
       "      <th></th>\n",
       "      <th></th>\n",
       "    </tr>\n",
       "  </thead>\n",
       "  <tbody>\n",
       "    <tr>\n",
       "      <th>Afghanistan</th>\n",
       "      <td>931.1</td>\n",
       "      <td>248.3</td>\n",
       "    </tr>\n",
       "    <tr>\n",
       "      <th>Albania</th>\n",
       "      <td>1202.5</td>\n",
       "      <td>785.1</td>\n",
       "    </tr>\n",
       "    <tr>\n",
       "      <th>Algeria</th>\n",
       "      <td>1177.9</td>\n",
       "      <td>779.9</td>\n",
       "    </tr>\n",
       "    <tr>\n",
       "      <th>Angola</th>\n",
       "      <td>784.3</td>\n",
       "      <td>288.3</td>\n",
       "    </tr>\n",
       "    <tr>\n",
       "      <th>Antigua and Barbuda</th>\n",
       "      <td>1200.9</td>\n",
       "      <td>614.8</td>\n",
       "    </tr>\n",
       "    <tr>\n",
       "      <th>...</th>\n",
       "      <td>...</td>\n",
       "      <td>...</td>\n",
       "    </tr>\n",
       "    <tr>\n",
       "      <th>Venezuela (Bolivarian Republic of)</th>\n",
       "      <td>1174.2</td>\n",
       "      <td>871.8</td>\n",
       "    </tr>\n",
       "    <tr>\n",
       "      <th>Viet Nam</th>\n",
       "      <td>1196.4</td>\n",
       "      <td>179.0</td>\n",
       "    </tr>\n",
       "    <tr>\n",
       "      <th>Yemen</th>\n",
       "      <td>1021.8</td>\n",
       "      <td>535.8</td>\n",
       "    </tr>\n",
       "    <tr>\n",
       "      <th>Zambia</th>\n",
       "      <td>862.5</td>\n",
       "      <td>279.2</td>\n",
       "    </tr>\n",
       "    <tr>\n",
       "      <th>Zimbabwe</th>\n",
       "      <td>807.8</td>\n",
       "      <td>402.2</td>\n",
       "    </tr>\n",
       "  </tbody>\n",
       "</table>\n",
       "<p>193 rows × 2 columns</p>\n",
       "</div>"
      ],
      "text/plain": [
       "                                    lifeexp    BMI\n",
       "Country                                           \n",
       "Afghanistan                           931.1  248.3\n",
       "Albania                              1202.5  785.1\n",
       "Algeria                              1177.9  779.9\n",
       "Angola                                784.3  288.3\n",
       "Antigua and Barbuda                  1200.9  614.8\n",
       "...                                     ...    ...\n",
       "Venezuela (Bolivarian Republic of)   1174.2  871.8\n",
       "Viet Nam                             1196.4  179.0\n",
       "Yemen                                1021.8  535.8\n",
       "Zambia                                862.5  279.2\n",
       "Zimbabwe                              807.8  402.2\n",
       "\n",
       "[193 rows x 2 columns]"
      ]
     },
     "execution_count": 119,
     "metadata": {},
     "output_type": "execute_result"
    }
   ],
   "source": [
    "#dataframe.groupby([list of columns])[whatever columns].aggregationfunc()\n",
    "#aggregationfunc() can be sum(), max(), std(), count(), mean(), median()\n",
    "df.groupby(['Country'])[ ['lifeexp', 'BMI'] ].sum()"
   ]
  },
  {
   "cell_type": "code",
   "execution_count": 121,
   "metadata": {},
   "outputs": [],
   "source": [
    "group_obj = df.groupby(['Country'])"
   ]
  },
  {
   "cell_type": "code",
   "execution_count": 127,
   "metadata": {},
   "outputs": [],
   "source": [
    "#this groupby object has some aggregation function that you can use...unlike normal dataframe"
   ]
  },
  {
   "cell_type": "code",
   "execution_count": 130,
   "metadata": {},
   "outputs": [],
   "source": [
    "sum_lifeexp = group_obj['lifeexp'].sum()"
   ]
  },
  {
   "cell_type": "code",
   "execution_count": 137,
   "metadata": {},
   "outputs": [
    {
     "data": {
      "text/plain": [
       "Status\n",
       "Developed     79.197852\n",
       "Developing    67.111465\n",
       "Name: lifeexp, dtype: float64"
      ]
     },
     "execution_count": 137,
     "metadata": {},
     "output_type": "execute_result"
    }
   ],
   "source": [
    "#Ex1:  Groupby developing countries, and developed countries, and find the average life expectancy\n",
    "groupby_obj = df.groupby(['Status'])\n",
    "\n",
    "groupby_obj['lifeexp'].mean()"
   ]
  },
  {
   "cell_type": "markdown",
   "metadata": {},
   "source": [
    "# Fillna, dropna, isna\n",
    "\n",
    "- I will not teach this one...we already know..."
   ]
  },
  {
   "cell_type": "markdown",
   "metadata": {},
   "source": [
    "### Big Exercise"
   ]
  },
  {
   "cell_type": "markdown",
   "metadata": {},
   "source": [
    "# 1. ETL (Load the data) - 10 mins\n",
    "- load the data\n",
    "- understand the data"
   ]
  },
  {
   "cell_type": "code",
   "execution_count": 138,
   "metadata": {},
   "outputs": [
    {
     "data": {
      "text/html": [
       "<div>\n",
       "<style scoped>\n",
       "    .dataframe tbody tr th:only-of-type {\n",
       "        vertical-align: middle;\n",
       "    }\n",
       "\n",
       "    .dataframe tbody tr th {\n",
       "        vertical-align: top;\n",
       "    }\n",
       "\n",
       "    .dataframe thead th {\n",
       "        text-align: right;\n",
       "    }\n",
       "</style>\n",
       "<table border=\"1\" class=\"dataframe\">\n",
       "  <thead>\n",
       "    <tr style=\"text-align: right;\">\n",
       "      <th></th>\n",
       "      <th>gender</th>\n",
       "      <th>age</th>\n",
       "      <th>hypertension</th>\n",
       "      <th>heart_disease</th>\n",
       "      <th>ever_married</th>\n",
       "      <th>work_type</th>\n",
       "      <th>Residence_type</th>\n",
       "      <th>avg_glucose_level</th>\n",
       "      <th>bmi</th>\n",
       "      <th>smoking_status</th>\n",
       "      <th>stroke</th>\n",
       "    </tr>\n",
       "  </thead>\n",
       "  <tbody>\n",
       "    <tr>\n",
       "      <th>0</th>\n",
       "      <td>Male</td>\n",
       "      <td>67.0</td>\n",
       "      <td>0</td>\n",
       "      <td>1</td>\n",
       "      <td>Yes</td>\n",
       "      <td>Private</td>\n",
       "      <td>Urban</td>\n",
       "      <td>228.69</td>\n",
       "      <td>36.6</td>\n",
       "      <td>formerly smoked</td>\n",
       "      <td>1</td>\n",
       "    </tr>\n",
       "    <tr>\n",
       "      <th>1</th>\n",
       "      <td>Male</td>\n",
       "      <td>80.0</td>\n",
       "      <td>0</td>\n",
       "      <td>1</td>\n",
       "      <td>Yes</td>\n",
       "      <td>Private</td>\n",
       "      <td>Rural</td>\n",
       "      <td>105.92</td>\n",
       "      <td>32.5</td>\n",
       "      <td>never smoked</td>\n",
       "      <td>1</td>\n",
       "    </tr>\n",
       "    <tr>\n",
       "      <th>2</th>\n",
       "      <td>Female</td>\n",
       "      <td>49.0</td>\n",
       "      <td>0</td>\n",
       "      <td>0</td>\n",
       "      <td>Yes</td>\n",
       "      <td>Private</td>\n",
       "      <td>Urban</td>\n",
       "      <td>171.23</td>\n",
       "      <td>34.4</td>\n",
       "      <td>smokes</td>\n",
       "      <td>1</td>\n",
       "    </tr>\n",
       "    <tr>\n",
       "      <th>3</th>\n",
       "      <td>Female</td>\n",
       "      <td>79.0</td>\n",
       "      <td>1</td>\n",
       "      <td>0</td>\n",
       "      <td>Yes</td>\n",
       "      <td>Self-employed</td>\n",
       "      <td>Rural</td>\n",
       "      <td>174.12</td>\n",
       "      <td>24.0</td>\n",
       "      <td>never smoked</td>\n",
       "      <td>1</td>\n",
       "    </tr>\n",
       "    <tr>\n",
       "      <th>4</th>\n",
       "      <td>Male</td>\n",
       "      <td>81.0</td>\n",
       "      <td>0</td>\n",
       "      <td>0</td>\n",
       "      <td>Yes</td>\n",
       "      <td>Private</td>\n",
       "      <td>Urban</td>\n",
       "      <td>NaN</td>\n",
       "      <td>29.0</td>\n",
       "      <td>formerly smoked</td>\n",
       "      <td>1</td>\n",
       "    </tr>\n",
       "  </tbody>\n",
       "</table>\n",
       "</div>"
      ],
      "text/plain": [
       "   gender   age  hypertension  heart_disease ever_married      work_type  \\\n",
       "0    Male  67.0             0              1          Yes        Private   \n",
       "1    Male  80.0             0              1          Yes        Private   \n",
       "2  Female  49.0             0              0          Yes        Private   \n",
       "3  Female  79.0             1              0          Yes  Self-employed   \n",
       "4    Male  81.0             0              0          Yes        Private   \n",
       "\n",
       "  Residence_type  avg_glucose_level   bmi   smoking_status  stroke  \n",
       "0          Urban             228.69  36.6  formerly smoked       1  \n",
       "1          Rural             105.92  32.5     never smoked       1  \n",
       "2          Urban             171.23  34.4           smokes       1  \n",
       "3          Rural             174.12  24.0     never smoked       1  \n",
       "4          Urban                NaN  29.0  formerly smoked       1  "
      ]
     },
     "execution_count": 138,
     "metadata": {},
     "output_type": "execute_result"
    }
   ],
   "source": [
    "df = pd.read_csv('data/brain_stroke.csv')\n",
    "df.head()"
   ]
  },
  {
   "cell_type": "code",
   "execution_count": 139,
   "metadata": {},
   "outputs": [
    {
     "data": {
      "text/plain": [
       "Index(['gender', 'age', 'hypertension', 'heart_disease', 'ever_married',\n",
       "       'work_type', 'Residence_type', 'avg_glucose_level', 'bmi',\n",
       "       'smoking_status', 'stroke'],\n",
       "      dtype='object')"
      ]
     },
     "execution_count": 139,
     "metadata": {},
     "output_type": "execute_result"
    }
   ],
   "source": [
    "df.columns"
   ]
  },
  {
   "cell_type": "code",
   "execution_count": 140,
   "metadata": {},
   "outputs": [
    {
     "data": {
      "text/html": [
       "<div>\n",
       "<style scoped>\n",
       "    .dataframe tbody tr th:only-of-type {\n",
       "        vertical-align: middle;\n",
       "    }\n",
       "\n",
       "    .dataframe tbody tr th {\n",
       "        vertical-align: top;\n",
       "    }\n",
       "\n",
       "    .dataframe thead th {\n",
       "        text-align: right;\n",
       "    }\n",
       "</style>\n",
       "<table border=\"1\" class=\"dataframe\">\n",
       "  <thead>\n",
       "    <tr style=\"text-align: right;\">\n",
       "      <th></th>\n",
       "      <th>age</th>\n",
       "      <th>hypertension</th>\n",
       "      <th>heart_disease</th>\n",
       "      <th>avg_glucose_level</th>\n",
       "      <th>bmi</th>\n",
       "      <th>stroke</th>\n",
       "    </tr>\n",
       "  </thead>\n",
       "  <tbody>\n",
       "    <tr>\n",
       "      <th>count</th>\n",
       "      <td>4981.000000</td>\n",
       "      <td>4981.000000</td>\n",
       "      <td>4981.000000</td>\n",
       "      <td>4978.000000</td>\n",
       "      <td>4981.000000</td>\n",
       "      <td>4981.000000</td>\n",
       "    </tr>\n",
       "    <tr>\n",
       "      <th>mean</th>\n",
       "      <td>43.419859</td>\n",
       "      <td>0.096165</td>\n",
       "      <td>0.055210</td>\n",
       "      <td>105.904632</td>\n",
       "      <td>28.498173</td>\n",
       "      <td>0.049789</td>\n",
       "    </tr>\n",
       "    <tr>\n",
       "      <th>std</th>\n",
       "      <td>22.662755</td>\n",
       "      <td>0.294848</td>\n",
       "      <td>0.228412</td>\n",
       "      <td>45.044911</td>\n",
       "      <td>6.790464</td>\n",
       "      <td>0.217531</td>\n",
       "    </tr>\n",
       "    <tr>\n",
       "      <th>min</th>\n",
       "      <td>0.080000</td>\n",
       "      <td>0.000000</td>\n",
       "      <td>0.000000</td>\n",
       "      <td>55.120000</td>\n",
       "      <td>14.000000</td>\n",
       "      <td>0.000000</td>\n",
       "    </tr>\n",
       "    <tr>\n",
       "      <th>25%</th>\n",
       "      <td>25.000000</td>\n",
       "      <td>0.000000</td>\n",
       "      <td>0.000000</td>\n",
       "      <td>77.207500</td>\n",
       "      <td>23.700000</td>\n",
       "      <td>0.000000</td>\n",
       "    </tr>\n",
       "    <tr>\n",
       "      <th>50%</th>\n",
       "      <td>45.000000</td>\n",
       "      <td>0.000000</td>\n",
       "      <td>0.000000</td>\n",
       "      <td>91.850000</td>\n",
       "      <td>28.100000</td>\n",
       "      <td>0.000000</td>\n",
       "    </tr>\n",
       "    <tr>\n",
       "      <th>75%</th>\n",
       "      <td>61.000000</td>\n",
       "      <td>0.000000</td>\n",
       "      <td>0.000000</td>\n",
       "      <td>113.850000</td>\n",
       "      <td>32.600000</td>\n",
       "      <td>0.000000</td>\n",
       "    </tr>\n",
       "    <tr>\n",
       "      <th>max</th>\n",
       "      <td>82.000000</td>\n",
       "      <td>1.000000</td>\n",
       "      <td>1.000000</td>\n",
       "      <td>271.740000</td>\n",
       "      <td>48.900000</td>\n",
       "      <td>1.000000</td>\n",
       "    </tr>\n",
       "  </tbody>\n",
       "</table>\n",
       "</div>"
      ],
      "text/plain": [
       "               age  hypertension  heart_disease  avg_glucose_level  \\\n",
       "count  4981.000000   4981.000000    4981.000000        4978.000000   \n",
       "mean     43.419859      0.096165       0.055210         105.904632   \n",
       "std      22.662755      0.294848       0.228412          45.044911   \n",
       "min       0.080000      0.000000       0.000000          55.120000   \n",
       "25%      25.000000      0.000000       0.000000          77.207500   \n",
       "50%      45.000000      0.000000       0.000000          91.850000   \n",
       "75%      61.000000      0.000000       0.000000         113.850000   \n",
       "max      82.000000      1.000000       1.000000         271.740000   \n",
       "\n",
       "               bmi       stroke  \n",
       "count  4981.000000  4981.000000  \n",
       "mean     28.498173     0.049789  \n",
       "std       6.790464     0.217531  \n",
       "min      14.000000     0.000000  \n",
       "25%      23.700000     0.000000  \n",
       "50%      28.100000     0.000000  \n",
       "75%      32.600000     0.000000  \n",
       "max      48.900000     1.000000  "
      ]
     },
     "execution_count": 140,
     "metadata": {},
     "output_type": "execute_result"
    }
   ],
   "source": [
    "df.describe()"
   ]
  },
  {
   "cell_type": "markdown",
   "metadata": {},
   "source": [
    "# Make them equal first"
   ]
  },
  {
   "cell_type": "code",
   "execution_count": 157,
   "metadata": {},
   "outputs": [
    {
     "data": {
      "text/plain": [
       "0    4733\n",
       "1     248\n",
       "Name: stroke, dtype: int64"
      ]
     },
     "execution_count": 157,
     "metadata": {},
     "output_type": "execute_result"
    }
   ],
   "source": [
    "df.stroke.value_counts()"
   ]
  },
  {
   "cell_type": "code",
   "execution_count": 160,
   "metadata": {},
   "outputs": [
    {
     "data": {
      "text/plain": [
       "0    248\n",
       "1    248\n",
       "Name: stroke, dtype: int64"
      ]
     },
     "execution_count": 160,
     "metadata": {},
     "output_type": "execute_result"
    }
   ],
   "source": [
    "#  VERY IMPORTANT CONCEPT....YOU MUST DO THIS WHEN YOU HAVE imbalanced dataset....\n",
    "cond0 = df.stroke == 0\n",
    "cond1 = df.stroke == 1\n",
    "\n",
    "df_nostroke1   = df[cond0].sample(n=248, random_state=1)\n",
    "df_nostroke2   = df[cond0].sample(n=248, random_state=2)\n",
    "df_nostroke3   = df[cond0].sample(n=248, random_state=3)\n",
    "df_nostroke4   = df[cond0].sample(n=248, random_state=4)\n",
    "df_nostroke5   = df[cond0].sample(n=248, random_state=5)\n",
    "\n",
    "\n",
    "df_withstroke = df[cond1]\n",
    "\n",
    "new_df  = pd.concat([df_nostroke1, df_withstroke])\n",
    "new_df2 = pd.concat([df_nostroke2, df_withstroke])\n",
    "new_df3 = pd.concat([df_nostroke3, df_withstroke])\n",
    "new_df4 = pd.concat([df_nostroke4, df_withstroke])\n",
    "new_df5 = pd.concat([df_nostroke5, df_withstroke])\n",
    "\n",
    "new_df.stroke.value_counts()\n",
    "\n",
    "#once you do this, please run the EDA again....."
   ]
  },
  {
   "cell_type": "markdown",
   "metadata": {},
   "source": [
    "# 2. EDA - 25 mins\n",
    "- try some masking + loc/iloc\n",
    "- try at least one groupby\n",
    "- try some seaborn graph\n",
    "\n",
    "- Example\n",
    "  - you wanna using masking and loc to find out\n",
    "    - whether age impacts stroke\n",
    "    - whether hypertension impacts stroke\n",
    "  - groupby residence_type, and look at the stroke\n",
    "  - groupby work_type, and look at the stroke\n",
    "  - groupby ever_married, and look at the stroke\n",
    "  - just use\n",
    "    - Univariate analysis (analyse one variable)\n",
    "      - `countplot` for continuous variable\n",
    "      - `distplot` for discrete variable\n",
    "    - Multivariate analysis (analyze 2 or more variables)\n",
    "      - `boxplot` for discrete vs. continuous variable\n",
    "      - `scatterplot` for continuous vs. continuous variable"
   ]
  },
  {
   "cell_type": "code",
   "execution_count": 161,
   "metadata": {},
   "outputs": [
    {
     "name": "stdout",
     "output_type": "stream",
     "text": [
      "Probability of getting stroke in non-hypertension case 0.4482758620689655\n",
      "Probability of getting stroke in hypertension case 0.7333333333333333\n"
     ]
    }
   ],
   "source": [
    "cond0 = new_df.hypertension == 0\n",
    "cond1 = new_df.hypertension == 1\n",
    "\n",
    "print(\"Probability of getting stroke in non-hypertension case\", new_df.loc[cond0, 'stroke'].mean())\n",
    "print(\"Probability of getting stroke in hypertension case\",     new_df.loc[cond1, 'stroke'].mean())"
   ]
  },
  {
   "cell_type": "code",
   "execution_count": 162,
   "metadata": {},
   "outputs": [
    {
     "name": "stdout",
     "output_type": "stream",
     "text": [
      "Very young:  0.03508771929824561\n",
      "Middle:  0.24\n",
      "Very old:  0.726643598615917\n"
     ]
    }
   ],
   "source": [
    "new_df.age.describe()\n",
    "#divide into three groups\n",
    "\n",
    "#NO right or wrong.....it depends on your choice...\n",
    "#group 1:  less than (min + std)\n",
    "#group 2:  between (min + std) and (mean)\n",
    "#group 3:  greater than mean\n",
    "\n",
    "cond0  = new_df.age  <  (new_df.age.min() + new_df.age.std())\n",
    "cond1a  = new_df.age >= (new_df.age.min() + new_df.age.std()) #put a bracket if you want two conds in one line....\n",
    "cond1b = new_df.age <= (new_df.age.mean())\n",
    "cond2  = new_df.age >  new_df.age.mean()\n",
    "\n",
    "print(\"Very young: \", new_df.loc[cond0, 'stroke'].mean())\n",
    "print(\"Middle: \",     new_df.loc[cond1a & cond1b, 'stroke'].mean())\n",
    "print(\"Very old: \",   new_df.loc[cond2, 'stroke'].mean())\n",
    "\n",
    "#Age is a very important factor for having stroke....\n"
   ]
  },
  {
   "cell_type": "code",
   "execution_count": null,
   "metadata": {},
   "outputs": [],
   "source": [
    "# df.corr()"
   ]
  },
  {
   "cell_type": "code",
   "execution_count": 163,
   "metadata": {},
   "outputs": [
    {
     "data": {
      "text/plain": [
       "(0.5121951219512195, 0.3790322580645161, 0.5487804878048781)"
      ]
     },
     "execution_count": 163,
     "metadata": {},
     "output_type": "execute_result"
    }
   ],
   "source": [
    "#can you guys try glucose level\n",
    "cond0  = new_df.avg_glucose_level <  new_df.avg_glucose_level.describe()['25%']\n",
    "cond1a = new_df.avg_glucose_level >= new_df.avg_glucose_level.describe()['25%']\n",
    "cond1b = new_df.avg_glucose_level <= new_df.avg_glucose_level.describe()['50%']\n",
    "cond2  = new_df.avg_glucose_level >  new_df.avg_glucose_level.describe()['50%']\n",
    "\n",
    "new_df.loc[cond0, 'stroke'].mean(), new_df.loc[cond1a & cond1b, 'stroke'].mean(), new_df.loc[cond2, 'stroke'].mean()"
   ]
  },
  {
   "cell_type": "code",
   "execution_count": 164,
   "metadata": {},
   "outputs": [
    {
     "data": {
      "text/plain": [
       "(nan, 0.4652777777777778, 0.734375)"
      ]
     },
     "execution_count": 164,
     "metadata": {},
     "output_type": "execute_result"
    }
   ],
   "source": [
    "#try heart disease....\n",
    "cond0  = new_df.heart_disease <  new_df.heart_disease.describe()['25%']\n",
    "cond1a = new_df.heart_disease >= new_df.heart_disease.describe()['25%']\n",
    "cond1b = new_df.heart_disease <= new_df.heart_disease.describe()['50%']\n",
    "cond2  = new_df.heart_disease >  new_df.heart_disease.describe()['50%']\n",
    "\n",
    "new_df.loc[cond0, 'stroke'].mean(), new_df.loc[cond1a & cond1b, 'stroke'].mean(), new_df.loc[cond2, 'stroke'].mean()\n",
    "\n",
    "#press one variable, and do Cltr/Cmd + D\n",
    "#heart disease is a very important factor!!!"
   ]
  },
  {
   "cell_type": "code",
   "execution_count": 141,
   "metadata": {},
   "outputs": [
    {
     "data": {
      "text/plain": [
       "Index(['gender', 'age', 'hypertension', 'heart_disease', 'ever_married',\n",
       "       'work_type', 'Residence_type', 'avg_glucose_level', 'bmi',\n",
       "       'smoking_status', 'stroke'],\n",
       "      dtype='object')"
      ]
     },
     "execution_count": 141,
     "metadata": {},
     "output_type": "execute_result"
    }
   ],
   "source": [
    "df.columns"
   ]
  },
  {
   "cell_type": "markdown",
   "metadata": {},
   "source": [
    "  - groupby residence_type, and look at the stroke\n",
    "  - groupby work_type, and look at the stroke\n",
    "  - groupby ever_married, and look at the stroke"
   ]
  },
  {
   "cell_type": "code",
   "execution_count": 165,
   "metadata": {},
   "outputs": [
    {
     "data": {
      "text/plain": [
       "Residence_type\n",
       "Rural    0.514151\n",
       "Urban    0.482143\n",
       "Name: stroke, dtype: float64"
      ]
     },
     "execution_count": 165,
     "metadata": {},
     "output_type": "execute_result"
    }
   ],
   "source": [
    "new_df.groupby(['Residence_type'])['stroke'].mean()\n",
    "#do this same for work_type and ever_married"
   ]
  },
  {
   "cell_type": "code",
   "execution_count": 167,
   "metadata": {},
   "outputs": [
    {
     "data": {
      "text/plain": [
       "work_type\n",
       "Govt_job         0.450704\n",
       "Private          0.503497\n",
       "Self-employed    0.659794\n",
       "children         0.055556\n",
       "Name: stroke, dtype: float64"
      ]
     },
     "execution_count": 167,
     "metadata": {},
     "output_type": "execute_result"
    }
   ],
   "source": [
    "new_df.groupby(['work_type'])['stroke'].mean()"
   ]
  },
  {
   "cell_type": "code",
   "execution_count": 168,
   "metadata": {},
   "outputs": [
    {
     "data": {
      "text/plain": [
       "ever_married\n",
       "No     0.266055\n",
       "Yes    0.565891\n",
       "Name: stroke, dtype: float64"
      ]
     },
     "execution_count": 168,
     "metadata": {},
     "output_type": "execute_result"
    }
   ],
   "source": [
    "new_df.groupby(['ever_married'])['stroke'].mean()"
   ]
  },
  {
   "cell_type": "code",
   "execution_count": null,
   "metadata": {},
   "outputs": [],
   "source": [
    "#Why our mean() is so low.....???\n",
    "#the answer is we have much more 'no stroke' compared to 'stroke', that's why the number is so small\n",
    "#we can first sample equal amount of stroke vs. no stroke\n",
    "#and then do everything again - check mean() again...."
   ]
  },
  {
   "cell_type": "code",
   "execution_count": 156,
   "metadata": {},
   "outputs": [
    {
     "data": {
      "text/plain": [
       "0    4733\n",
       "1     248\n",
       "Name: stroke, dtype: int64"
      ]
     },
     "execution_count": 156,
     "metadata": {},
     "output_type": "execute_result"
    }
   ],
   "source": [
    "df.stroke.value_counts()"
   ]
  },
  {
   "cell_type": "markdown",
   "metadata": {},
   "source": [
    "Conclusion:\n",
    "    - Age is important\n",
    "    - Hypertension is important\n",
    "    - Heart disease is important"
   ]
  },
  {
   "cell_type": "markdown",
   "metadata": {},
   "source": [
    "# 3. Feature Selection  - 10 mins\n",
    "- Set the X using the top three features of your choice\n",
    "- Set the y\n",
    "- Split the dataset into training and testing"
   ]
  },
  {
   "cell_type": "code",
   "execution_count": null,
   "metadata": {},
   "outputs": [],
   "source": [
    "#Why split first, before cleaning.....\n",
    "\n",
    "#THIS IS VERY IMPORTANT....you MUST ALWAYS SPLIT FIRST, BEFORE DOING ANY PREPROCESSING\n",
    "\n",
    "#why: \n",
    "#  because if you do preprocessing first, then split, you will have a problem called **Data Leakage**\n",
    "\n",
    "#Data Leakage is the situation in which some information of your test set flows to your training set....\n",
    "\n",
    "#e.g., if you standardize first, your whole data is actually a mix of training and testing set...."
   ]
  },
  {
   "cell_type": "code",
   "execution_count": 169,
   "metadata": {},
   "outputs": [],
   "source": [
    "X = df[  ['age', 'hypertension', 'heart_disease'] ]\n",
    "#i want to be clear why I use big X\n",
    "#big X means a matrix or 2-dimensional.....-->math notations\n",
    "y = df['stroke']\n",
    "#i use small y because y here is one-dimensional\n",
    "\n",
    "#recall that for sklearn\n",
    "#X must be 2 dimensional\n",
    "#y should be 1 dimensional (but sometimes 2 dimensional.....)\n",
    "assert X.ndim == 2\n",
    "assert y.ndim == 1\n",
    "\n",
    "#split.....\n",
    "from sklearn.model_selection import train_test_split\n",
    "X_train, X_test, y_train, y_test = train_test_split(X, y, test_size=0.3, random_state=9999)\n"
   ]
  },
  {
   "cell_type": "markdown",
   "metadata": {},
   "source": [
    "# 5. Preprocessing - 25 mins\n",
    "- Fill the missing values, if any\n",
    "- Standardize your data"
   ]
  },
  {
   "cell_type": "code",
   "execution_count": null,
   "metadata": {},
   "outputs": [],
   "source": [
    "#fill first or standardize first\n",
    "#if you fill with mean(), it does not matter - fill or standardize first is the same\n",
    "#if you fill with median(), you MUST fill first, then standardize\n",
    "\n",
    "#to fill whether with mean or median, we look at the distribution\n",
    "#if it is (quite) normal, we fill with mean\n",
    "#if not (most of the time), we fill with median"
   ]
  },
  {
   "cell_type": "code",
   "execution_count": 172,
   "metadata": {},
   "outputs": [
    {
     "data": {
      "text/plain": [
       "age              0\n",
       "hypertension     0\n",
       "heart_disease    0\n",
       "dtype: int64"
      ]
     },
     "execution_count": 172,
     "metadata": {},
     "output_type": "execute_result"
    }
   ],
   "source": [
    "X_train.isna().sum()"
   ]
  },
  {
   "cell_type": "code",
   "execution_count": 174,
   "metadata": {},
   "outputs": [
    {
     "name": "stderr",
     "output_type": "stream",
     "text": [
      "<ipython-input-174-d16fd3a71e79>:3: SettingWithCopyWarning: \n",
      "A value is trying to be set on a copy of a slice from a DataFrame\n",
      "\n",
      "See the caveats in the documentation: https://pandas.pydata.org/pandas-docs/stable/user_guide/indexing.html#returning-a-view-versus-a-copy\n",
      "  X_train['age'].fillna(X_train['age'].median(), inplace=True)\n"
     ]
    }
   ],
   "source": [
    "# import seaborn as sns\n",
    "# sns.displot(X_train['age'])\n",
    "X_train['age'].fillna(X_train['age'].median(), inplace=True)\n",
    "\n",
    "#to fill missing value for X_test, you MUST USE the statistics from the training set....\n",
    "#so that they are in the same distribution....\n",
    "#but remember, never allow any information of test set flows to training set.....\n",
    "X_test['age'].fillna(X_train['age'].median(), inplace=True)"
   ]
  },
  {
   "cell_type": "code",
   "execution_count": 185,
   "metadata": {},
   "outputs": [
    {
     "data": {
      "text/plain": [
       "array([1, 0])"
      ]
     },
     "execution_count": 185,
     "metadata": {},
     "output_type": "execute_result"
    }
   ],
   "source": [
    "X_train['hypertension'].unique()\n",
    "#hypertension is a categorical / discrete variable, NOT CONTINUOUS\n",
    "#so it does not make sense to fill with mean / median\n",
    "\n",
    "#many ways to fill categorical / discrete variable\n",
    "#1. the most common category - .mode()[0]\n",
    "#2. just set to \"No category\" - when you are not sture\n",
    "#3. set so that the ratio of categories don't change (I will teach you this next week....)"
   ]
  },
  {
   "cell_type": "code",
   "execution_count": 180,
   "metadata": {},
   "outputs": [
    {
     "name": "stderr",
     "output_type": "stream",
     "text": [
      "<ipython-input-180-2f76a81778ff>:4: SettingWithCopyWarning: \n",
      "A value is trying to be set on a copy of a slice from a DataFrame\n",
      "\n",
      "See the caveats in the documentation: https://pandas.pydata.org/pandas-docs/stable/user_guide/indexing.html#returning-a-view-versus-a-copy\n",
      "  X_train['hypertension'].fillna(X_train['hypertension'].mode()[0], inplace=True)\n"
     ]
    }
   ],
   "source": [
    "# import seaborn as sns\n",
    "# sns.displot(X_train['hypertension'])\n",
    "# X_train['hypertension'].mean(), X_train['hypertension'].median(), X_train['hypertension'].mode()[0]\n",
    "X_train['hypertension'].fillna(X_train['hypertension'].mode()[0], inplace=True)\n",
    "X_test['hypertension'].fillna(X_train['hypertension'].median(), inplace=True)"
   ]
  },
  {
   "cell_type": "code",
   "execution_count": 182,
   "metadata": {},
   "outputs": [
    {
     "name": "stderr",
     "output_type": "stream",
     "text": [
      "<ipython-input-182-6ffa03342a7e>:4: SettingWithCopyWarning: \n",
      "A value is trying to be set on a copy of a slice from a DataFrame\n",
      "\n",
      "See the caveats in the documentation: https://pandas.pydata.org/pandas-docs/stable/user_guide/indexing.html#returning-a-view-versus-a-copy\n",
      "  X_train['heart_disease'].fillna(X_train['heart_disease'].mode()[0], inplace=True)\n"
     ]
    }
   ],
   "source": [
    "# import seaborn as sns\n",
    "# sns.displot(X_train['heart_disease'])\n",
    "# X_train['heart_disease'].mean(), X_train['heart_disease'].median(), X_train['heart_disease'].mode()[0]\n",
    "# use mode for discrete feature, use mean/median for continuous features.....\n",
    "X_train['heart_disease'].fillna(X_train['heart_disease'].mode()[0], inplace=True)\n",
    "X_test['heart_disease'].fillna(X_train['heart_disease'].mode()[0], inplace=True)"
   ]
  },
  {
   "cell_type": "code",
   "execution_count": 184,
   "metadata": {},
   "outputs": [],
   "source": [
    "y_train.isna().sum()\n",
    "y_train.fillna(y_train.mode()[0], inplace=True)\n",
    "y_test.fillna(y_train.mode()[0], inplace=True)"
   ]
  },
  {
   "cell_type": "code",
   "execution_count": 186,
   "metadata": {},
   "outputs": [
    {
     "data": {
      "text/plain": [
       "array([[-1., -1.],\n",
       "       [-1., -1.],\n",
       "       [ 1.,  1.],\n",
       "       [ 1.,  1.]])"
      ]
     },
     "execution_count": 186,
     "metadata": {},
     "output_type": "execute_result"
    }
   ],
   "source": [
    "from sklearn.preprocessing import StandardScaler\n",
    "\n",
    "sample_data = [[   1, 2], [1, 2], [3, 4], [3, 4]   ]\n",
    "#imagine this data has four samples\n",
    "#the first feature is 1, 1, 3, 3\n",
    "#the second feature is 2, 2, 4, 4\n",
    "\n",
    "#-1 comes from\n",
    "# take the mean of first feature 1 + 1 + 3 + 3 / 4 = 2\n",
    "# format: number - mean / std\n",
    "# (1 - 2) / std ; (1 - 2) / std; (3 - 1) / std; (3 - 1) / std\n",
    "#standardization happens independently of each feature\n",
    "\n",
    "sc = StandardScaler()\n",
    "result = sc.fit_transform(sample_data)\n",
    "result"
   ]
  },
  {
   "cell_type": "code",
   "execution_count": 187,
   "metadata": {},
   "outputs": [
    {
     "data": {
      "text/plain": [
       "<seaborn.axisgrid.FacetGrid at 0x129488f70>"
      ]
     },
     "execution_count": 187,
     "metadata": {},
     "output_type": "execute_result"
    },
    {
     "data": {
      "image/png": "[encoded data removed]",
      "text/plain": [
       "<Figure size 360x360 with 1 Axes>"
      ]
     },
     "metadata": {
      "needs_background": "light"
     },
     "output_type": "display_data"
    }
   ],
   "source": [
    "sns.displot(X_train.age)"
   ]
  },
  {
   "cell_type": "code",
   "execution_count": null,
   "metadata": {},
   "outputs": [],
   "source": [
    "#fit_transform\n",
    "#fit means learn the mean and std\n",
    "#transform means calculation\n",
    "X_train = sc.fit_transform(X_train)\n",
    "\n",
    "#when we only called transform, it will use the mean and std from X_train\n",
    "X_test  = sc.transform(X_test)\n",
    "\n",
    "#do you need to standardize y, NO, because y is NOT used in training...\n",
    "\n",
    "#StandardScaler should be used when your data follows the mean a little bit....\n",
    "#sometime, your data is VERY noisy, like heart beat, or brain signal or stock price....\n",
    "#then you don't standardize, because the mean is NOT a good representation....\n",
    "#in this case, use minmaxscaler\n",
    "# from sklearn.preprocessing import MinMaxScaler\n",
    "\n",
    "# number - min / (max + min) => 0 to 1  #it's like compressing the value.."
   ]
  },
  {
   "cell_type": "markdown",
   "metadata": {},
   "source": [
    "# 6. Perform machine learning using sklearn.LogisticRegression - 15 mins\n",
    "- fit\n",
    "- predict"
   ]
  },
  {
   "cell_type": "code",
   "execution_count": 188,
   "metadata": {},
   "outputs": [
    {
     "data": {
      "text/plain": [
       "0.9498327759197325"
      ]
     },
     "execution_count": 188,
     "metadata": {},
     "output_type": "execute_result"
    }
   ],
   "source": [
    "from sklearn.linear_model import LogisticRegression\n",
    "from sklearn.metrics import accuracy_score\n",
    "\n",
    "#define the model\n",
    "lr = LogisticRegression()\n",
    "\n",
    "#this is the wrong way\n",
    "#you should have used cross-validation\n",
    "######################\n",
    "\n",
    "#fit - learn \n",
    "lr.fit(X_train, y_train)\n",
    "\n",
    "########################\n",
    "\n",
    "#try to predict\n",
    "yhat = lr.predict(X_test)\n",
    "\n",
    "#check how close is yhat (predicted) with the actual\n",
    "accuracy_score(y_test, yhat)  #out of 100\n"
   ]
  },
  {
   "cell_type": "code",
   "execution_count": null,
   "metadata": {},
   "outputs": [],
   "source": []
  }
 ],
 "metadata": {
  "kernelspec": {
   "display_name": "Python 3.8.6 ('teaching_env')",
   "language": "python",
   "name": "python3"
  },
  "language_info": {
   "codemirror_mode": {
    "name": "ipython",
    "version": 3
   },
   "file_extension": ".py",
   "mimetype": "text/x-python",
   "name": "python",
   "nbconvert_exporter": "python",
   "pygments_lexer": "ipython3",
   "version": "3.8.6"
  },
  "orig_nbformat": 4,
  "vscode": {
   "interpreter": {
    "hash": "becc4c8e5ad229b2591d820334d85e3db0111492344629bf57f272470dce75a5"
   }
  }
 },
 "nbformat": 4,
 "nbformat_minor": 2
}
